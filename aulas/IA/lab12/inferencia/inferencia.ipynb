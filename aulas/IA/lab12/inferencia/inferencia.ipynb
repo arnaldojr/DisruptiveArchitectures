{
 "cells": [
  {
   "cell_type": "markdown",
   "metadata": {},
   "source": [
    "# Testando inferência no TensorFlow Serving via REST API\n",
    "\n",
    "Este notebook consome o modelo MNIST servido localmente via TensorFlow Serving REST (Bitnami)."
   ]
  },
  {
   "cell_type": "code",
   "execution_count": 1,
   "metadata": {},
   "outputs": [],
   "source": [
    "# Importando dependências\n",
    "import numpy as np\n",
    "import requests\n",
    "import json\n",
    "from tensorflow import keras\n",
    "import matplotlib.pyplot as plt"
   ]
  },
  {
   "cell_type": "markdown",
   "metadata": {},
   "source": [
    "## Carregando dados de teste (MNIST)"
   ]
  },
  {
   "cell_type": "code",
   "execution_count": 2,
   "metadata": {},
   "outputs": [
    {
     "name": "stdout",
     "output_type": "stream",
     "text": [
      "Tamanho do x_test: (10000, 28, 28)\n"
     ]
    }
   ],
   "source": [
    "# Carregar dados de teste\n",
    "(x_train, y_train), (x_test, y_test) = keras.datasets.mnist.load_data()\n",
    "x_test = x_test / 255.0\n",
    "print(f'Tamanho do x_test: {x_test.shape}')"
   ]
  },
  {
   "cell_type": "markdown",
   "metadata": {},
   "source": [
    "## Função para inferência via REST API"
   ]
  },
  {
   "cell_type": "code",
   "execution_count": 3,
   "metadata": {},
   "outputs": [],
   "source": [
    "def predict_mnist_rest(images, url=\"http://localhost:8501/v1/models/mnist:predict\"):\n",
    "    # images: array shape (N,28,28)\n",
    "    payload = json.dumps({\"instances\": images.tolist()})\n",
    "    response = requests.post(url, data=payload, headers={\"content-type\": \"application/json\"})\n",
    "    result = response.json()\n",
    "    return np.array(result[\"predictions\"])"
   ]
  },
  {
   "cell_type": "markdown",
   "metadata": {},
   "source": [
    "## Testando uma única imagem"
   ]
  },
  {
   "cell_type": "code",
   "execution_count": 4,
   "metadata": {},
   "outputs": [
    {
     "name": "stdout",
     "output_type": "stream",
     "text": [
      "Predito: 8 | Real: 8\n"
     ]
    },
    {
     "data": {
      "image/png": "[encoded data removed]",
      "text/plain": [
       "<Figure size 640x480 with 1 Axes>"
      ]
     },
     "metadata": {},
     "output_type": "display_data"
    }
   ],
   "source": [
    "idx = 2093\n",
    "img = x_test[idx:idx+1]  # shape (1,28,28)\n",
    "pred = predict_mnist_rest(img)\n",
    "pred_label = np.argmax(pred[0])\n",
    "print(f\"Predito: {pred_label} | Real: {y_test[idx]}\")\n",
    "plt.imshow(x_test[idx], cmap='gray')\n",
    "plt.title(f\"Predito: {pred_label} | Real: {y_test[idx]}\")\n",
    "plt.axis('off')\n",
    "plt.show()"
   ]
  },
  {
   "cell_type": "markdown",
   "metadata": {},
   "source": [
    "## Testando várias imagens (batch prediction)"
   ]
  },
  {
   "cell_type": "code",
   "execution_count": 10,
   "metadata": {},
   "outputs": [
    {
     "name": "stdout",
     "output_type": "stream",
     "text": [
      "Labels preditos: [3 5 1 2 4 4 6 3 5 5 6 0 4 1 9 5 7 8 9 3 7 4 6 4 3 0 7 0 2 9 1 7 3 2 9 7 7\n",
      " 6 2 7 8 4 7 3 6 1 3 6 9 3 1 4 1 7 6 9 6 0 5 4 9 9 2 1 9 4 8 7 3 9 7 4 4 4\n",
      " 9 2 5 4 7 6 7 9 0 5 8 5 6 6 5 7 8 1 0 1 6 4 6 7 3 1 7 1 8 2 0 2 9 9 5 5 1\n",
      " 5 6 0 3 4 4 6 5 4 6 5 4 5 1 4 4 7 2 3 2 7 1 8 1 8 1 8 5 0 8 9 2 5 0 1 1 1\n",
      " 0 9 0 3 1 6 4 2]\n",
      "Labels reais   : [3 5 1 2 4 4 6 3 5 5 6 0 4 1 9 5 7 8 9 3 7 4 6 4 3 0 7 0 2 9 1 7 3 2 9 7 7\n",
      " 6 2 7 8 4 7 3 6 1 3 6 9 3 1 4 1 7 6 9 6 0 5 4 9 9 2 1 9 4 8 7 3 9 7 4 4 4\n",
      " 9 2 5 4 7 6 7 9 0 5 8 5 6 6 5 7 8 1 0 1 6 4 6 7 3 1 7 1 8 2 0 2 9 9 5 5 1\n",
      " 5 6 0 3 4 4 6 5 4 6 5 4 5 1 4 4 7 2 3 2 7 1 8 1 8 1 8 5 0 8 9 2 5 0 1 1 1\n",
      " 0 9 0 3 1 6 4 2]\n",
      "Acurácia neste batch: 100.00%\n"
     ]
    }
   ],
   "source": [
    "batch = x_test[44:200]\n",
    "true_labels = y_test[44:200]\n",
    "preds = predict_mnist_rest(batch)\n",
    "pred_labels = np.argmax(preds, axis=1)\n",
    "\n",
    "print(\"Labels preditos:\", pred_labels)\n",
    "print(\"Labels reais   :\", true_labels)\n",
    "acc = np.mean(pred_labels == true_labels)\n",
    "print(f\"Acurácia neste batch: {acc:.2%}\")"
   ]
  },
  {
   "cell_type": "markdown",
   "metadata": {},
   "source": [
    "## Visualizando erros (se houver)"
   ]
  },
  {
   "cell_type": "code",
   "execution_count": 11,
   "metadata": {},
   "outputs": [
    {
     "name": "stdout",
     "output_type": "stream",
     "text": [
      "Sem erros neste batch!\n"
     ]
    }
   ],
   "source": [
    "erros = np.where(pred_labels != true_labels)[0]\n",
    "if len(erros) == 0:\n",
    "    print(\"Sem erros neste batch!\")\n",
    "else:\n",
    "    for i in erros:\n",
    "        plt.imshow(batch[i], cmap='gray')\n",
    "        plt.title(f\"Predito: {pred_labels[i]} | Real: {true_labels[i]}\")\n",
    "        plt.axis('off')\n",
    "        plt.show()"
   ]
  }
 ],
 "metadata": {
  "kernelspec": {
   "display_name": "Python 3",
   "language": "python",
   "name": "python3"
  },
  "language_info": {
   "codemirror_mode": {
    "name": "ipython",
    "version": 3
   },
   "file_extension": ".py",
   "mimetype": "text/x-python",
   "name": "python",
   "nbconvert_exporter": "python",
   "pygments_lexer": "ipython3",
   "version": "3.9.6"
  }
 },
 "nbformat": 4,
 "nbformat_minor": 5
}
