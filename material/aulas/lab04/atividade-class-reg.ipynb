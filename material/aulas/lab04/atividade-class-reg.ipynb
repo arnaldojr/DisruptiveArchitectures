{
 "cells": [
  {
   "cell_type": "markdown",
   "metadata": {},
   "source": [
    "## Objetivos\n",
    "\n",
    "  - Retomar alguns conceitos relacionados a ML\n",
    "  - Praticar análise de dados em dataframes \n",
    "  - Praticar a utilização das bibliotecas Pandas, Numpy, Matplotlib e sklearn\n",
    "  - Praticar a avaliação de modelos de ML "
   ]
  },
  {
   "cell_type": "markdown",
   "metadata": {},
   "source": [
    "## Atividade pratica de ML\n",
    "\n",
    "Antes de começarmos a nos aprofundar no tema da trilha de ML é importante avaliarmos se estamos conseguindo compreender o que estamos estudando, sabendo disso, vamos praticar os conceitos vistos até o momento desenvolvento está atividade end-to-end."
   ]
  },
  {
   "cell_type": "markdown",
   "metadata": {},
   "source": [
    "## Trabalhando com dataframes\n",
    "\n",
    "Vamos usar o `PANDAS`\n",
    "\n",
    "Veja mais em: https://pandas.pydata.org/pandas-docs/stable/generated/pandas.DataFrame.html"
   ]
  },
  {
   "cell_type": "markdown",
   "metadata": {},
   "source": [
    "## Etapas:\n",
    "\n",
    "Carregar e visualizar o conteúdo do dataset `.....escolha um dataset....`\n",
    "Passos que seguiremos:\n",
    "\n",
    "1. Carregar o arquivo de dados do dataset em um DataFrame do `pandas`.\n",
    "\n",
    "2. Identificar os atributos do DataFrame\n",
    "\n",
    "3. Acessar os dados do DataFrame"
   ]
  },
  {
   "cell_type": "markdown",
   "metadata": {},
   "source": [
    "### Passo 1: Importar o arquivo de dados\n",
    "\n",
    " Escolha uma base de dados **não utilizada** até o momento em aula.\n",
    "\n",
    "Existem muitos repositórios com base de dados para estudo, abaixo tem apenas algumas sugestões:\n",
    "\n",
    "- https://scikit-learn.org/stable/datasets/toy_dataset.html\n",
    "- https://archive.ics.uci.edu/ml/datasets.php\n",
    "- https://archive-beta.ics.uci.edu/\n",
    "- https://www.datasetlist.com/\n",
    "- https://www.kaggle.com/\n"
   ]
  },
  {
   "cell_type": "markdown",
   "metadata": {},
   "source": [
    "Como estamos começando nossos estudos sugiro utilizar base de dados mais simples abaixo tem um ***Top 10 - Bases de Dados para começar***\n",
    "\n",
    "1. Iris (classificação)\n",
    "https://archive.ics.uci.edu/ml/datasets/iris\n",
    "\n",
    "2. Boston (regressão)\n",
    "https://scikit-learn.org/stable/modules/generated/sklearn.datasets.load_boston.html\n",
    "\n",
    "3. Diabetes (regressão)\n",
    "https://archive.ics.uci.edu/ml/datasets/diabetes\n",
    "\n",
    "4. Digits (imagens)\n",
    "http://yann.lecun.com/exdb/mnist/\n",
    "\n",
    "5. Wine (classificação)\n",
    "https://archive.ics.uci.edu/ml/datasets/Wine\n",
    "\n",
    "6. Breast cancer (classificação)\n",
    "https://archive.ics.uci.edu/ml/datasets/Breast+Cancer+Wisconsin+%28Diagnostic%29\n",
    "\n",
    "7. Olivetti (classificação)\n",
    "https://scikit-learn.org/stable/modules/generated/sklearn.datasets.fetch_olivetti_faces.html\n",
    "\n",
    "8. California (regressão)\n",
    "https://www.kaggle.com/camnugent/california-housing-prices\n",
    "\n",
    "9. Netflix (recomendação)\n",
    "https://www.kaggle.com/netflix-inc/netflix-prize-data\n",
    "\n",
    "10. Twitter US Airline (texto)\n",
    "https://www.kaggle.com/crowdflower/twitter-airline-sentiment"
   ]
  },
  {
   "cell_type": "code",
   "execution_count": 1,
   "metadata": {},
   "outputs": [],
   "source": [
    "%matplotlib inline\n",
    "import numpy as np\n",
    "import matplotlib.pyplot as plt\n",
    "\n",
    "import pandas as pd"
   ]
  },
  {
   "cell_type": "code",
   "execution_count": 2,
   "metadata": {},
   "outputs": [],
   "source": [
    "## CARREGUE O DATASET ESCOLHIDO (utilize quantas celulas quiser para isso...)\n",
    "\n",
    "\n",
    "\n",
    "\n",
    "\n",
    "\n",
    "\n",
    "\n",
    "\n"
   ]
  },
  {
   "cell_type": "markdown",
   "metadata": {},
   "source": [
    "### Passo 2. Identificar os atributos (colunas) do data frame\n",
    "\n",
    "Neste ponto podemos relembrar os métodos utilizados nas ultimas aulas para identificar informações sobre o dataframe, como quantidade de linhas, colunos, se existe dados faltantes, tipo dos dados....\n",
    "\n",
    "Faça um print das 5 primeiras linhas do dataframe para certificar que as informações estão corretas.\n"
   ]
  },
  {
   "cell_type": "code",
   "execution_count": 3,
   "metadata": {},
   "outputs": [],
   "source": [
    "## EXIBA INFORMAÇÕES SOBRE O DATASET ESCOLHIDO (utilize quantas celulas quiser para isso...)\n",
    "\n",
    "\n",
    "\n",
    "\n",
    "\n",
    "\n",
    "\n",
    "\n",
    "\n"
   ]
  },
  {
   "cell_type": "markdown",
   "metadata": {},
   "source": [
    "### Responda:\n",
    "\n",
    "\n",
    "1. Quantos dados existem nesse dataset?\n",
    "\n",
    "R: \n",
    "\n",
    "2. Qual a quantidade de atributos?\n",
    "\n",
    "R: \n",
    "\n",
    "3. Existe valores faltantes?\n",
    "\n",
    "R: \n",
    "\n",
    "4. De que tipo são os dados (dtype) dos atributos?\n",
    "\n",
    "R: \n",
    "\n",
    "5. Existe outliers?\n",
    "\n",
    "R:\n"
   ]
  },
  {
   "cell_type": "markdown",
   "metadata": {},
   "source": [
    "### Análise Exploratória de dados:\n",
    "\n",
    "\n",
    "Faça uma exploração dos dados com base em informações estaticas e gráficas. \n",
    "\n",
    "Como sugestão, faça uso do **matplotlib** ou o **seaborn** para isso."
   ]
  },
  {
   "cell_type": "code",
   "execution_count": 4,
   "metadata": {},
   "outputs": [],
   "source": [
    "## EXIBA OS GRÁFICOS PARA REALIZAR UMA ANÁLISE EXPLORATORIA NO DADOS (utilize quantas celulas quiser para isso...)\n",
    "\n",
    "\n",
    "\n",
    "\n",
    "\n",
    "\n",
    "\n",
    "\n",
    "\n"
   ]
  },
  {
   "cell_type": "markdown",
   "metadata": {},
   "source": [
    "### Passo 3. Acessando dados de um Dataframe\n",
    "\n",
    "Relembre como criar acessar o conteudo de um dataframe acessando atraves de seu indice coluna. \n",
    "\n",
    "Agora que já conheço os seus dados, crie um subset do dataset original apenas com os atributos que jugar importante para a criação do modelo de machine learning."
   ]
  },
  {
   "cell_type": "code",
   "execution_count": 5,
   "metadata": {},
   "outputs": [],
   "source": [
    "## EXIBA INFORMAÇÕES SOBRE O SUBSET RESULTANTE (utilize quantas celulas quiser para isso...)\n",
    "\n",
    "\n",
    "\n",
    "\n",
    "\n",
    "\n",
    "\n",
    "\n"
   ]
  },
  {
   "cell_type": "markdown",
   "metadata": {},
   "source": [
    "### Responda:\n",
    "\n",
    "\n",
    "1. Quantos atributos possui o subset?\n",
    "\n",
    "R: \n",
    "\n",
    "2. Os dados são do tipo continua ou categorica?\n",
    "\n",
    "R: \n",
    "\n",
    "3. É necessário normalizar os dados?\n",
    "\n",
    "R: \n",
    "\n",
    "4. Os dados estão rotulados?\n",
    "\n",
    "R: \n",
    "\n",
    "5. É um problema de Aprendizado supervisionado ou não-supervisionado?\n",
    "\n",
    "R:\n",
    "\n",
    "6. Classificação, regressão, clusterização?\n",
    "\n",
    "R:\n",
    "\n",
    "7. Quais são as variaveis dependentes e independentes?\n",
    "\n",
    "R:\n"
   ]
  },
  {
   "cell_type": "markdown",
   "metadata": {},
   "source": [
    "## Trabalhando com modelos de ML\n",
    "\n",
    "Vamos usar o `sklearn`\n",
    "\n",
    "## Etapas:\n",
    "\n",
    "Passos que seguiremos:\n",
    "\n",
    "1. Dividir os dados em treino e teste.\n",
    "\n",
    "2. Treinar o modelo de ML\n",
    "\n",
    "3. Testar o modelo treinado\n",
    "\n",
    "4. Avaliar os resultados\n"
   ]
  },
  {
   "cell_type": "markdown",
   "metadata": {},
   "source": [
    "### Passo 1. Dividindo os dados de treino e teste\n",
    "\n",
    "Responda por que separamos nosso conjunto de dados em treino e teste.\n",
    "\n",
    "R: "
   ]
  },
  {
   "cell_type": "code",
   "execution_count": 6,
   "metadata": {},
   "outputs": [],
   "source": [
    "from sklearn.model_selection import train_test_split"
   ]
  },
  {
   "cell_type": "code",
   "execution_count": 7,
   "metadata": {},
   "outputs": [],
   "source": [
    "## Faça o split dos dados em 80/20. Seu código aqui....\n",
    "\n",
    "\n"
   ]
  },
  {
   "cell_type": "markdown",
   "metadata": {},
   "source": [
    "### Passo 2. Treinamento do modelo de ML\n",
    "\n",
    "Lembre-se do método `fit()`\n",
    "\n",
    "**1. Qual algoritimo de ML será aplicado? E por que?**\n",
    "\n",
    "R:\n",
    "\n",
    "**2. Qual a métrica de avaliação do modelo de ML será aplicado? E por que?**\n",
    "\n",
    "R:\n",
    "\n"
   ]
  },
  {
   "cell_type": "code",
   "execution_count": 8,
   "metadata": {},
   "outputs": [],
   "source": [
    "## Importa a biblioteca\n",
    "\n",
    "\n"
   ]
  },
  {
   "cell_type": "code",
   "execution_count": 9,
   "metadata": {},
   "outputs": [],
   "source": [
    "## Treina modelo de ML\n",
    "\n",
    "\n",
    "\n",
    "\n"
   ]
  },
  {
   "cell_type": "markdown",
   "metadata": {},
   "source": [
    "### Passo 3. Teste do modelo de ML\n",
    "\n",
    "Lembre-se do método `predict()`"
   ]
  },
  {
   "cell_type": "code",
   "execution_count": 10,
   "metadata": {},
   "outputs": [],
   "source": [
    "## Teste do modelo ML\n",
    "\n",
    "\n"
   ]
  },
  {
   "cell_type": "markdown",
   "metadata": {},
   "source": [
    "### Passo 4. Avaliação de resultado\n",
    "\n",
    "**1. O resultado obtido foi satisfatorio?**\n",
    "\n",
    "R:\n",
    "\n",
    "**2. Houve aprendizado, qual a acuracia obtida?**\n",
    "\n",
    "R:\n",
    "\n",
    "**3. Como melhorar o resultado obtido?**\n",
    "\n",
    "R:\n"
   ]
  },
  {
   "cell_type": "code",
   "execution_count": null,
   "metadata": {},
   "outputs": [],
   "source": []
  },
  {
   "cell_type": "code",
   "execution_count": null,
   "metadata": {},
   "outputs": [],
   "source": []
  }
 ],
 "metadata": {
  "kernelspec": {
   "display_name": "Python 3.9.5 64-bit",
   "language": "python",
   "name": "python3"
  },
  "language_info": {
   "codemirror_mode": {
    "name": "ipython",
    "version": 3
   },
   "file_extension": ".py",
   "mimetype": "text/x-python",
   "name": "python",
   "nbconvert_exporter": "python",
   "pygments_lexer": "ipython3",
   "version": "3.9.5"
  },
  "vscode": {
   "interpreter": {
    "hash": "8d68938bd6f1c8d824a292cb48fdc812f23ce0d2e12c844cec6ac89d2f668725"
   }
  }
 },
 "nbformat": 4,
 "nbformat_minor": 2
}
