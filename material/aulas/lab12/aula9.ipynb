{
 "cells": [
  {
   "cell_type": "markdown",
   "id": "957eaab3",
   "metadata": {},
   "source": [
    "## 2. Aprendizagem de máquina\n",
    "\n",
    "### Objetivos\n",
    "\n",
    "  - Conhecer uma intuição sobre Redes Neurais Artificiais RNA\n",
    "  - Praticar os algoritmos Perceptron e multilayer Perceptron (MLP)\n",
    "  "
   ]
  },
  {
   "cell_type": "markdown",
   "id": "820138a3",
   "metadata": {},
   "source": [
    "## Redes Neurais Artificiais\n",
    "\n",
    "As redes neurais são modelos computacionais inspirados pelo sistema nervoso de um animal capazes de realizar o aprendizado de máquina bem como o reconhecimento de padrões.\n",
    "\n",
    "Tais modelos são muitas vezes utilizados para a tarefa de classificação de padrões, podendo gerar classificadores com características variadas.  \n",
    "\n",
    "As redes neurais artificiais possuem em comum o fato de serem constituídas por neurônios que se conectam entre si através de através de sinapses. A rede neural mais conhecida são as baseadas em Perceptron multicamada (MLP) embora existam outras redes como rede de Kohonem, as redes de base radial e a rede de Hopfield.\n",
    " \n",
    "\n"
   ]
  },
  {
   "cell_type": "markdown",
   "id": "2a3e4090",
   "metadata": {},
   "source": [
    "<img src=\"Complete_neuron_cell_diagram_en.svg\">"
   ]
  },
  {
   "cell_type": "markdown",
   "id": "7c64a9e9",
   "metadata": {},
   "source": [
    "### Os principais componentes dos neurônios são:\n",
    "\n",
    "   - Os `dendritos`, que têm por função receber os estímulos transmitidos pelos outros neurônios;\n",
    "   - O `corpo` de neurônio, também chamado de soma, que é responsável por coletar e combinar informações vindas de outros neurônios;\n",
    "   - O `axônio`, que é constituído de uma fibra tubular que pode alcançar até alguns metros, e é responsável por transmitir os estímulos para outras células."
   ]
  },
  {
   "cell_type": "markdown",
   "id": "c131ead0",
   "metadata": {},
   "source": [
    "## Perceptron\n",
    "\n",
    "\n",
    "O classificador Perceptron foi o primeiro classificador baseado em redes neurais que empregou uma regra de aprendizado capaz de garantir a correta separação de classes linearmente separáveis.\n",
    "\n",
    "No início do treinamento, os pesos dos neurônios recebem valores aleatórios. Então, para cada amostra de treinamento com erro de classificação, os pesos dos neurônios são ajustados de modo a tentar corrigir a classe.\n",
    "\n",
    "Após o treinamento, cada neurônio na camada de saída testa a pertinência da amostra a uma classe. No caso de mais de um neurônio fornecer resposta positiva a amostra, a classe correspondente ao neurônio de maior resposta vence.\n",
    "\n",
    "\n",
    "<img src=\"img18.gif\">"
   ]
  },
  {
   "cell_type": "markdown",
   "id": "86e7cc96",
   "metadata": {},
   "source": [
    "A rede Perceptron possui um algoritmo de aprendizado supervisionado que consegue definir um classificador que encontra a superfície de separação entre quaisquer duas classes linearmente separáveis\n"
   ]
  },
  {
   "cell_type": "code",
   "execution_count": 2,
   "id": "f8591697",
   "metadata": {},
   "outputs": [],
   "source": [
    "import pandas as pd\n",
    "\n",
    "\n",
    "url = \"https://archive.ics.uci.edu/ml/machine-learning-databases/iris/iris.data\"\n",
    "header = ['sepal_length', 'sepal_width', 'petal_length', 'petal_width', 'species']\n",
    "df = pd.read_csv(url, header=None, names=header)"
   ]
  },
  {
   "cell_type": "code",
   "execution_count": 3,
   "id": "13f82b3b",
   "metadata": {},
   "outputs": [
    {
     "name": "stdout",
     "output_type": "stream",
     "text": [
      "Formato das tabelas de dados (150, 2) e classes (150,)\n"
     ]
    }
   ],
   "source": [
    "# Selecionando um sub-dataframe com os campos petal_length e petal_width, \n",
    "# e outro com a variável de classes\n",
    "entradas = df[['petal_length', 'petal_width']]\n",
    "classes = df['species']\n",
    "print(f\"Formato das tabelas de dados {entradas.shape} e classes {classes.shape}\")"
   ]
  },
  {
   "cell_type": "code",
   "execution_count": 4,
   "id": "49cc3851",
   "metadata": {},
   "outputs": [
    {
     "name": "stdout",
     "output_type": "stream",
     "text": [
      "Formato das tabelas de dados de treino (120, 2) e teste (30, 2)\n"
     ]
    }
   ],
   "source": [
    "# Separamos 20 % para o teste\n",
    "from sklearn.model_selection import train_test_split\n",
    "entradas_treino, entradas_teste, classes_treino, classes_teste = train_test_split(entradas, classes, test_size=0.2)\n",
    "print(f\"Formato das tabelas de dados de treino {entradas_treino.shape} e teste {entradas_teste.shape}\")"
   ]
  },
  {
   "cell_type": "markdown",
   "id": "84305869",
   "metadata": {},
   "source": [
    "### Instanciar o classificador e treiná-lo com as amostras de treinamento\n",
    "\n",
    "https://scikit-learn.org/stable/modules/generated/sklearn.linear_model.Perceptron.html"
   ]
  },
  {
   "cell_type": "code",
   "execution_count": 10,
   "id": "57c2b0a6",
   "metadata": {},
   "outputs": [
    {
     "data": {
      "text/plain": [
       "Perceptron(tol=1.7)"
      ]
     },
     "execution_count": 10,
     "metadata": {},
     "output_type": "execute_result"
    }
   ],
   "source": [
    "from sklearn.linear_model import Perceptron\n",
    "\n",
    "\n",
    "modelo = Perceptron(tol=1.7)\n",
    "modelo.fit(entradas_treino, classes_treino)"
   ]
  },
  {
   "cell_type": "code",
   "execution_count": 11,
   "id": "ca9fadcc",
   "metadata": {},
   "outputs": [],
   "source": [
    "classes_encontradas = modelo.predict(entradas_teste)"
   ]
  },
  {
   "cell_type": "code",
   "execution_count": 12,
   "id": "224a0512",
   "metadata": {},
   "outputs": [
    {
     "name": "stdout",
     "output_type": "stream",
     "text": [
      "Acerto médio de classificação treino:  0.6916666666666667\n",
      "Acerto médio de classificação teste:  0.5666666666666667\n"
     ]
    }
   ],
   "source": [
    "from sklearn.metrics import accuracy_score\n",
    "\n",
    "classes_encontradas_train = modelo.predict(entradas_treino)\n",
    "print(\"Acerto médio de classificação treino: \",accuracy_score(classes_encontradas_train, classes_treino))\n",
    "\n",
    "classes_encontradas = modelo.predict(entradas_teste)\n",
    "print(\"Acerto médio de classificação teste: \",accuracy_score(classes_encontradas, classes_teste))"
   ]
  },
  {
   "cell_type": "markdown",
   "id": "64db6f30",
   "metadata": {},
   "source": [
    "### Análise F1-Score\n",
    "\n",
    "A pontuação F1 pode ser interpretada como uma média ponderada da precision e recall.\n",
    "\n",
    " - Melhor valor = 1\n",
    " - Pior valor = 0\n",
    "\n",
    "A contribuição relativa de precision e recall para a pontuação F1 são iguais. A fórmula para a pontuação F1 é:\n",
    "\n",
    "F1 = 2 * (precision * recall) / (precision + recall)"
   ]
  },
  {
   "cell_type": "code",
   "execution_count": 13,
   "id": "46414da2",
   "metadata": {},
   "outputs": [
    {
     "name": "stdout",
     "output_type": "stream",
     "text": [
      "                 precision    recall  f1-score   support\n",
      "\n",
      "    Iris-setosa       1.00      0.42      0.59        12\n",
      "Iris-versicolor       0.00      0.00      0.00         0\n",
      " Iris-virginica       1.00      0.67      0.80        18\n",
      "\n",
      "       accuracy                           0.57        30\n",
      "      macro avg       0.67      0.36      0.46        30\n",
      "   weighted avg       1.00      0.57      0.72        30\n",
      "\n"
     ]
    },
    {
     "name": "stderr",
     "output_type": "stream",
     "text": [
      "/home/iot/.local/lib/python3.8/site-packages/sklearn/metrics/_classification.py:1248: UndefinedMetricWarning: Recall and F-score are ill-defined and being set to 0.0 in labels with no true samples. Use `zero_division` parameter to control this behavior.\n",
      "  _warn_prf(average, modifier, msg_start, len(result))\n",
      "/home/iot/.local/lib/python3.8/site-packages/sklearn/metrics/_classification.py:1248: UndefinedMetricWarning: Recall and F-score are ill-defined and being set to 0.0 in labels with no true samples. Use `zero_division` parameter to control this behavior.\n",
      "  _warn_prf(average, modifier, msg_start, len(result))\n",
      "/home/iot/.local/lib/python3.8/site-packages/sklearn/metrics/_classification.py:1248: UndefinedMetricWarning: Recall and F-score are ill-defined and being set to 0.0 in labels with no true samples. Use `zero_division` parameter to control this behavior.\n",
      "  _warn_prf(average, modifier, msg_start, len(result))\n"
     ]
    }
   ],
   "source": [
    "\n",
    "from sklearn.metrics import classification_report\n",
    "\n",
    "print(classification_report(classes_encontradas, classes_teste))"
   ]
  },
  {
   "cell_type": "markdown",
   "id": "30affd13",
   "metadata": {},
   "source": [
    "## Multilayer Perceptron (MLP)\n",
    "\n",
    "- O acréscimo de uma nova camada de neurônios, denominada camada oculta, permite criar superfícies de separação não lineares, permitindo a classificação de classes não-linearmente separáveis\n",
    "- A rede MLP é considerada uma rede do tipo feed-forward, já que as saídas dos neurônios das camadas posteriores dependem apenas dos neurônios das camadas anteriores \n",
    "- Em uma rede MLP, não há regra para o número de neurônios a ser usado na camada oculta, e nem há limites para o número de camadas ocultas a serem usadas\n",
    "- Aparentemente, um bom chute inicial é considerar o dobro de neurônios na camada oculta com relação ao tamanho da entrada\n",
    "- É conhecido que com uma única camada oculta com um número suficientemente grande de nós é possível representar qualquer função contínua, e por isso essa estrutura é conhecida como aproximador universal \n",
    "\n",
    "https://scikit-learn.org/stable/modules/generated/sklearn.neural_network.MLPClassifier.html\n",
    "\n"
   ]
  },
  {
   "cell_type": "code",
   "execution_count": null,
   "id": "efa37d82",
   "metadata": {},
   "outputs": [],
   "source": [
    "from sklearn.neural_network import MLPClassifier\n",
    "\n",
    "camadas = [4,3]\n",
    "epocas = 1000\n",
    "batch_size = 10\n",
    "ativacao = 'relu' # Escolha dentre 'logistic', 'tanh' ou 'relu'\n",
    "\n",
    "modelo = MLPClassifier(hidden_layer_sizes=camadas,\n",
    "                    batch_size=batch_size,\n",
    "                    activation=ativacao,\n",
    "                    max_iter=epocas)"
   ]
  },
  {
   "cell_type": "code",
   "execution_count": null,
   "id": "de7433bd",
   "metadata": {},
   "outputs": [],
   "source": [
    "\n",
    "modelo.fit(entradas_treino, classes_treino)"
   ]
  },
  {
   "cell_type": "code",
   "execution_count": null,
   "id": "20327dda",
   "metadata": {},
   "outputs": [],
   "source": [
    "from sklearn.metrics import accuracy_score\n",
    "\n",
    "\n",
    "classes_encontradas_train = modelo.predict(entradas_treino)\n",
    "print(\"Acerto médio de classificação treino: \",accuracy_score(classes_encontradas_train, classes_treino))\n",
    "\n",
    "classes_encontradas = modelo.predict(entradas_teste)\n",
    "print(\"Acerto médio de classificação teste: \",accuracy_score(classes_encontradas, classes_teste))\n"
   ]
  },
  {
   "cell_type": "code",
   "execution_count": null,
   "id": "1ee2c3c9",
   "metadata": {},
   "outputs": [],
   "source": [
    "from sklearn.metrics import classification_report\n",
    "\n",
    "print(classification_report(classes_encontradas, classes_teste))"
   ]
  },
  {
   "cell_type": "markdown",
   "id": "cab6a9d3",
   "metadata": {},
   "source": [
    "## Desafio1\n",
    "Escolha uma dos exemplos dados em sala de aula e implemente um MLP com pelo menos 10 neuronios na camada escondida:\n",
    "\n",
    "OBS: Só não vale o data da Iris, pois acabamos de usar... "
   ]
  },
  {
   "cell_type": "code",
   "execution_count": null,
   "id": "4c095926",
   "metadata": {},
   "outputs": [],
   "source": [
    "## Seu código aqui.......\n",
    "\n",
    "\n"
   ]
  }
 ],
 "metadata": {
  "kernelspec": {
   "display_name": "Python 3",
   "language": "python",
   "name": "python3"
  },
  "language_info": {
   "codemirror_mode": {
    "name": "ipython",
    "version": 3
   },
   "file_extension": ".py",
   "mimetype": "text/x-python",
   "name": "python",
   "nbconvert_exporter": "python",
   "pygments_lexer": "ipython3",
   "version": "3.9.5"
  }
 },
 "nbformat": 4,
 "nbformat_minor": 5
}
