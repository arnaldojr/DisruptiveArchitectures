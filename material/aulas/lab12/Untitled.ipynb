{
 "cells": [
  {
   "cell_type": "markdown",
   "id": "announced-investment",
   "metadata": {},
   "source": [
    "## Redes Neurais Artificiais\n",
    "\n",
    "As redes neurais são modelos computacionais inspirados pelo sistema nervoso de um animal capazes de realizar o aprendizado de máquina bem como o reconhecimento de padrões.\n",
    "\n",
    "Tais modelos são muitas vezes utilizados para a tarefa de classificação de padrões, podendo gerar classificadores com características variadas.  \n",
    "\n",
    "As redes neurais artificiais possuem em comum o fato de serem constituídas por neurônios que se conectam entre si através de através de sinapses. A rede neural mais conhecida são as baseadas em Perceptron multicamada (MLP) embora existam outras redes como rede de Kohonem, as redes de base radial e a rede de Hopfield.\n",
    " \n",
    "\n"
   ]
  },
  {
   "cell_type": "markdown",
   "id": "front-wichita",
   "metadata": {},
   "source": [
    "<img src=\"Complete_neuron_cell_diagram_en.svg\">"
   ]
  },
  {
   "cell_type": "markdown",
   "id": "convertible-start",
   "metadata": {},
   "source": [
    "### Os principais componentes dos neurônios são:\n",
    "\n",
    "   - Os `dendritos`, que têm por função receber os estímulos transmitidos pelos outros neurônios;\n",
    "   - O `corpo` de neurônio, também chamado de soma, que é responsável por coletar e combinar informações vindas de outros neurônios;\n",
    "   - O `axônio`, que é constituído de uma fibra tubular que pode alcançar até alguns metros, e é responsável por transmitir os estímulos para outras células."
   ]
  },
  {
   "cell_type": "markdown",
   "id": "fifty-compilation",
   "metadata": {},
   "source": [
    "## Perceptron\n",
    "\n",
    "\n",
    "O classificador Perceptron foi o primeiro classificador baseado em redes neurais que empregou uma regra de aprendizado capaz de garantir a correta separação de classes linearmente separáveis.\n",
    "\n",
    "No início do treinamento, os pesos dos neurônios recebem valores aleatórios. Então, para cada amostra de treinamento com erro de classificação, os pesos dos neurônios são ajustados de modo a tentar corrigir a classe.\n",
    "\n",
    "Após o treinamento, cada neurônio na camada de saída testa a pertinência da amostra a uma classe. No caso de mais de um neurônio fornecer resposta positiva a amostra, a classe correspondente ao neurônio de maior resposta vence.\n",
    "\n",
    "\n",
    "<img src=\"img18.gif\">"
   ]
  },
  {
   "cell_type": "markdown",
   "id": "vietnamese-access",
   "metadata": {},
   "source": [
    "A rede Perceptron possui um algoritmo de aprendizado supervisionado que consegue definir um classificador que encontra a superfície de separação entre quaisquer duas classes linearmente separáveis\n"
   ]
  },
  {
   "cell_type": "code",
   "execution_count": 1,
   "id": "dirty-example",
   "metadata": {},
   "outputs": [],
   "source": [
    "import pandas as pd\n",
    "\n",
    "\n",
    "url = \"https://archive.ics.uci.edu/ml/machine-learning-databases/iris/iris.data\"\n",
    "header = ['sepal_length', 'sepal_width', 'petal_length', 'petal_width', 'species']\n",
    "df = pd.read_csv(url, header=None, names=header)"
   ]
  },
  {
   "cell_type": "code",
   "execution_count": 2,
   "id": "brown-silver",
   "metadata": {},
   "outputs": [
    {
     "name": "stdout",
     "output_type": "stream",
     "text": [
      "Formato das tabelas de dados (150, 2) e classes (150,)\n"
     ]
    }
   ],
   "source": [
    "# Selecionando um sub-dataframe com os campos petal_length e petal_width, \n",
    "# e outro com a variável de classes\n",
    "entradas = df[['petal_length', 'petal_width']]\n",
    "classes = df['species']\n",
    "print(f\"Formato das tabelas de dados {entradas.shape} e classes {classes.shape}\")"
   ]
  },
  {
   "cell_type": "code",
   "execution_count": 24,
   "id": "departmental-humanitarian",
   "metadata": {},
   "outputs": [
    {
     "name": "stdout",
     "output_type": "stream",
     "text": [
      "Formato das tabelas de dados de treino (120, 2) e teste (30, 2)\n"
     ]
    }
   ],
   "source": [
    "# Separamos 20 % para o teste\n",
    "from sklearn.model_selection import train_test_split\n",
    "entradas_treino, entradas_teste, classes_treino, classes_teste = train_test_split(entradas, classes, test_size=0.2)\n",
    "print(f\"Formato das tabelas de dados de treino {entradas_treino.shape} e teste {entradas_teste.shape}\")"
   ]
  },
  {
   "cell_type": "markdown",
   "id": "failing-business",
   "metadata": {},
   "source": [
    "### Instanciar o classificador e treiná-lo com as amostras de treinamento"
   ]
  },
  {
   "cell_type": "code",
   "execution_count": 7,
   "id": "celtic-monaco",
   "metadata": {},
   "outputs": [
    {
     "data": {
      "text/plain": [
       "Perceptron(tol=1.7)"
      ]
     },
     "execution_count": 7,
     "metadata": {},
     "output_type": "execute_result"
    }
   ],
   "source": [
    "from sklearn.linear_model import Perceptron\n",
    "\n",
    "\n",
    "modelo = Perceptron(tol=1.7)\n",
    "modelo.fit(entradas_treino, classes_treino)"
   ]
  },
  {
   "cell_type": "code",
   "execution_count": 8,
   "id": "about-summary",
   "metadata": {},
   "outputs": [],
   "source": [
    "classes_encontradas = modelo.predict(entradas_teste)"
   ]
  },
  {
   "cell_type": "code",
   "execution_count": 9,
   "id": "passive-enlargement",
   "metadata": {},
   "outputs": [
    {
     "name": "stdout",
     "output_type": "stream",
     "text": [
      "Acerto médio de classificação:  0.6\n"
     ]
    }
   ],
   "source": [
    "from sklearn.metrics import accuracy_score\n",
    "acertos = accuracy_score(classes_teste, classes_encontradas)\n",
    "print(\"Acerto médio de classificação: \", acertos)"
   ]
  },
  {
   "cell_type": "markdown",
   "id": "general-shakespeare",
   "metadata": {},
   "source": [
    "## Multilayer Perceptron (MLP)\n",
    "\n",
    "- O acréscimo de uma nova camada de neurônios, denominada camada oculta, permite criar superfícies de separação não lineares, permitindo a classificação de classes não-linearmente separáveis\n",
    "- A rede MLP é considerada uma rede do tipo feed-forward, já que as saídas dos neurônios das camadas posteriores dependem apenas dos neurônios das camadas anteriores \n",
    "- Em uma rede MLP, não há regra para o número de neurônios a ser usado na camada oculta, e nem há limites para o número de camadas ocultas a serem usadas\n",
    "- Aparentemente, um bom chute inicial é considerar o dobro de neurônios na camada oculta com relação ao tamanho da entrada\n",
    "- É conhecido que com uma única camada oculta com um número suficientemente grande de nós é possível representar qualquer função contínua, e por isso essa estrutura é conhecida como aproximador universal \n"
   ]
  },
  {
   "cell_type": "code",
   "execution_count": 28,
   "id": "african-rocket",
   "metadata": {},
   "outputs": [],
   "source": [
    "from sklearn.neural_network import MLPClassifier\n",
    "\n",
    "camadas = [4, 3]\n",
    "epocas = 1000\n",
    "batch_size = 10\n",
    "ativacao = 'relu' # Dentre 'logistic', 'tanh' ou 'relu'\n",
    "modelo = MLPClassifier(hidden_layer_sizes=camadas,\n",
    "                    batch_size=batch_size,\n",
    "                    activation=ativacao,\n",
    "                    max_iter=epocas)"
   ]
  },
  {
   "cell_type": "code",
   "execution_count": 29,
   "id": "binding-marsh",
   "metadata": {},
   "outputs": [
    {
     "data": {
      "text/plain": [
       "MLPClassifier(batch_size=10, hidden_layer_sizes=[4, 3], max_iter=1000)"
      ]
     },
     "execution_count": 29,
     "metadata": {},
     "output_type": "execute_result"
    }
   ],
   "source": [
    "\n",
    "modelo.fit(entradas_treino, classes_treino)"
   ]
  },
  {
   "cell_type": "code",
   "execution_count": 30,
   "id": "fifty-suite",
   "metadata": {},
   "outputs": [],
   "source": [
    "classes_encontradas = modelo.predict(entradas_teste)"
   ]
  },
  {
   "cell_type": "code",
   "execution_count": 31,
   "id": "positive-camel",
   "metadata": {},
   "outputs": [
    {
     "name": "stdout",
     "output_type": "stream",
     "text": [
      "Acerto médio de classificação:  0.8666666666666667\n"
     ]
    }
   ],
   "source": [
    "from sklearn.metrics import accuracy_score\n",
    "\n",
    "acertos = accuracy_score(classes_teste, classes_encontradas)\n",
    "print(\"Acerto médio de classificação: \", acertos)\n",
    "\n"
   ]
  },
  {
   "cell_type": "markdown",
   "id": "brutal-fusion",
   "metadata": {},
   "source": [
    "## Desafio1\n",
    "Escolha uma dos exemplos dados em sala de aula e implemente um MLP com pelo menos 10 neuronios na camada escondida:\n",
    "\n",
    "OBS: Só não vale o data da Iris, pois acabamos de usar... "
   ]
  },
  {
   "cell_type": "code",
   "execution_count": 46,
   "id": "senior-miniature",
   "metadata": {},
   "outputs": [],
   "source": [
    "## Seu código aqui.......\n",
    "\n",
    "\n"
   ]
  }
 ],
 "metadata": {
  "kernelspec": {
   "display_name": "Python 3",
   "language": "python",
   "name": "python3"
  },
  "language_info": {
   "codemirror_mode": {
    "name": "ipython",
    "version": 3
   },
   "file_extension": ".py",
   "mimetype": "text/x-python",
   "name": "python",
   "nbconvert_exporter": "python",
   "pygments_lexer": "ipython3",
   "version": "3.9.5"
  }
 },
 "nbformat": 4,
 "nbformat_minor": 5
}
