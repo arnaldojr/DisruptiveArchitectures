{
 "cells": [
  {
   "cell_type": "markdown",
   "metadata": {},
   "source": [
    "## 2. Aprendizagem de máquina\n",
    "\n",
    "### Objetivos\n",
    "\n",
    "  - Dicas de pré-processamento de dados \n",
    "  - Entender e praticar a normalização dos dados\n",
    "  - Entender e praticar codificação Label Encoder e One Hot Encoder.\n",
    "  - Redução de dimensionalidade: PCA"
   ]
  },
  {
   "cell_type": "markdown",
   "metadata": {},
   "source": [
    "## Pré-processamento \n",
    "\n",
    "Nesta etapa estamos interessados em tratar os dados que servirão de entrada do nosso modelo de Machine Learning seja ele predição, agrupamento ou classificação. Existem diversas técnicas que podem (e devem) ser aplicadas, já conhecemos algumas e hoje veremos outras técnicas.\n"
   ]
  },
  {
   "cell_type": "markdown",
   "metadata": {},
   "source": [
    "## Normalização de dados\n",
    "\n",
    "O conceito de normalização é simples, a idéia é deixar os dados todos na mesma ordem de grandeza, desta forma evita-se gerar discrepâncias entre os atributos (colunas).  \n",
    "\n",
    "Os métodos mais populares são:\n",
    "\n",
    "- Normalização Min-Máx: transforma os dados em um escala linear entre 0 e 1\n",
    "- Normalização de pontuação Z: Escala de dados com base na média e desvio padrão (tambem chamado de padronização)\n",
    "- Dimensionamento decimal: Dimensiona os dados movendo o ponto decimal do atributo (muito utilizado em sistemas embarcados). \n"
   ]
  },
  {
   "cell_type": "markdown",
   "metadata": {},
   "source": [
    "\n",
    "Exemplo: Vamos criar um lista com 3 atributos e vamos normalizar. \n",
    "\n",
    "- Atributos:\n",
    "  - altura (cm)\n",
    "  - massa (Kg)\n",
    "  - idade (anos)"
   ]
  },
  {
   "cell_type": "code",
   "execution_count": 52,
   "metadata": {},
   "outputs": [
    {
     "data": {
      "text/html": [
       "<div>\n",
       "<style scoped>\n",
       "    .dataframe tbody tr th:only-of-type {\n",
       "        vertical-align: middle;\n",
       "    }\n",
       "\n",
       "    .dataframe tbody tr th {\n",
       "        vertical-align: top;\n",
       "    }\n",
       "\n",
       "    .dataframe thead th {\n",
       "        text-align: right;\n",
       "    }\n",
       "</style>\n",
       "<table border=\"1\" class=\"dataframe\">\n",
       "  <thead>\n",
       "    <tr style=\"text-align: right;\">\n",
       "      <th></th>\n",
       "      <th>altura (cm)</th>\n",
       "      <th>massa (kg)</th>\n",
       "      <th>idade (anos)</th>\n",
       "    </tr>\n",
       "  </thead>\n",
       "  <tbody>\n",
       "    <tr>\n",
       "      <th>0</th>\n",
       "      <td>170</td>\n",
       "      <td>90</td>\n",
       "      <td>20</td>\n",
       "    </tr>\n",
       "    <tr>\n",
       "      <th>1</th>\n",
       "      <td>168</td>\n",
       "      <td>55</td>\n",
       "      <td>33</td>\n",
       "    </tr>\n",
       "    <tr>\n",
       "      <th>2</th>\n",
       "      <td>173</td>\n",
       "      <td>84</td>\n",
       "      <td>57</td>\n",
       "    </tr>\n",
       "    <tr>\n",
       "      <th>3</th>\n",
       "      <td>189</td>\n",
       "      <td>98</td>\n",
       "      <td>41</td>\n",
       "    </tr>\n",
       "  </tbody>\n",
       "</table>\n",
       "</div>"
      ],
      "text/plain": [
       "   altura (cm)  massa (kg)  idade (anos)\n",
       "0          170          90            20\n",
       "1          168          55            33\n",
       "2          173          84            57\n",
       "3          189          98            41"
      ]
     },
     "execution_count": 52,
     "metadata": {},
     "output_type": "execute_result"
    }
   ],
   "source": [
    "import numpy as np\n",
    "import pandas as pd\n",
    "\n",
    "cols = ['altura (cm)', 'massa (kg)', 'idade (anos)']\n",
    "df = pd.DataFrame(np.array([\n",
    "                            [170, 90, 20], # altura (cm), massa (Kg), idade (anos)\n",
    "                            [168, 55, 33],\n",
    "                            [173, 84, 57],\n",
    "                            [189, 98, 41]\n",
    "                        ]),columns=cols)\n",
    "\n",
    "df.head()                  "
   ]
  },
  {
   "cell_type": "markdown",
   "metadata": {},
   "source": [
    "No nosso exemplo vamos usar o método min-máx:\n",
    "\n",
    "$$\n",
    "valor_{normalizado}=\\dfrac{valor - min_{valores}}{(max_{valores} - min_{valores})}(max_{feature_range} - min_{feature_range}) + min_{feature_range}\n",
    "$$\n"
   ]
  },
  {
   "cell_type": "code",
   "execution_count": 53,
   "metadata": {},
   "outputs": [
    {
     "data": {
      "text/plain": [
       "array([[0.0952381 , 0.81395349, 0.        ],\n",
       "       [0.        , 0.        , 0.35135135],\n",
       "       [0.23809524, 0.6744186 , 1.        ],\n",
       "       [1.        , 1.        , 0.56756757]])"
      ]
     },
     "execution_count": 53,
     "metadata": {},
     "output_type": "execute_result"
    }
   ],
   "source": [
    "from sklearn.preprocessing import MinMaxScaler\n",
    "\n",
    "#Cria o objeto da classe MinMaxScaler\n",
    "scaler = MinMaxScaler(feature_range=(0,1))\n",
    "\n",
    "scaled_data = scaler.fit_transform(df[cols])\n",
    "\n",
    "scaled_data"
   ]
  },
  {
   "cell_type": "code",
   "execution_count": 55,
   "metadata": {},
   "outputs": [
    {
     "data": {
      "text/plain": [
       "array([[-0.60412209,  0.50853555, -1.32415683],\n",
       "       [-0.84577093, -1.648888  , -0.35435183],\n",
       "       [-0.24164884,  0.13869151,  1.4360574 ],\n",
       "       [ 1.69154186,  1.00166093,  0.24245125]])"
      ]
     },
     "execution_count": 55,
     "metadata": {},
     "output_type": "execute_result"
    }
   ],
   "source": [
    "from sklearn.preprocessing import StandardScaler\n",
    "\n",
    "#Cria o objeto da classe standardScaler\n",
    "scaler = StandardScaler()\n",
    "\n",
    "scaled_data = scaler.fit_transform(df[cols])\n",
    "\n",
    "scaled_data"
   ]
  },
  {
   "cell_type": "markdown",
   "metadata": {},
   "source": [
    "## Codificação Label Encoder e One Hot Encoder\n",
    "\n",
    "Em muitos casos vamos nos deparar com atributos categoricos, que não possuem numeros e sim textos. Como por exemplo um atributo chamado Cidade, será pararecido com [\"cotia\",\"São Paulo\",\"Pouso Alegre\"] ou um atributo de qualificação profissional, será paracido com [\"junior\",\"Pleno\",\"Senior\"]. \n",
    "\n",
    "Para esses tipos de casos manter o atributo como esta para realizar um aprendizado de maquina pode não ser uma boa idéia, para isso, podemos trocar os textos por valores numericos. Vamos ver algumas formas para realizar esse processo. "
   ]
  },
  {
   "cell_type": "markdown",
   "metadata": {},
   "source": [
    "### Label Encoder \n",
    "\n",
    "Uma forma simples de trocar um atributo categorico de texto para numero é associar um valor numérico para cada texto do atributo. \n",
    "\n",
    "- Exemplo:\n",
    "\n",
    "    [\"cotia\",\"São Paulo\",\"Pouso Alegre\"] == [0,2,1]\n",
    "\n",
    "    [\"junior\",\"Pleno\",\"Senior\"] == [0,1,2]\n",
    "\n",
    "Observação: Note que os indices estão em `ordem alfabética`. \n"
   ]
  },
  {
   "cell_type": "code",
   "execution_count": 56,
   "metadata": {},
   "outputs": [
    {
     "data": {
      "text/html": [
       "<div>\n",
       "<style scoped>\n",
       "    .dataframe tbody tr th:only-of-type {\n",
       "        vertical-align: middle;\n",
       "    }\n",
       "\n",
       "    .dataframe tbody tr th {\n",
       "        vertical-align: top;\n",
       "    }\n",
       "\n",
       "    .dataframe thead th {\n",
       "        text-align: right;\n",
       "    }\n",
       "</style>\n",
       "<table border=\"1\" class=\"dataframe\">\n",
       "  <thead>\n",
       "    <tr style=\"text-align: right;\">\n",
       "      <th></th>\n",
       "      <th>altura (cm)</th>\n",
       "      <th>massa (kg)</th>\n",
       "      <th>qualificacao</th>\n",
       "    </tr>\n",
       "  </thead>\n",
       "  <tbody>\n",
       "    <tr>\n",
       "      <th>0</th>\n",
       "      <td>170</td>\n",
       "      <td>90</td>\n",
       "      <td>junior</td>\n",
       "    </tr>\n",
       "    <tr>\n",
       "      <th>1</th>\n",
       "      <td>168</td>\n",
       "      <td>55</td>\n",
       "      <td>pleno</td>\n",
       "    </tr>\n",
       "    <tr>\n",
       "      <th>2</th>\n",
       "      <td>173</td>\n",
       "      <td>84</td>\n",
       "      <td>junior</td>\n",
       "    </tr>\n",
       "    <tr>\n",
       "      <th>3</th>\n",
       "      <td>189</td>\n",
       "      <td>98</td>\n",
       "      <td>senior</td>\n",
       "    </tr>\n",
       "  </tbody>\n",
       "</table>\n",
       "</div>"
      ],
      "text/plain": [
       "  altura (cm) massa (kg) qualificacao\n",
       "0         170         90       junior\n",
       "1         168         55        pleno\n",
       "2         173         84       junior\n",
       "3         189         98       senior"
      ]
     },
     "execution_count": 56,
     "metadata": {},
     "output_type": "execute_result"
    }
   ],
   "source": [
    "import numpy as np\n",
    "import pandas as pd\n",
    "\n",
    "cols = ['altura (cm)', 'massa (kg)', 'qualificacao']\n",
    "df = pd.DataFrame(np.array([\n",
    "                            [170, 90, \"junior\"], # altura (cm), massa (Kg), gênero (f/m)\n",
    "                            [168, 55, \"pleno\"],\n",
    "                            [173, 84, \"junior\"],\n",
    "                            [189, 98, \"senior\"]\n",
    "                        ]),columns=cols)\n",
    "\n",
    "df.head()"
   ]
  },
  {
   "cell_type": "code",
   "execution_count": 57,
   "metadata": {},
   "outputs": [
    {
     "data": {
      "text/html": [
       "<div>\n",
       "<style scoped>\n",
       "    .dataframe tbody tr th:only-of-type {\n",
       "        vertical-align: middle;\n",
       "    }\n",
       "\n",
       "    .dataframe tbody tr th {\n",
       "        vertical-align: top;\n",
       "    }\n",
       "\n",
       "    .dataframe thead th {\n",
       "        text-align: right;\n",
       "    }\n",
       "</style>\n",
       "<table border=\"1\" class=\"dataframe\">\n",
       "  <thead>\n",
       "    <tr style=\"text-align: right;\">\n",
       "      <th></th>\n",
       "      <th>altura (cm)</th>\n",
       "      <th>massa (kg)</th>\n",
       "      <th>qualificacao</th>\n",
       "    </tr>\n",
       "  </thead>\n",
       "  <tbody>\n",
       "    <tr>\n",
       "      <th>0</th>\n",
       "      <td>170</td>\n",
       "      <td>90</td>\n",
       "      <td>0</td>\n",
       "    </tr>\n",
       "    <tr>\n",
       "      <th>1</th>\n",
       "      <td>168</td>\n",
       "      <td>55</td>\n",
       "      <td>1</td>\n",
       "    </tr>\n",
       "    <tr>\n",
       "      <th>2</th>\n",
       "      <td>173</td>\n",
       "      <td>84</td>\n",
       "      <td>0</td>\n",
       "    </tr>\n",
       "    <tr>\n",
       "      <th>3</th>\n",
       "      <td>189</td>\n",
       "      <td>98</td>\n",
       "      <td>2</td>\n",
       "    </tr>\n",
       "  </tbody>\n",
       "</table>\n",
       "</div>"
      ],
      "text/plain": [
       "  altura (cm) massa (kg)  qualificacao\n",
       "0         170         90             0\n",
       "1         168         55             1\n",
       "2         173         84             0\n",
       "3         189         98             2"
      ]
     },
     "execution_count": 57,
     "metadata": {},
     "output_type": "execute_result"
    }
   ],
   "source": [
    "from sklearn.preprocessing import LabelEncoder\n",
    "\n",
    "#Cria o objeto labelEncoder\n",
    "labelencoder = LabelEncoder()\n",
    "\n",
    "df['qualificacao'] = labelencoder.fit_transform(df['qualificacao'])\n",
    "\n",
    "df.head()"
   ]
  },
  {
   "cell_type": "markdown",
   "metadata": {},
   "source": [
    "O problema aqui é que, uma vez que existem números diferentes na mesma coluna, o modelo interpretará mal os dados como estando em algum tipo de ordem, 0 <1 <2. \n",
    "\n",
    "Você como desenvolvedor deve estar atento a este ponto e saber se faz sentido ou não, note que para qualificação não tem problema, logo, este não é o caso.\n",
    "\n",
    "Caso exista algum problema desta natureza, como um atributo genero, estado..., pode ser util usar One Hot Encoder."
   ]
  },
  {
   "cell_type": "markdown",
   "metadata": {},
   "source": [
    "### One Hot Encoder\n",
    "\n",
    "Podemos associar cada valor de um atribuco como uma nova coluna e preencher com 0 ou 1 o valor desta coluna, é desta forma que o one hot encoder funciona. \n",
    "\n",
    "- Exemplo:"
   ]
  },
  {
   "cell_type": "code",
   "execution_count": 58,
   "metadata": {},
   "outputs": [
    {
     "data": {
      "text/html": [
       "<div>\n",
       "<style scoped>\n",
       "    .dataframe tbody tr th:only-of-type {\n",
       "        vertical-align: middle;\n",
       "    }\n",
       "\n",
       "    .dataframe tbody tr th {\n",
       "        vertical-align: top;\n",
       "    }\n",
       "\n",
       "    .dataframe thead th {\n",
       "        text-align: right;\n",
       "    }\n",
       "</style>\n",
       "<table border=\"1\" class=\"dataframe\">\n",
       "  <thead>\n",
       "    <tr style=\"text-align: right;\">\n",
       "      <th></th>\n",
       "      <th>altura (cm)</th>\n",
       "      <th>massa (kg)</th>\n",
       "      <th>qualificacao</th>\n",
       "    </tr>\n",
       "  </thead>\n",
       "  <tbody>\n",
       "    <tr>\n",
       "      <th>0</th>\n",
       "      <td>170</td>\n",
       "      <td>90</td>\n",
       "      <td>junior</td>\n",
       "    </tr>\n",
       "    <tr>\n",
       "      <th>1</th>\n",
       "      <td>168</td>\n",
       "      <td>55</td>\n",
       "      <td>pleno</td>\n",
       "    </tr>\n",
       "    <tr>\n",
       "      <th>2</th>\n",
       "      <td>173</td>\n",
       "      <td>84</td>\n",
       "      <td>junior</td>\n",
       "    </tr>\n",
       "    <tr>\n",
       "      <th>3</th>\n",
       "      <td>189</td>\n",
       "      <td>98</td>\n",
       "      <td>senior</td>\n",
       "    </tr>\n",
       "  </tbody>\n",
       "</table>\n",
       "</div>"
      ],
      "text/plain": [
       "  altura (cm) massa (kg) qualificacao\n",
       "0         170         90       junior\n",
       "1         168         55        pleno\n",
       "2         173         84       junior\n",
       "3         189         98       senior"
      ]
     },
     "execution_count": 58,
     "metadata": {},
     "output_type": "execute_result"
    }
   ],
   "source": [
    "import numpy as np\n",
    "import pandas as pd\n",
    "\n",
    "cols = ['altura (cm)', 'massa (kg)', 'qualificacao']\n",
    "df = pd.DataFrame(np.array([\n",
    "                            [170, 90, \"junior\"], # altura (cm), massa (Kg), gênero (f/m)\n",
    "                            [168, 55, \"pleno\"],\n",
    "                            [173, 84, \"junior\"],\n",
    "                            [189, 98, \"senior\"]\n",
    "                        ]),columns=cols)\n",
    "\n",
    "df.head()"
   ]
  },
  {
   "cell_type": "code",
   "execution_count": 59,
   "metadata": {},
   "outputs": [
    {
     "data": {
      "text/plain": [
       "array([[1., 0., 0.],\n",
       "       [0., 1., 0.],\n",
       "       [1., 0., 0.],\n",
       "       [0., 0., 1.]])"
      ]
     },
     "execution_count": 59,
     "metadata": {},
     "output_type": "execute_result"
    }
   ],
   "source": [
    "from sklearn.preprocessing import OneHotEncoder\n",
    "\n",
    "ohe = OneHotEncoder()\n",
    "\n",
    "ponte_ohe = ohe.fit_transform(df[['qualificacao']]).toarray()\n",
    "\n",
    "ponte_ohe"
   ]
  },
  {
   "cell_type": "code",
   "execution_count": 60,
   "metadata": {},
   "outputs": [
    {
     "data": {
      "text/html": [
       "<div>\n",
       "<style scoped>\n",
       "    .dataframe tbody tr th:only-of-type {\n",
       "        vertical-align: middle;\n",
       "    }\n",
       "\n",
       "    .dataframe tbody tr th {\n",
       "        vertical-align: top;\n",
       "    }\n",
       "\n",
       "    .dataframe thead th {\n",
       "        text-align: right;\n",
       "    }\n",
       "</style>\n",
       "<table border=\"1\" class=\"dataframe\">\n",
       "  <thead>\n",
       "    <tr style=\"text-align: right;\">\n",
       "      <th></th>\n",
       "      <th>altura (cm)</th>\n",
       "      <th>massa (kg)</th>\n",
       "      <th>qualificacao</th>\n",
       "      <th>qualificacao0</th>\n",
       "      <th>qualificacao1</th>\n",
       "      <th>qualificacao2</th>\n",
       "    </tr>\n",
       "  </thead>\n",
       "  <tbody>\n",
       "    <tr>\n",
       "      <th>0</th>\n",
       "      <td>170</td>\n",
       "      <td>90</td>\n",
       "      <td>junior</td>\n",
       "      <td>1.0</td>\n",
       "      <td>0.0</td>\n",
       "      <td>0.0</td>\n",
       "    </tr>\n",
       "    <tr>\n",
       "      <th>1</th>\n",
       "      <td>168</td>\n",
       "      <td>55</td>\n",
       "      <td>pleno</td>\n",
       "      <td>0.0</td>\n",
       "      <td>1.0</td>\n",
       "      <td>0.0</td>\n",
       "    </tr>\n",
       "    <tr>\n",
       "      <th>2</th>\n",
       "      <td>173</td>\n",
       "      <td>84</td>\n",
       "      <td>junior</td>\n",
       "      <td>1.0</td>\n",
       "      <td>0.0</td>\n",
       "      <td>0.0</td>\n",
       "    </tr>\n",
       "    <tr>\n",
       "      <th>3</th>\n",
       "      <td>189</td>\n",
       "      <td>98</td>\n",
       "      <td>senior</td>\n",
       "      <td>0.0</td>\n",
       "      <td>0.0</td>\n",
       "      <td>1.0</td>\n",
       "    </tr>\n",
       "  </tbody>\n",
       "</table>\n",
       "</div>"
      ],
      "text/plain": [
       "  altura (cm) massa (kg) qualificacao  qualificacao0  qualificacao1  \\\n",
       "0         170         90       junior            1.0            0.0   \n",
       "1         168         55        pleno            0.0            1.0   \n",
       "2         173         84       junior            1.0            0.0   \n",
       "3         189         98       senior            0.0            0.0   \n",
       "\n",
       "   qualificacao2  \n",
       "0            0.0  \n",
       "1            0.0  \n",
       "2            0.0  \n",
       "3            1.0  "
      ]
     },
     "execution_count": 60,
     "metadata": {},
     "output_type": "execute_result"
    }
   ],
   "source": [
    "#transforma o o np.arry em um dataframe\n",
    "ponte_ohe = pd.DataFrame(ponte_ohe,columns=[\"qualificacao\"+str(int(i)) for i in range(df.shape[1])])\n",
    "\n",
    "#adiciona as novas colunas ao dataframe original\n",
    "df = pd.concat([df,ponte_ohe], axis=1)\n",
    "\n",
    "df.head()"
   ]
  },
  {
   "cell_type": "code",
   "execution_count": 61,
   "metadata": {},
   "outputs": [
    {
     "data": {
      "text/html": [
       "<div>\n",
       "<style scoped>\n",
       "    .dataframe tbody tr th:only-of-type {\n",
       "        vertical-align: middle;\n",
       "    }\n",
       "\n",
       "    .dataframe tbody tr th {\n",
       "        vertical-align: top;\n",
       "    }\n",
       "\n",
       "    .dataframe thead th {\n",
       "        text-align: right;\n",
       "    }\n",
       "</style>\n",
       "<table border=\"1\" class=\"dataframe\">\n",
       "  <thead>\n",
       "    <tr style=\"text-align: right;\">\n",
       "      <th></th>\n",
       "      <th>altura (cm)</th>\n",
       "      <th>massa (kg)</th>\n",
       "      <th>qualificacao0</th>\n",
       "      <th>qualificacao1</th>\n",
       "      <th>qualificacao2</th>\n",
       "    </tr>\n",
       "  </thead>\n",
       "  <tbody>\n",
       "    <tr>\n",
       "      <th>0</th>\n",
       "      <td>170</td>\n",
       "      <td>90</td>\n",
       "      <td>1.0</td>\n",
       "      <td>0.0</td>\n",
       "      <td>0.0</td>\n",
       "    </tr>\n",
       "    <tr>\n",
       "      <th>1</th>\n",
       "      <td>168</td>\n",
       "      <td>55</td>\n",
       "      <td>0.0</td>\n",
       "      <td>1.0</td>\n",
       "      <td>0.0</td>\n",
       "    </tr>\n",
       "    <tr>\n",
       "      <th>2</th>\n",
       "      <td>173</td>\n",
       "      <td>84</td>\n",
       "      <td>1.0</td>\n",
       "      <td>0.0</td>\n",
       "      <td>0.0</td>\n",
       "    </tr>\n",
       "    <tr>\n",
       "      <th>3</th>\n",
       "      <td>189</td>\n",
       "      <td>98</td>\n",
       "      <td>0.0</td>\n",
       "      <td>0.0</td>\n",
       "      <td>1.0</td>\n",
       "    </tr>\n",
       "  </tbody>\n",
       "</table>\n",
       "</div>"
      ],
      "text/plain": [
       "  altura (cm) massa (kg)  qualificacao0  qualificacao1  qualificacao2\n",
       "0         170         90            1.0            0.0            0.0\n",
       "1         168         55            0.0            1.0            0.0\n",
       "2         173         84            1.0            0.0            0.0\n",
       "3         189         98            0.0            0.0            1.0"
      ]
     },
     "execution_count": 61,
     "metadata": {},
     "output_type": "execute_result"
    }
   ],
   "source": [
    "# faz o drop da coluna original qualificacao\n",
    "\n",
    "df = df.drop([\"qualificacao\"], axis=1)\n",
    "\n",
    "df.head()"
   ]
  },
  {
   "cell_type": "markdown",
   "metadata": {},
   "source": [
    "Note que agora temos a adição de 3 novas colunas, onde cada uma corresponde a uma classificação do atributo (\"junior\", \"pleno\", \"senior\")"
   ]
  },
  {
   "cell_type": "markdown",
   "metadata": {},
   "source": [
    "## Desafio \n",
    "\n",
    "Treine e avalie duas vezes um classificador kNN para o dataset Wine: https://archive.ics.uci.edu/ml/datasets/Wine. \n",
    "\n",
    "Considere como dados de entrada apenas as colunas 'Flavanoids’ e 'Proline’. \n",
    "\n",
    "Compare o efeito da normalização na avaliação do classificador. Use k = 5."
   ]
  },
  {
   "cell_type": "markdown",
   "metadata": {},
   "source": [
    "## Redução de dimensionalidade \n",
    "\n",
    "- Para o bom desempenho da tarefa de classificação é importante um conjunto suficientemente grande de atributos.\n",
    "  - Em muitos casos, especialmente quando se trabalha diretamente com os pixels das imagens, a informação necessária para a classificação de padrões está espalhada por praticamente todos os atributos\n",
    "- No entanto, um número muito grande de atributos atrapalha o desempenho dos classificadores, num efeito conhecido como a **maldição da dimensionalidade**, **curse of dimensionality**.\n",
    "- Frequentemente um número grande de atributos está associado à redundância da informação, ou seja, os valores dos tributos estão fortemente ligados entre si.\n",
    "  - Por exemplo, nas imagens de dígitos, pixels próximos tendem a ter tonalidades semelhantes\n",
    "- Uma saída para aproveitar a maior parte da informação espalhada pelos atributos é encontrar uma transformação dos dados que use atributos o tão independentes quanto possível.\n",
    "  - Dessa forma, alguns atributos terão mais relevância do que outros, pois ao desfazer a interdependência, conseguimos “separar” a informação relevante da informação redundante\n"
   ]
  },
  {
   "cell_type": "markdown",
   "metadata": {},
   "source": [
    "### PCA : Principal Component Analysis\n",
    "(Análise de Componentes Principais)"
   ]
  },
  {
   "cell_type": "markdown",
   "metadata": {},
   "source": [
    "  * O PCA é uma transformação linear, ou seja, multiplica os vetores de\n",
    "atributos de entradas de **N** posições por uma matriz com **M**x**N**, com **M** ≤ **N**, resultando em um novo vetor de **N** dimensões\n",
    "\n",
    "  * O elemento que se destaca é a da variância\n",
    "\n",
    "  * Essa transformação é obtida por meio dos vetores de treinamento. A redução na dimensionalidade é controlada pelo parâmetro que define a\n",
    "porcentagem de variabilidade que será mantida nos novos dados\n",
    "\n",
    "  * No Python, fazemos:"
   ]
  },
  {
   "cell_type": "code",
   "execution_count": 68,
   "metadata": {},
   "outputs": [
    {
     "name": "stdout",
     "output_type": "stream",
     "text": [
      "[[ -5.81469106]\n",
      " [ 27.45356145]\n",
      " [ -1.35358402]\n",
      " [-20.28528637]]\n",
      "shape original:  (4, 5) shape PCA:  (4, 1)\n"
     ]
    }
   ],
   "source": [
    "from sklearn.decomposition import PCA\n",
    "\n",
    "medidas_pca = PCA(0.5).fit_transform(df) # Mantem 50% de variabilidade\n",
    "print(medidas_pca)\n",
    "\n",
    "print(\"shape original: \" , df.shape, \"shape PCA: \" ,  medidas_pca.shape)\n",
    "\n"
   ]
  },
  {
   "cell_type": "markdown",
   "metadata": {},
   "source": [
    "  * Cada linha nessa matriz corresponde a uma vetor com **N** dimensões, com um significado especial, denominado de auto-vetor\n",
    "  * No caso dos vetores serem imagens, essas “auto-imagens” guardam características que serão usadas para identificar as imagens de teste"
   ]
  },
  {
   "cell_type": "code",
   "execution_count": 37,
   "metadata": {},
   "outputs": [
    {
     "name": "stdout",
     "output_type": "stream",
     "text": [
      "Collecting python-mnist\n",
      "  Downloading python_mnist-0.7-py2.py3-none-any.whl (9.6 kB)\n",
      "Installing collected packages: python-mnist\n",
      "Successfully installed python-mnist-0.7\n",
      "\u001b[33mWARNING: You are using pip version 21.0.1; however, version 21.2.2 is available.\n",
      "You should consider upgrading via the '/usr/bin/python3 -m pip install --upgrade pip' command.\u001b[0m\n",
      "Defaulting to user installation because normal site-packages is not writeable\n",
      "Collecting wget\n",
      "  Downloading wget-3.2.zip (10 kB)\n",
      "Building wheels for collected packages: wget\n",
      "  Building wheel for wget (setup.py) ... \u001b[?25ldone\n",
      "\u001b[?25h  Created wheel for wget: filename=wget-3.2-py3-none-any.whl size=9680 sha256=55d8e49af99c907f70dff784d0e066994d800531e7f5bb393e22eb48de40f67b\n",
      "  Stored in directory: /home/iot/.cache/pip/wheels/bd/a8/c3/3cf2c14a1837a4e04bd98631724e81f33f462d86a1d895fae0\n",
      "Successfully built wget\n",
      "Installing collected packages: wget\n",
      "Successfully installed wget-3.2\n",
      "\u001b[33mWARNING: You are using pip version 21.0.1; however, version 21.2.2 is available.\n",
      "You should consider upgrading via the '/usr/bin/python3 -m pip install --upgrade pip' command.\u001b[0m\n"
     ]
    },
    {
     "data": {
      "text/plain": [
       "'t10k-labels-idx1-ubyte.gz'"
      ]
     },
     "execution_count": 37,
     "metadata": {},
     "output_type": "execute_result"
    }
   ],
   "source": [
    "#Instale os pacotes e faz o download dos arquivos, se ja estiver na pasta não precisa rodar essa celula.\n",
    "\n",
    "#!pip3 install --user python-mnist\n",
    "#!pip install wget\n",
    "\n",
    "\n",
    "import wget\n",
    "wget.download('http://yann.lecun.com/exdb/mnist/train-images-idx3-ubyte.gz')\n",
    "wget.download('http://yann.lecun.com/exdb/mnist/train-labels-idx1-ubyte.gz')\n",
    "wget.download('http://yann.lecun.com/exdb/mnist/t10k-images-idx3-ubyte.gz')\n",
    "wget.download('http://yann.lecun.com/exdb/mnist/t10k-labels-idx1-ubyte.gz')"
   ]
  },
  {
   "cell_type": "markdown",
   "metadata": {},
   "source": [
    "## 1 - Gera a matriz de dados de entradas e o vetor de classes alvo para treinamento\n",
    "\n",
    "Cada linha da matriz de entradas (atributos) contém os pixels da  imagem.\n",
    "\n",
    "Cada posição do array de rótulos (labels) contém a classe alvo da imgem.\n",
    "\n",
    "No caso deste dataset, as imagens de trenamento e de teste já estão separadas, e vamos adotar a separação sugerida pelo autor da base de dados."
   ]
  },
  {
   "cell_type": "code",
   "execution_count": 38,
   "metadata": {},
   "outputs": [
    {
     "name": "stdout",
     "output_type": "stream",
     "text": [
      "Tempo para carregamento das imagens: 4.564690351486206s\n",
      "Dimensões da matriz dos dados de treinamento:  (60000, 784)\n",
      "Dimensões da matriz dos dados de teste:  (10000, 784)\n"
     ]
    }
   ],
   "source": [
    "import time\n",
    "import numpy as np\n",
    "# API MNIST\n",
    "from mnist import MNIST\n",
    "\n",
    "t0 = time.time()\n",
    "\n",
    "# Importa os dados do dieretório local\n",
    "mndata = MNIST('.')\n",
    "# Habilita abrir arquivos compactados\n",
    "mndata.gz = True \n",
    "\n",
    "# Carrega os dados de treinamento\n",
    "entradas_treino, classes_treino = mndata.load_training()\n",
    "# Carrega os dados de treinamento\n",
    "entradas_teste, classes_teste = mndata.load_testing()\n",
    "\n",
    "#Transformando em array do numpy\n",
    "entradas_treino = np.array(entradas_treino)\n",
    "classes_treino = np.array(classes_treino)\n",
    "entradas_teste = np.array(entradas_teste)\n",
    "classes_teste = np.array(classes_teste)\n",
    "\n",
    "dados_reduzidos = False\n",
    "\n",
    "print(\"Tempo para carregamento das imagens: {}s\".format(time.time()-t0))\n",
    "\n",
    "print(\"Dimensões da matriz dos dados de treinamento: \", entradas_treino.shape)\n",
    "print(\"Dimensões da matriz dos dados de teste: \", entradas_teste.shape)\n"
   ]
  },
  {
   "cell_type": "markdown",
   "metadata": {},
   "source": [
    "### 1.1 Visualizção de uma imagem\n",
    "\n",
    "Neste dataset cada imagem está armazenada como uma linha da matriz de entrada.\n",
    "Para visualizar a imagem que está na linha `i` da matriz, temos que convertê-la novamente em uma matriz quadrada, e usar a biblioteca `matplotlib`"
   ]
  },
  {
   "cell_type": "code",
   "execution_count": 39,
   "metadata": {},
   "outputs": [
    {
     "data": {
      "image/png": "[encoded data removed]",
      "text/plain": [
       "<Figure size 432x288 with 1 Axes>"
      ]
     },
     "metadata": {
      "needs_background": "light"
     },
     "output_type": "display_data"
    }
   ],
   "source": [
    "# Função que visualiza a linha lin da matriz\n",
    "import matplotlib.pyplot as plt\n",
    "import math\n",
    "def visualiza_linha_mnist(matriz, lin):\n",
    "  size = int(math.sqrt(matriz.shape[1]))\n",
    "  img = np.reshape(matriz[lin], (size, size))\n",
    "  plt.imshow(img, cmap=\"gray\")\n",
    "  \n",
    "# Visualização da linha 0\n",
    "visualiza_linha_mnist(entradas_treino, 0)\n",
    "plt.show()"
   ]
  },
  {
   "cell_type": "markdown",
   "metadata": {},
   "source": [
    "## 2 - Faz a normalização e a redução da dimensionalidade com PCA\n",
    "\n",
    "Instancia o modelo PCA de forma que 85% da variabilidade de dados seja mantida.\n",
    "O método `fit_transform(X)` treina o PCA e já traz os dados `X` transformados.\n",
    "Para reaproveitar o mesmo modelo PCA sem treiná-o novamente, usamos `transform()`.\n",
    "\n",
    "Uma vez que os dados de treinamento e teste já estão separados,treinamos o normalizador e o PCA com os dados de treinamento, e apenas aplicamos a transformação nos dados de teste."
   ]
  },
  {
   "cell_type": "code",
   "execution_count": 49,
   "metadata": {},
   "outputs": [
    {
     "name": "stdout",
     "output_type": "stream",
     "text": [
      "Tempo para o processamento (normalização + PCA) das imagens: 9.314913988113403s\n",
      "Novas dimensoes das matrizes de dados e classes (labels) de treinamento\n",
      "(60000, 185) (10000, 185)\n"
     ]
    }
   ],
   "source": [
    "from sklearn.preprocessing import StandardScaler\n",
    "# PCA\n",
    "from sklearn.decomposition import PCA\n",
    "\n",
    "t0 = time.time()\n",
    "\n",
    "normalizador = StandardScaler()\n",
    "redutor_dim = PCA(0.85)\n",
    "\n",
    "entradas_treino_norm = normalizador.fit_transform(entradas_treino)\n",
    "entradas_treino_norm = redutor_dim.fit_transform(entradas_treino_norm)\n",
    "\n",
    "entradas_teste_norm = normalizador.transform(entradas_teste)\n",
    "entradas_teste_norm = redutor_dim.transform(entradas_teste_norm)\n",
    "\n",
    "print(\"Tempo para o processamento (normalização + PCA) das imagens: {}s\".format(time.time()-t0))\n",
    "print(\"Novas dimensoes das matrizes de dados e classes (labels) de treinamento\")\n",
    "print(entradas_treino_norm.shape, entradas_teste_norm.shape)"
   ]
  },
  {
   "cell_type": "code",
   "execution_count": 51,
   "metadata": {},
   "outputs": [
    {
     "name": "stdout",
     "output_type": "stream",
     "text": [
      "Dimensões da matriz dos dados de treinamento:  (60000, 784)\n",
      "Dimensões da matriz dos dados de teste:  (10000, 784)\n",
      "784\n"
     ]
    }
   ],
   "source": [
    "print(\"Dimensões da matriz dos dados de treinamento: \", entradas_treino.shape)\n",
    "print(\"Dimensões da matriz dos dados de teste: \", entradas_teste.shape)\n",
    "print(28*28)\n"
   ]
  },
  {
   "cell_type": "code",
   "execution_count": 48,
   "metadata": {},
   "outputs": [
    {
     "name": "stdout",
     "output_type": "stream",
     "text": [
      "60000\n",
      "taxa de variancia explicada:  185 [0.05646717 0.04078272 0.0373938  0.02885115 0.02521109 0.0219427\n",
      " 0.01923344 0.01745799 0.01535092 0.0140172  0.01341743 0.01203742\n",
      " 0.0111457  0.01089924 0.01028649 0.00994487 0.00936383 0.00921046\n",
      " 0.00893437 0.00869913 0.00827363 0.00803417 0.00764846 0.00741772\n",
      " 0.00715293 0.00691847 0.00684136 0.00656675 0.00631677 0.0061292\n",
      " 0.00596255 0.00587716 0.00571592 0.00562307 0.00554682 0.00538418\n",
      " 0.00531182 0.00519606 0.00508211 0.00480006 0.00476456 0.00469139\n",
      " 0.00454349 0.00451346 0.00446963 0.00443383 0.00438215 0.00430382\n",
      " 0.00426878 0.00423647 0.00404696 0.00399447 0.00397456 0.00393821\n",
      " 0.00385814 0.00379043 0.00375403 0.00370776 0.00364944 0.00359301\n",
      " 0.00352382 0.00347794 0.00344411 0.00339868 0.00335955 0.00334886\n",
      " 0.00331864 0.00323026 0.00316277 0.00313244 0.00310731 0.00307243\n",
      " 0.00304914 0.00302717 0.00299485 0.00297761 0.00295052 0.00290438\n",
      " 0.00286856 0.00285678 0.00283398 0.00282627 0.00279551 0.00279305\n",
      " 0.00278519 0.00277455 0.00275901 0.00274227 0.00271411 0.00269263\n",
      " 0.00266484 0.00263581 0.00262962 0.00261034 0.00258827 0.00256176\n",
      " 0.00253846 0.00250447 0.00247829 0.00245034 0.00242347 0.00242064\n",
      " 0.00238875 0.00237455 0.00235608 0.00233053 0.0022798  0.00226174\n",
      " 0.00222832 0.00222442 0.00218169 0.00217257 0.00214277 0.00211938\n",
      " 0.00210972 0.0020733  0.00204761 0.00204368 0.00202409 0.00200462\n",
      " 0.00198822 0.00195216 0.00193737 0.00192103 0.00191716 0.00189802\n",
      " 0.00187089 0.00186536 0.0018132  0.00180005 0.00179194 0.00178973\n",
      " 0.0017695  0.00176158 0.00174797 0.00172985 0.00172017 0.00168727\n",
      " 0.00168517 0.00166842 0.00164718 0.00164575 0.00164294 0.00161486\n",
      " 0.0016049  0.00158912 0.0015749  0.00155918 0.00155638 0.00154666\n",
      " 0.00154043 0.00151605 0.00150272 0.00148761 0.00147505 0.0014682\n",
      " 0.00145803 0.00145568 0.00144737 0.00142895 0.00141058 0.00139939\n",
      " 0.00139709 0.00139533 0.00139355 0.00139225 0.00138773 0.0013834\n",
      " 0.00137816 0.00136845 0.00136165 0.00135822 0.00133701 0.00132905\n",
      " 0.00131059 0.00130293 0.00129324 0.00128241 0.00127407 0.00126822\n",
      " 0.00125322 0.00124045 0.00122984 0.00121618 0.00121506]\n",
      "valores de cada um dos componentes:  185 [1558.59475775 1324.56506425 1268.33806904 1114.08096949 1041.4321537\n",
      "  971.58372712  909.62781125  866.6272717   812.64796157  776.54347762\n",
      "  759.74854205  719.61780297  692.45059052  684.75186297  665.2254475\n",
      "  654.08571283  634.6905444   629.47108378  619.96491977  611.74864821\n",
      "  596.60000904  587.90318277  573.61706238  564.89867585  554.72424844\n",
      "  545.55706108  542.50833328  531.50859803  521.29389656  513.4959735\n",
      "  506.46720335  502.82760665  495.88178934  491.83803286  488.4917578\n",
      "  481.27703518  478.03201127  472.79417281  467.58152416  454.42094643\n",
      "  452.73755506  449.24798572  442.10962544  440.64606814  438.50160223\n",
      "  436.74183847  434.18923818  430.29086602  428.53573113  426.91093544\n",
      "  417.25324612  414.53862665  413.50407786  411.60868344  407.40275713\n",
      "  403.81203369  401.86842781  399.38423688  396.23108492  393.15532131\n",
      "  389.35177902  386.80851333  384.92303762  382.37581508  380.16791664\n",
      "  379.56282447  377.84621102  372.78112287  368.86630886  367.09355234\n",
      "  365.61819099  363.56002954  362.17963536  360.87245819  358.94092281\n",
      "  357.90621176  356.27402823  353.47770091  351.29123623  350.56891845\n",
      "  349.16718716  348.69212323  346.78936634  346.6369362   346.14874915\n",
      "  345.48710725  344.51781742  343.47138797  341.70285667  340.34823393\n",
      "  338.58759852  336.73828279  336.34220011  335.10707121  333.68749917\n",
      "  331.97454025  330.46102411  328.24139239  326.52136861  324.67435089\n",
      "  322.88936082  322.70086024  320.56858096  319.61385191  318.36887157\n",
      "  316.63780238  313.1725175   311.92971598  309.61609571  309.34544735\n",
      "  306.360028    305.71862309  303.61468514  301.95298194  301.26427292\n",
      "  298.6527374   296.79663011  296.51171699  295.08666108  293.66447678\n",
      "  292.46061956  289.79603176  288.69671405  287.47662373  287.18664393\n",
      "  285.74965273  283.70035923  283.28015727  279.29169961  278.27731866\n",
      "  277.64955632  277.47843311  275.90592833  275.28720761  274.22175433\n",
      "  272.7966822   272.03227791  269.41865042  269.25082545  267.90897203\n",
      "  266.19893845  266.08295896  265.85540571  263.57386832  262.7601788\n",
      "  261.46521492  260.29213116  258.9899899   258.75750421  257.94798876\n",
      "  257.42815671  255.38269599  254.25740548  252.97587879  251.90640352\n",
      "  251.32057934  250.44831234  250.24628968  249.53113324  247.93848294\n",
      "  246.33934447  245.36012105  245.15894614  245.00431129  244.84794458\n",
      "  244.73387616  244.33626317  243.95435627  243.49224383  242.63262475\n",
      "  242.0297457   241.72463554  239.82975985  239.11486781  237.44845681\n",
      "  236.75327822  235.87142391  234.8811359   234.11618726  233.57844421\n",
      "  232.19261652  231.00662861  230.01633731  228.73575127  228.63068847]\n"
     ]
    }
   ],
   "source": [
    "##Avaliação PCA\n",
    "\n",
    "print (len(entradas_treino_norm), len(entradas_treino_norm))\n",
    "\n",
    "print (\"taxa de variancia explicada: \" , len(redutor_dim.explained_variance_ratio_), redutor_dim.explained_variance_ratio_)\n",
    "print (\"valores de cada um dos componentes: \", len(redutor_dim.singular_values_), redutor_dim.singular_values_)"
   ]
  },
  {
   "cell_type": "markdown",
   "metadata": {},
   "source": [
    "### 2.1 - Visualização das 16 primairas imagens principais \n",
    "\n",
    "O PCA neste caso transforma um array (entrada ou linha da matriz) composta por um conjunto de pixels em um outro array que indica a composição da imagem em termos de \"imagens principais\""
   ]
  },
  {
   "cell_type": "code",
   "execution_count": 41,
   "metadata": {},
   "outputs": [
    {
     "name": "stderr",
     "output_type": "stream",
     "text": [
      "<ipython-input-41-e7a2857a4126>:5: MatplotlibDeprecationWarning: Adding an axes using the same arguments as a previous axes currently reuses the earlier instance.  In a future version, a new instance will always be created and returned.  Meanwhile, this warning can be suppressed, and the future behavior ensured, by passing a unique label to each axes instance.\n",
      "  plt.subplot(4,4,i*4+j+1)\n"
     ]
    },
    {
     "data": {
      "image/png": "[encoded data removed]",
      "text/plain": [
       "<Figure size 720x720 with 16 Axes>"
      ]
     },
     "metadata": {
      "needs_background": "light"
     },
     "output_type": "display_data"
    }
   ],
   "source": [
    "plt.figure(figsize=(10,10))\n",
    "plt.subplot(4,4,1)\n",
    "for i in range(4):\n",
    "  for j in range(4):\n",
    "    plt.subplot(4,4,i*4+j+1)\n",
    "    visualiza_linha_mnist(redutor_dim.components_, i*4 + j)\n",
    "plt.show()"
   ]
  },
  {
   "cell_type": "markdown",
   "metadata": {},
   "source": [
    "## Desafio \n",
    "\n",
    "Agora é com você termine a implementaçao deste classificador de digitos usando o KNN. Usar as novas matrizes no treinamento, teste e avaliação do classificador "
   ]
  },
  {
   "cell_type": "code",
   "execution_count": null,
   "metadata": {},
   "outputs": [],
   "source": [
    "## Seu código aqui....."
   ]
  }
 ],
 "metadata": {
  "kernelspec": {
   "display_name": "Python 3.9.5 64-bit",
   "language": "python",
   "name": "python3"
  },
  "language_info": {
   "codemirror_mode": {
    "name": "ipython",
    "version": 3
   },
   "file_extension": ".py",
   "mimetype": "text/x-python",
   "name": "python",
   "nbconvert_exporter": "python",
   "pygments_lexer": "ipython3",
   "version": "3.9.5"
  },
  "vscode": {
   "interpreter": {
    "hash": "8d68938bd6f1c8d824a292cb48fdc812f23ce0d2e12c844cec6ac89d2f668725"
   }
  }
 },
 "nbformat": 4,
 "nbformat_minor": 2
}
