{
 "cells": [
  {
   "cell_type": "markdown",
   "id": "423367be",
   "metadata": {},
   "source": [
    "## 2. Redes Neurais\n",
    "\n",
    "### Objetivos\n",
    "\n",
    "  - Conhecer e praticar Redes Neurais MLP\n",
    "  "
   ]
  },
  {
   "cell_type": "markdown",
   "id": "09f7dea5",
   "metadata": {},
   "source": [
    "## Batalha das redes \n",
    "\n",
    "Bem-vindos à nossa emocionante competição de Redes Neurais Multilayer Perceptron (MLP)! Hoje, vocês participarão de uma competição estilo Kaggle simplificada, projetada para colocar suas habilidades à prova e acelerar sua aprendizagem em um ambiente divertido e colaborativo.\n",
    "\n",
    "Ao longo desta aula, vocês enfrentarão três rodadas de desafios, cada uma com um dataset de dificuldade crescente. O objetivo é criar e otimizar modelos de redes neurais MLP para resolver problemas de classificação. Vocês trabalharão em duplas para desenvolver as melhores soluções possíveis, competindo uns contra os outros para ver quem alcança o melhor desempenho.\n",
    "\n",
    "A competição é estruturada da seguinte maneira:\n",
    "\n",
    " - Primeira rodada: Dataset fácil para que todos possam se familiarizar com o processo e começar a se aquecer.\n",
    " - Segunda rodada: Dataset de dificuldade média para desafiar suas habilidades e encorajá-los a explorar técnicas avançadas de otimização.\n",
    " - Terceira rodada: Dataset difícil, onde vocês colocarão à prova tudo o que aprenderam, desenvolvendo soluções para problemas complexos e realistas.\n",
    "  \n",
    "Vocês serão avaliados com base no desempenho de suas redes neurais e em critérios relacionados à arquitetura e complexidade da rede. Isso inclui métricas como acurácia, F1-Score e o número de neurônios usados no modelo. O objetivo é incentivar a criação de soluções eficientes e de alto desempenho.\n",
    "\n",
    "Preparem-se para mergulhar no mundo das redes neurais e aprender através da experiência prática. A competição será acirrada, mas, no final, todos sairão ganhando com o conhecimento e as habilidades adquiridas. \n",
    "\n",
    "\n",
    "Boa sorte a todos e que vença a melhor solução!"
   ]
  },
  {
   "cell_type": "markdown",
   "id": "e34ea878",
   "metadata": {},
   "source": [
    "## Descrição dos Datasets para as Rodadas de Competição\n",
    "\n",
    "Ao longo desta competição, vocês enfrentarão três rodadas de desafios, cada uma com um dataset de dificuldade crescente. Abaixo estão as descrições dos datasets selecionados para cada rodada:"
   ]
  },
  {
   "cell_type": "markdown",
   "id": "0e1597c3",
   "metadata": {},
   "source": [
    "### Primeira rodada - Dataset fácil: Iris Dataset\n",
    "\n",
    "O ``Iris dataset`` você já conhece, é um conjunto clássico de dados usado para problemas de classificação. Ele contém 150 amostras de flores de íris, divididas em 3 classes, cada uma representando um tipo de íris (Setosa, Versicolour e Virginica). Para cada amostra, há quatro características: comprimento e largura das sépalas e pétalas. \n",
    "\n",
    "O objetivo é criar um modelo MLP para classificar corretamente o tipo de íris com base nessas características.\n",
    "\n",
    "Para carregar o Iris dataset:"
   ]
  },
  {
   "cell_type": "code",
   "execution_count": 13,
   "id": "002e8ee0",
   "metadata": {},
   "outputs": [],
   "source": [
    "## importa dataset\n",
    "from sklearn.datasets import load_iris\n",
    "from sklearn.model_selection import train_test_split\n",
    "\n",
    "def iris():\n",
    "    iris = load_iris()\n",
    "    X, y = iris.data, iris.target\n",
    "    X_train, X_test, y_train, y_test = train_test_split(X, y, test_size=0.2, random_state=42)\n",
    "\n",
    "    return X_train, X_test, y_train, y_test\n"
   ]
  },
  {
   "cell_type": "markdown",
   "id": "f39c8fc4",
   "metadata": {},
   "source": [
    "### Segunda rodada - Dataset médio: Heart Disease UCI Dataset\n",
    "\n",
    "O ``Heart Disease UCI dataset`` é um conjunto de dados médicos que contém informações sobre pacientes e a presença de doenças cardíacas. São 303 amostras com 13 características, incluindo idade, sexo, pressão arterial em repouso e níveis de colesterol. \n",
    "\n",
    "O objetivo é classificar as amostras em duas classes: presença ou ausência de doença cardíaca.\n",
    "\n",
    "Para carregar o Heart Disease UCI dataset:\n",
    "\n"
   ]
  },
  {
   "cell_type": "code",
   "execution_count": 3,
   "id": "c2705065",
   "metadata": {},
   "outputs": [],
   "source": [
    "import pandas as pd\n",
    "from sklearn.model_selection import train_test_split\n",
    "from sklearn.preprocessing import StandardScaler\n",
    "\n",
    "def heart():\n",
    "    url = \"https://archive.ics.uci.edu/ml/machine-learning-databases/heart-disease/processed.cleveland.data\"\n",
    "    columns = ['age', 'sex', 'cp', 'trestbps', 'chol', 'fbs', 'restecg', 'thalach', 'exang', 'oldpeak', 'slope', 'ca', 'thal', 'target']\n",
    "\n",
    "    heart_disease_data = pd.read_csv(url, header=None, names=columns, na_values=\"?\")\n",
    "    #valores ausentes (NaN), substitue pela média da coluna\n",
    "    heart_disease_data.fillna(heart_disease_data.mean(), inplace=True)  \n",
    "\n",
    "    X = heart_disease_data.drop('target', axis=1)\n",
    "    y = heart_disease_data['target']\n",
    "\n",
    "    scaler = StandardScaler()\n",
    "    X_scaled = scaler.fit_transform(X)\n",
    "\n",
    "\n",
    "    X_train, X_test, y_train, y_test = train_test_split(X, y, test_size=0.2, random_state=42)\n",
    "    \n",
    "    return X_train, X_test, y_train, y_test"
   ]
  },
  {
   "cell_type": "markdown",
   "id": "5ab066f1",
   "metadata": {},
   "source": [
    "### Terceira rodada - Dataset difícil: Cifar10 Dataset\n",
    "\n",
    "O ``cifar10`` é um conjunto de dados mais desafiador, contendo mais de 60.000 imagens em cores de 32x32 pixels, representando 10 classes de objetos capturados em imagens reais. \n",
    "\n",
    "\n",
    "link: [https://www.cs.toronto.edu/~kriz/cifar.html](https://www.cs.toronto.edu/~kriz/cifar.html)\n",
    "\n",
    "O objetivo é criar um modelo MLP capaz de classificar corretamente cada imagem em seu respectivo dígito.\n",
    "\n",
    "Para carregar o SVHN dataset:"
   ]
  },
  {
   "cell_type": "code",
   "execution_count": 4,
   "id": "16849a7a",
   "metadata": {},
   "outputs": [],
   "source": [
    "import tensorflow as tf\n",
    "\n",
    "def cifar():\n",
    "    (X_train, y_train), (X_test, y_test) = tf.keras.datasets.cifar10.load_data()\n",
    "\n",
    "    return X_train, X_test, y_train, y_test "
   ]
  },
  {
   "attachments": {},
   "cell_type": "markdown",
   "id": "17ce46fe",
   "metadata": {},
   "source": [
    "### Código base\n",
    "\n",
    "O seu objetivo é a criação da rede MLP mais eficiente, este coódigo base te auxilia no restante. \n",
    "\n",
    "Para rodar, execute as celulas de código abaixo e faça as alterações onde for solicitado:\n"
   ]
  },
  {
   "cell_type": "code",
   "execution_count": 14,
   "id": "b1f84da6",
   "metadata": {},
   "outputs": [],
   "source": [
    "# Importação das bibliotecas necessárias\n",
    "import numpy as np\n",
    "import pandas as pd\n",
    "import tensorflow as tf\n",
    "from tensorflow.keras.models import Sequential\n",
    "from tensorflow.keras.layers import Dense\n",
    "from tensorflow.keras.layers import Dropout\n",
    "from keras.layers.normalization import BatchNormalization\n",
    "from keras.utils.np_utils import to_categorical  \n",
    "\n",
    "# importa as métricas de avaliação\n",
    "from sklearn.metrics import accuracy_score, f1_score, precision_score, recall_score\n"
   ]
  },
  {
   "attachments": {},
   "cell_type": "markdown",
   "id": "dd2fa0c5",
   "metadata": {},
   "source": [
    "### Primeiro passo\n",
    "\n",
    "Aqui você deve escolhar do dataset. \n",
    "\n",
    "Defina o dataset de acordo com rodada da competição.\n",
    "\n",
    " - dataset = 'rodada1'   --> primeira rodada\n",
    " - dataset = 'rodada2'   --> primeira rodada\n",
    " - dataset = 'rodada3'   --> primeira rodada\n",
    "\n",
    "\n",
    "\n",
    "\n"
   ]
  },
  {
   "cell_type": "code",
   "execution_count": 31,
   "id": "04c9d306",
   "metadata": {},
   "outputs": [
    {
     "name": "stdout",
     "output_type": "stream",
     "text": [
      "shape original\n",
      "X_train: (50000, 32, 32, 3), X_test: (10000, 32, 32, 3), y_train:(50000, 1), y_test:(10000, 1)\n",
      "shape redimensionado, flatten\n",
      "X_train: (50000, 3072), X_test: (10000, 3072), y_train:(50000, 1), y_test:(10000, 1)\n"
     ]
    }
   ],
   "source": [
    "### dataset da rodada, basta descomentar uma das linhas abaixo\n",
    "\n",
    "#dataset = 'rodada1'\n",
    "#dataset = 'rodada2'\n",
    "dataset = 'rodada3'\n",
    "\n",
    "\n",
    "\n",
    "# Função para carregar e preprocessar o dataset\n",
    "def load_and_preprocess_data(dataset):\n",
    "    if dataset == \"rodada1\":\n",
    "        X_train, X_test, y_train, y_test = iris()\n",
    "        \n",
    "    elif dataset == \"rodada2\":\n",
    "        X_train, X_test, y_train, y_test = heart()\n",
    "        \n",
    "    else:\n",
    "        X_train, X_test, y_train, y_test = cifar()\n",
    "        X_train = X_train.astype('float32')\n",
    "        X_test = X_test.astype('float32')\n",
    "        #normaliza os dados para o pixel ficar com valores entre 0 e 1\n",
    "        X_train = X_train / 255.0\n",
    "        X_test = X_test / 255.0 \n",
    "       # print(y_train[0])\n",
    "       # y_train = to_categorical(y_train, num_classes=10)\n",
    "       # y_test = to_categorical(y_test, num_classes=10)\n",
    "        print('shape original')\n",
    "        print('X_train: {}, X_test: {}, y_train:{}, y_test:{}'.format(X_train.shape, X_test.shape, y_train.shape, y_test.shape))\n",
    "        print('shape redimensionado, flatten')\n",
    "        X_train = X_train.reshape(X_train.shape[0], -1)\n",
    "        X_test = X_test.reshape(X_test.shape[0], -1)\n",
    "\n",
    "    \n",
    "    return X_train, X_test, y_train, y_test\n",
    "\n",
    "# Carregue e preprocess os dados\n",
    "X_train, X_test, y_train, y_test = load_and_preprocess_data(dataset)\n",
    "print('X_train: {}, X_test: {}, y_train:{}, y_test:{}'.format(X_train.shape, X_test.shape, y_train.shape, y_test.shape))"
   ]
  },
  {
   "attachments": {},
   "cell_type": "markdown",
   "id": "66dab7ca",
   "metadata": {},
   "source": [
    "### Segundo passo\n",
    "\n",
    "Crie sua rede neural MLP dentro da função create_model().\n",
    "\n",
    "É aqui que você vai trabalhar! Use a função create_model() para definir a arquitetura da sua rede neural MLP.\n",
    "\n",
    "\n",
    "### Dicas\n",
    "\n",
    "- Adicione as camadas Densas, Dropout, etc.\n",
    "- Adicione/altere quantidade de neuronios.\n",
    "- Adicione/altere função de ativação ('relu','softmax','sigmoid')\n",
    "\n",
    "Exemplos:\n",
    "* model.add(Dense(18, activation='relu', input_shape=(4,)))\n",
    "* model.add(Dropout(rate=0.5))\n",
    "* model.add(BatchNormalization())"
   ]
  },
  {
   "cell_type": "code",
   "execution_count": 32,
   "id": "b2c0fe00",
   "metadata": {},
   "outputs": [
    {
     "name": "stdout",
     "output_type": "stream",
     "text": [
      "rodada3\n",
      "Model: \"sequential_4\"\n",
      "_________________________________________________________________\n",
      "Layer (type)                 Output Shape              Param #   \n",
      "=================================================================\n",
      "dense_13 (Dense)             (None, 256)               786688    \n",
      "_________________________________________________________________\n",
      "dense_14 (Dense)             (None, 128)               32896     \n",
      "_________________________________________________________________\n",
      "dense_15 (Dense)             (None, 64)                8256      \n",
      "_________________________________________________________________\n",
      "dense_16 (Dense)             (None, 10)                650       \n",
      "=================================================================\n",
      "Total params: 828,490\n",
      "Trainable params: 828,490\n",
      "Non-trainable params: 0\n",
      "_________________________________________________________________\n"
     ]
    }
   ],
   "source": [
    "# Função para criar o modelo MLP\n",
    "def create_model(dataset):\n",
    "    model = Sequential()\n",
    "    # Adicione as camadas aqui\n",
    "    \n",
    "  \n",
    "\n",
    "    \n",
    "    # Compile o modelo Não altera aqui, por enquanto.\n",
    "    if dataset == 'rodada2': model.compile(optimizer='adam', loss='binary_crossentropy', metrics=['accuracy'])\n",
    "    else: model.compile(optimizer='adam', loss='sparse_categorical_crossentropy', metrics=['accuracy'])\n",
    "    \n",
    "    return model\n",
    "\n",
    "# Crie o modelo\n",
    "print(dataset)\n",
    "model = create_model(dataset)\n",
    "\n",
    "model.summary()\n"
   ]
  },
  {
   "attachments": {},
   "cell_type": "markdown",
   "id": "862d844c",
   "metadata": {},
   "source": [
    "### Terceiro passo\n",
    "\n",
    "Treine o seu modelo, aqui voce deve trabalhar para definir os parametros de treinamento da rede neural.\n",
    "\n",
    "### Dicas\n",
    "\n",
    "- Altere quantidade de epocas, batch_size e validation_split"
   ]
  },
  {
   "cell_type": "code",
   "execution_count": 33,
   "id": "1ab92b49",
   "metadata": {},
   "outputs": [
    {
     "name": "stdout",
     "output_type": "stream",
     "text": [
      "Epoch 1/10\n",
      "1250/1250 [==============================] - 16s 12ms/step - loss: 1.8950 - accuracy: 0.3113 - val_loss: 1.7650 - val_accuracy: 0.3617\n",
      "Epoch 2/10\n",
      "1250/1250 [==============================] - 13s 11ms/step - loss: 1.7110 - accuracy: 0.3840 - val_loss: 1.6927 - val_accuracy: 0.3881\n",
      "Epoch 3/10\n",
      "1250/1250 [==============================] - 14s 11ms/step - loss: 1.6364 - accuracy: 0.4112 - val_loss: 1.6794 - val_accuracy: 0.3925\n",
      "Epoch 4/10\n",
      "1250/1250 [==============================] - 14s 11ms/step - loss: 1.5806 - accuracy: 0.4293 - val_loss: 1.5818 - val_accuracy: 0.4386\n",
      "Epoch 5/10\n",
      "1250/1250 [==============================] - 14s 12ms/step - loss: 1.5416 - accuracy: 0.4438 - val_loss: 1.5918 - val_accuracy: 0.4275\n",
      "Epoch 6/10\n",
      "1250/1250 [==============================] - 17s 13ms/step - loss: 1.5094 - accuracy: 0.4597 - val_loss: 1.5708 - val_accuracy: 0.4453\n",
      "Epoch 7/10\n",
      "1250/1250 [==============================] - 13s 11ms/step - loss: 1.4842 - accuracy: 0.4685 - val_loss: 1.5493 - val_accuracy: 0.4431\n",
      "Epoch 8/10\n",
      "1250/1250 [==============================] - 12s 10ms/step - loss: 1.4641 - accuracy: 0.4735 - val_loss: 1.5444 - val_accuracy: 0.4503\n",
      "Epoch 9/10\n",
      "1250/1250 [==============================] - 11s 9ms/step - loss: 1.4417 - accuracy: 0.4834 - val_loss: 1.4933 - val_accuracy: 0.4746\n",
      "Epoch 10/10\n",
      "1250/1250 [==============================] - 15s 12ms/step - loss: 1.4171 - accuracy: 0.4915 - val_loss: 1.4887 - val_accuracy: 0.4663\n"
     ]
    }
   ],
   "source": [
    "# Treine o modelo\n",
    "history = model.fit(X_train, y_train, epochs=10, validation_split=0.2)"
   ]
  },
  {
   "cell_type": "markdown",
   "id": "614ed279",
   "metadata": {},
   "source": [
    "### Quarto passo\n",
    "\n",
    "Avaliação do modelo treinado"
   ]
  },
  {
   "cell_type": "code",
   "execution_count": 34,
   "id": "e83e627d",
   "metadata": {},
   "outputs": [
    {
     "name": "stdout",
     "output_type": "stream",
     "text": [
      "1563/1563 - 6s - loss: 1.3765 - accuracy: 0.5065\n",
      "313/313 - 1s - loss: 1.4581 - accuracy: 0.4761\n"
     ]
    }
   ],
   "source": [
    "#Validadção\n",
    "train_loss, train_acc = model.evaluate(X_train,  y_train, verbose=2)\n",
    "test_loss, test_acc = model.evaluate(X_test,  y_test, verbose=2)"
   ]
  },
  {
   "cell_type": "code",
   "execution_count": 35,
   "id": "8e42fe69",
   "metadata": {},
   "outputs": [
    {
     "data": {
      "image/png": "[encoded data removed]",
      "text/plain": [
       "<Figure size 432x288 with 1 Axes>"
      ]
     },
     "metadata": {
      "needs_background": "light"
     },
     "output_type": "display_data"
    },
    {
     "data": {
      "image/png": "[encoded data removed]",
      "text/plain": [
       "<Figure size 432x288 with 1 Axes>"
      ]
     },
     "metadata": {
      "needs_background": "light"
     },
     "output_type": "display_data"
    }
   ],
   "source": [
    "## exibe os graficos da função loss e acuracia\n",
    "\n",
    "history_df = pd.DataFrame(history.history)\n",
    "\n",
    "history_df[['loss','val_loss']].plot();\n",
    "history_df[['accuracy','val_accuracy']].plot();\n"
   ]
  },
  {
   "cell_type": "code",
   "execution_count": 36,
   "id": "7ef95ee8",
   "metadata": {},
   "outputs": [
    {
     "name": "stdout",
     "output_type": "stream",
     "text": [
      "Acurácia: 0.4761\n",
      "Precisão: 0.48214241166222216\n",
      "Revocação: 0.4761\n",
      "F1-Score: 0.4730974839107123\n"
     ]
    }
   ],
   "source": [
    "# Função para avaliar o modelo\n",
    "def train_and_evaluate_model(model, X_train, X_test, y_train, y_test):\n",
    "    \n",
    "    \n",
    "    # Faça previsões no conjunto de teste\n",
    "    y_pred = np.argmax(model.predict(X_test), axis=-1)\n",
    "    \n",
    "    # Converta os rótulos para inteiros\n",
    "    y_test = y_test.astype(int)\n",
    "    y_pred = y_pred.astype(int)\n",
    "\n",
    "    \n",
    "    # Calcule as métricas de avaliação\n",
    "    accuracy = accuracy_score(y_test, y_pred)\n",
    "    precision = precision_score(y_test, y_pred, average='weighted')\n",
    "    recall = recall_score(y_test, y_pred, average='weighted')\n",
    "    f1 = f1_score(y_test, y_pred, average='weighted')\n",
    "    \n",
    "    return accuracy, precision, recall, f1\n",
    "\n",
    "# Treine e avalie o modelo\n",
    "accuracy, precision, recall, f1 = train_and_evaluate_model(model, X_train, X_test, y_train, y_test)\n",
    "\n",
    "# Exiba os resultados\n",
    "print(\"Acurácia:\", accuracy)\n",
    "print(\"Precisão:\", precision)\n",
    "print(\"Revocação:\", recall)\n",
    "print(\"F1-Score:\", f1)\n"
   ]
  },
  {
   "cell_type": "code",
   "execution_count": null,
   "id": "94f2fb40",
   "metadata": {},
   "outputs": [],
   "source": []
  },
  {
   "cell_type": "code",
   "execution_count": null,
   "id": "f9e8ebf0",
   "metadata": {},
   "outputs": [],
   "source": []
  }
 ],
 "metadata": {
  "kernelspec": {
   "display_name": "Python 3",
   "language": "python",
   "name": "python3"
  },
  "language_info": {
   "codemirror_mode": {
    "name": "ipython",
    "version": 3
   },
   "file_extension": ".py",
   "mimetype": "text/x-python",
   "name": "python",
   "nbconvert_exporter": "python",
   "pygments_lexer": "ipython3",
   "version": "3.9.5"
  }
 },
 "nbformat": 4,
 "nbformat_minor": 5
}
