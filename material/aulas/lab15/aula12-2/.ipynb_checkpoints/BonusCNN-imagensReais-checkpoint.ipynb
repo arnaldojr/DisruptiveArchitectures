{
 "cells": [
  {
   "cell_type": "code",
   "execution_count": 14,
   "metadata": {},
   "outputs": [
    {
     "name": "stdout",
     "output_type": "stream",
     "text": [
      "--2021-09-12 16:41:40--  https://namespace.co.ke/ml/dataset.zip\n",
      "Resolving namespace.co.ke (namespace.co.ke)... 109.106.250.14\n",
      "Connecting to namespace.co.ke (namespace.co.ke)|109.106.250.14|:443... connected.\n",
      "HTTP request sent, awaiting response... 200 OK\n",
      "Length: 228894139 (218M) [application/zip]\n",
      "Saving to: ‘/tmp/catsdogs.zip’\n",
      "\n",
      "/tmp/catsdogs.zip   100%[===================>] 218,29M  1,55MB/s    in 21m 11s \n",
      "\n",
      "2021-09-12 17:02:52 (176 KB/s) - ‘/tmp/catsdogs.zip’ saved [228894139/228894139]\n",
      "\n",
      "--2021-09-12 17:02:52--  https://upload.wikimedia.org/wikipedia/commons/1/18/Dog_Breeds.jpg\n",
      "Resolving upload.wikimedia.org (upload.wikimedia.org)... 208.80.154.240, 2620:0:861:ed1a::2:b\n",
      "Connecting to upload.wikimedia.org (upload.wikimedia.org)|208.80.154.240|:443... connected.\n",
      "HTTP request sent, awaiting response... 200 OK\n",
      "Length: 70761 (69K) [image/jpeg]\n",
      "Saving to: ‘/tmp/dog.jpg’\n",
      "\n",
      "/tmp/dog.jpg        100%[===================>]  69,10K   171KB/s    in 0,4s    \n",
      "\n",
      "2021-09-12 17:02:54 (171 KB/s) - ‘/tmp/dog.jpg’ saved [70761/70761]\n",
      "\n"
     ]
    }
   ],
   "source": [
    "!wget --no-check-certificate \\\n",
    "        https://namespace.co.ke/ml/dataset.zip \\\n",
    "        -O /tmp/catsdogs.zip\n",
    "\n",
    "    \n",
    "!wget --no-check-certificate \\\n",
    "    https://upload.wikimedia.org/wikipedia/commons/1/18/Dog_Breeds.jpg \\\n",
    "    -O /tmp/dog.jpg"
   ]
  },
  {
   "cell_type": "code",
   "execution_count": 15,
   "metadata": {},
   "outputs": [],
   "source": [
    "import os\n",
    "import zipfile\n",
    "with zipfile.ZipFile('/tmp/catsdogs.zip', 'r') as zip_ref:\n",
    "    zip_ref.extractall('/tmp/cats_dogs')"
   ]
  },
  {
   "cell_type": "code",
   "execution_count": 16,
   "metadata": {},
   "outputs": [],
   "source": [
    "base_dir = '/tmp/cats_dogs/dataset'\n",
    "train_dir = os.path.join(base_dir, 'training_set')\n",
    "test_dir = os.path.join(base_dir, 'test_set')"
   ]
  },
  {
   "cell_type": "code",
   "execution_count": 17,
   "metadata": {},
   "outputs": [
    {
     "data": {
      "text/plain": [
       "['single_prediction', 'training_set', 'test_set', '.DS_Store']"
      ]
     },
     "execution_count": 17,
     "metadata": {},
     "output_type": "execute_result"
    }
   ],
   "source": [
    "import os\n",
    "os.listdir(base_dir)"
   ]
  },
  {
   "cell_type": "code",
   "execution_count": 19,
   "metadata": {},
   "outputs": [
    {
     "name": "stdout",
     "output_type": "stream",
     "text": [
      "Found 8000 files belonging to 2 classes.\n"
     ]
    }
   ],
   "source": [
    "import tensorflow as tf\n",
    "training_set = tf.keras.preprocessing.image_dataset_from_directory(\n",
    "train_dir,\n",
    "seed=101,\n",
    "image_size=(200, 200),\n",
    "batch_size=32)"
   ]
  },
  {
   "cell_type": "code",
   "execution_count": 20,
   "metadata": {},
   "outputs": [],
   "source": [
    "class_names = training_set.class_names"
   ]
  },
  {
   "cell_type": "code",
   "execution_count": 21,
   "metadata": {},
   "outputs": [
    {
     "name": "stdout",
     "output_type": "stream",
     "text": [
      "Found 2000 files belonging to 2 classes.\n"
     ]
    }
   ],
   "source": [
    "validation_set = tf.keras.preprocessing.image_dataset_from_directory(\n",
    "test_dir,\n",
    "seed=101,\n",
    "image_size=(200, 200),\n",
    "batch_size=32)"
   ]
  },
  {
   "cell_type": "code",
   "execution_count": 23,
   "metadata": {},
   "outputs": [],
   "source": [
    "from keras.preprocessing import image\n",
    "from keras.preprocessing.image import ImageDataGenerator\n",
    "\n",
    "data_augmentation = keras.Sequential(\n",
    "  [\n",
    "    tf.keras.layers.experimental.preprocessing.RandomFlip(\"horizontal\",\n",
    "                                                 input_shape=(200,                                                           200,\n",
    "                                                               3)),\n",
    "    tf.keras.layers.experimental.preprocessing.RandomRotation(0.2),\n",
    "    tf.keras.layers.experimental.preprocessing.RandomZoom(0.2),\n",
    "  ]\n",
    ")"
   ]
  },
  {
   "cell_type": "code",
   "execution_count": 24,
   "metadata": {},
   "outputs": [],
   "source": [
    "import tensorflow as tf\n",
    "from tensorflow import keras\n",
    "from tensorflow.keras import Sequential\n",
    "from tensorflow.keras.layers import Dense,Conv2D,MaxPooling2D,Flatten,Dropout\n",
    "from tensorflow.keras.preprocessing.image import ImageDataGenerator\n",
    "model = Sequential([\n",
    "    data_augmentation,\n",
    "    tf.keras.layers.experimental.preprocessing.Rescaling(1./255),\n",
    "    Conv2D(filters=32,kernel_size=(3,3), activation='relu'),\n",
    "    MaxPooling2D(pool_size=(2,2)),\n",
    "\n",
    "    Conv2D(filters=32,kernel_size=(3,3), activation='relu'),\n",
    "    MaxPooling2D(pool_size=(2,2)),\n",
    "    Dropout(0.25),\n",
    "\n",
    "    Conv2D(filters=64,kernel_size=(3,3), activation='relu'),\n",
    "    MaxPooling2D(pool_size=(2,2)),\n",
    "    Dropout(0.25),\n",
    "\n",
    "    Flatten(),\n",
    "    Dense(128, activation='relu'),\n",
    "    Dropout(0.25),\n",
    "    Dense(1, activation='sigmoid')\n",
    "])"
   ]
  },
  {
   "cell_type": "code",
   "execution_count": 25,
   "metadata": {},
   "outputs": [],
   "source": [
    "model.compile(optimizer='adam',\n",
    "              loss=keras.losses.BinaryCrossentropy(from_logits=True),\n",
    "              metrics=[keras.metrics.BinaryAccuracy()])"
   ]
  },
  {
   "cell_type": "code",
   "execution_count": 27,
   "metadata": {},
   "outputs": [],
   "source": [
    "from tensorflow.keras.callbacks import EarlyStopping\n",
    "callbacks = [\n",
    "             EarlyStopping(patience=2)\n",
    "]"
   ]
  },
  {
   "cell_type": "code",
   "execution_count": 28,
   "metadata": {},
   "outputs": [
    {
     "name": "stdout",
     "output_type": "stream",
     "text": [
      "Epoch 1/600\n"
     ]
    },
    {
     "name": "stderr",
     "output_type": "stream",
     "text": [
      "/home/iot/.local/lib/python3.8/site-packages/keras/backend.py:4993: UserWarning: \"`binary_crossentropy` received `from_logits=True`, but the `output` argument was produced by a sigmoid or softmax activation and thus does not represent logits. Was this intended?\"\n",
      "  warnings.warn(\n"
     ]
    },
    {
     "name": "stdout",
     "output_type": "stream",
     "text": [
      "250/250 [==============================] - 415s 2s/step - loss: 0.7084 - binary_accuracy: 0.5213 - val_loss: 0.6892 - val_binary_accuracy: 0.5855\n",
      "Epoch 2/600\n",
      "250/250 [==============================] - 453s 2s/step - loss: 0.6869 - binary_accuracy: 0.5475 - val_loss: 0.6800 - val_binary_accuracy: 0.5675\n",
      "Epoch 3/600\n",
      "250/250 [==============================] - 363s 1s/step - loss: 0.6810 - binary_accuracy: 0.5683 - val_loss: 0.6705 - val_binary_accuracy: 0.5810\n",
      "Epoch 4/600\n",
      "250/250 [==============================] - 339s 1s/step - loss: 0.6631 - binary_accuracy: 0.6025 - val_loss: 0.6371 - val_binary_accuracy: 0.6405\n",
      "Epoch 5/600\n",
      "250/250 [==============================] - 340s 1s/step - loss: 0.6413 - binary_accuracy: 0.6248 - val_loss: 0.5992 - val_binary_accuracy: 0.6825\n",
      "Epoch 6/600\n",
      "250/250 [==============================] - 339s 1s/step - loss: 0.6021 - binary_accuracy: 0.6794 - val_loss: 0.5866 - val_binary_accuracy: 0.6785\n",
      "Epoch 7/600\n",
      "250/250 [==============================] - 340s 1s/step - loss: 0.5896 - binary_accuracy: 0.6884 - val_loss: 0.5762 - val_binary_accuracy: 0.6860\n",
      "Epoch 8/600\n",
      "250/250 [==============================] - 332s 1s/step - loss: 0.5690 - binary_accuracy: 0.6995 - val_loss: 0.5404 - val_binary_accuracy: 0.7300\n",
      "Epoch 9/600\n",
      "250/250 [==============================] - 341s 1s/step - loss: 0.5591 - binary_accuracy: 0.7151 - val_loss: 0.6011 - val_binary_accuracy: 0.6835\n",
      "Epoch 10/600\n",
      "250/250 [==============================] - 337s 1s/step - loss: 0.5444 - binary_accuracy: 0.7225 - val_loss: 0.5199 - val_binary_accuracy: 0.7360\n",
      "Epoch 11/600\n",
      "250/250 [==============================] - 336s 1s/step - loss: 0.5395 - binary_accuracy: 0.7250 - val_loss: 0.5047 - val_binary_accuracy: 0.7500\n",
      "Epoch 12/600\n",
      "250/250 [==============================] - 329s 1s/step - loss: 0.5281 - binary_accuracy: 0.7331 - val_loss: 0.5278 - val_binary_accuracy: 0.7295\n",
      "Epoch 13/600\n",
      "250/250 [==============================] - 326s 1s/step - loss: 0.5237 - binary_accuracy: 0.7370 - val_loss: 0.5091 - val_binary_accuracy: 0.7460\n"
     ]
    }
   ],
   "source": [
    "history = model.fit(training_set,validation_data=validation_set, epochs=600,callbacks=callbacks)"
   ]
  },
  {
   "cell_type": "code",
   "execution_count": 29,
   "metadata": {},
   "outputs": [],
   "source": [
    "import pandas as pd\n",
    "\n",
    "metrics_df = pd.DataFrame(history.history)"
   ]
  },
  {
   "cell_type": "code",
   "execution_count": 30,
   "metadata": {},
   "outputs": [
    {
     "data": {
      "image/png": "[encoded data removed]",
      "text/plain": [
       "<Figure size 432x288 with 1 Axes>"
      ]
     },
     "metadata": {
      "needs_background": "light"
     },
     "output_type": "display_data"
    }
   ],
   "source": [
    "metrics_df[[\"loss\",\"val_loss\"]].plot();"
   ]
  },
  {
   "cell_type": "code",
   "execution_count": 31,
   "metadata": {},
   "outputs": [
    {
     "data": {
      "image/png": "[encoded data removed]",
      "text/plain": [
       "<Figure size 432x288 with 1 Axes>"
      ]
     },
     "metadata": {
      "needs_background": "light"
     },
     "output_type": "display_data"
    }
   ],
   "source": [
    "metrics_df[[\"binary_accuracy\",\"val_binary_accuracy\"]].plot();"
   ]
  },
  {
   "cell_type": "code",
   "execution_count": 32,
   "metadata": {},
   "outputs": [
    {
     "name": "stdout",
     "output_type": "stream",
     "text": [
      "63/63 [==============================] - 19s 291ms/step - loss: 0.5091 - binary_accuracy: 0.7460\n",
      "Accuracy on test dataset: 0.7459999918937683\n"
     ]
    }
   ],
   "source": [
    "loss, accuracy = model.evaluate(validation_set)\n",
    "print('Accuracy on test dataset:', accuracy)"
   ]
  },
  {
   "cell_type": "code",
   "execution_count": 33,
   "metadata": {},
   "outputs": [],
   "source": [
    "import numpy as np\n",
    "from keras.preprocessing import image"
   ]
  },
  {
   "cell_type": "code",
   "execution_count": 34,
   "metadata": {},
   "outputs": [
    {
     "name": "stdout",
     "output_type": "stream",
     "text": [
      "--2021-09-12 20:11:11--  https://upload.wikimedia.org/wikipedia/commons/c/c7/Tabby_cat_with_blue_eyes-3336579.jpg\n",
      "Resolving upload.wikimedia.org (upload.wikimedia.org)... 208.80.154.240, 2620:0:861:ed1a::2:b\n",
      "Connecting to upload.wikimedia.org (upload.wikimedia.org)|208.80.154.240|:443... connected.\n",
      "HTTP request sent, awaiting response... 200 OK\n",
      "Length: 2114775 (2,0M) [image/jpeg]\n",
      "Saving to: ‘/tmp/cat.jpg’\n",
      "\n",
      "/tmp/cat.jpg        100%[===================>]   2,02M   420KB/s    in 4,9s    \n",
      "\n",
      "2021-09-12 20:11:17 (420 KB/s) - ‘/tmp/cat.jpg’ saved [2114775/2114775]\n",
      "\n"
     ]
    }
   ],
   "source": [
    "!wget --no-check-certificate \\\n",
    "    https://upload.wikimedia.org/wikipedia/commons/c/c7/Tabby_cat_with_blue_eyes-3336579.jpg \\\n",
    "    -O /tmp/cat.jpg"
   ]
  },
  {
   "cell_type": "code",
   "execution_count": 35,
   "metadata": {},
   "outputs": [],
   "source": [
    "test_image = image.load_img('/tmp/cat.jpg', target_size=(200, 200))"
   ]
  },
  {
   "cell_type": "code",
   "execution_count": 36,
   "metadata": {},
   "outputs": [],
   "source": [
    "test_image = image.img_to_array(test_image)"
   ]
  },
  {
   "cell_type": "code",
   "execution_count": 37,
   "metadata": {},
   "outputs": [],
   "source": [
    "test_image = np.expand_dims(test_image, axis=0)"
   ]
  },
  {
   "cell_type": "code",
   "execution_count": 38,
   "metadata": {},
   "outputs": [],
   "source": [
    "prediction = model.predict(test_image)"
   ]
  },
  {
   "cell_type": "code",
   "execution_count": 39,
   "metadata": {},
   "outputs": [
    {
     "data": {
      "text/plain": [
       "0.2902648"
      ]
     },
     "execution_count": 39,
     "metadata": {},
     "output_type": "execute_result"
    }
   ],
   "source": [
    "prediction[0][0]"
   ]
  },
  {
   "cell_type": "code",
   "execution_count": 40,
   "metadata": {},
   "outputs": [
    {
     "name": "stdout",
     "output_type": "stream",
     "text": [
      " is a cat\n"
     ]
    }
   ],
   "source": [
    "if prediction[0][0]>0.5:\n",
    "  print(\" is a dog\")\n",
    "else:\n",
    "   print(\" is a cat\")"
   ]
  },
  {
   "cell_type": "code",
   "execution_count": 41,
   "metadata": {},
   "outputs": [
    {
     "name": "stdout",
     "output_type": "stream",
     "text": [
      "--2021-09-12 20:11:32--  https://upload.wikimedia.org/wikipedia/commons/1/18/Dog_Breeds.jpg\n",
      "Resolving upload.wikimedia.org (upload.wikimedia.org)... 208.80.154.240, 2620:0:861:ed1a::2:b\n",
      "Connecting to upload.wikimedia.org (upload.wikimedia.org)|208.80.154.240|:443... connected.\n",
      "HTTP request sent, awaiting response... 200 OK\n",
      "Length: 70761 (69K) [image/jpeg]\n",
      "Saving to: ‘/tmp/dog.jpg’\n",
      "\n",
      "/tmp/dog.jpg        100%[===================>]  69,10K   107KB/s    in 0,6s    \n",
      "\n",
      "2021-09-12 20:11:33 (107 KB/s) - ‘/tmp/dog.jpg’ saved [70761/70761]\n",
      "\n"
     ]
    }
   ],
   "source": [
    "!wget --no-check-certificate \\\n",
    "    https://upload.wikimedia.org/wikipedia/commons/1/18/Dog_Breeds.jpg \\\n",
    "    -O /tmp/dog.jpg"
   ]
  },
  {
   "cell_type": "code",
   "execution_count": 42,
   "metadata": {},
   "outputs": [],
   "source": [
    "test_image2 = image.load_img('/tmp/dog.jpg', target_size=(200, 200))"
   ]
  },
  {
   "cell_type": "code",
   "execution_count": 43,
   "metadata": {},
   "outputs": [],
   "source": [
    "test_image2 = np.expand_dims(test_image2, axis=0)\n",
    "prediction = model.predict(test_image2)"
   ]
  },
  {
   "cell_type": "code",
   "execution_count": 44,
   "metadata": {},
   "outputs": [
    {
     "name": "stdout",
     "output_type": "stream",
     "text": [
      " is a dog\n"
     ]
    }
   ],
   "source": [
    "if prediction[0][0]>0.5:\n",
    "  print(\" is a dog\")\n",
    "else:\n",
    "   print(\" is a cat\")"
   ]
  },
  {
   "cell_type": "code",
   "execution_count": null,
   "metadata": {},
   "outputs": [],
   "source": []
  }
 ],
 "metadata": {
  "kernelspec": {
   "display_name": "Python 3",
   "language": "python",
   "name": "python3"
  },
  "language_info": {
   "codemirror_mode": {
    "name": "ipython",
    "version": 3
   },
   "file_extension": ".py",
   "mimetype": "text/x-python",
   "name": "python",
   "nbconvert_exporter": "python",
   "pygments_lexer": "ipython3",
   "version": "3.9.5"
  },
  "vscode": {
   "interpreter": {
    "hash": "8d68938bd6f1c8d824a292cb48fdc812f23ce0d2e12c844cec6ac89d2f668725"
   }
  }
 },
 "nbformat": 4,
 "nbformat_minor": 4
}
