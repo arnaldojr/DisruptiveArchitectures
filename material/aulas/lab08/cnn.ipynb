{
 "cells": [
  {
   "cell_type": "markdown",
   "id": "f98ac337",
   "metadata": {},
   "source": [
    "## 2. Redes Neurais\n",
    "\n",
    "### Objetivos\n",
    "\n",
    "  - Conhecer e praticar Redes Neurais Convolucionais\n",
    "  - Conhecer uma intuição sobre Convolução, Pooling \n",
    "  - Praticar a classificação de objeto usando framework TensorFlow\n",
    "  "
   ]
  },
  {
   "cell_type": "markdown",
   "id": "ad44177b",
   "metadata": {},
   "source": [
    "## Redes Neurais Convolucionais\n",
    "\n",
    "A Redes Neurais Convolucionais ou CNN (Convolutional Neural Network) ou até mesmo ConvNet, são redes neurais de aprendizado profundo, `Deep Learning` muito utilizadas na área de Visão Computacional `classificação`,`detecção de objetos` ou `segmentação semântica`.\n",
    "\n"
   ]
  },
  {
   "cell_type": "markdown",
   "id": "af020ebb",
   "metadata": {},
   "source": [
    "### Diferença de MLP para CNN\n",
    "\n",
    "- Em uma rede MLP, cada pixel é tratado de forma isolada, sem considerar os demais pixels, dificultando a caracterização de features mais complexas. Não é levado em consideração se o pixel está na borda ou centro da imagem. Em um CNN o processo de convolução leva em consideração esta condição. \n",
    "\n",
    "- Outro ponto importante está relacionado a quantidade de parâmetros para treinamento para uma imagem. Exemplo: uma imagem de 400x600 na escala de cinza e 100 neurônios na primeira camada. Parâmetros = (400x600*100 +100) = 24.000.100 de parâmetros para treinamento, apenas na primeira camada.\n"
   ]
  },
  {
   "cell_type": "markdown",
   "id": "385e3134",
   "metadata": {},
   "source": [
    "<img src=\"flatten.png\" width=\"400p\">"
   ]
  },
  {
   "cell_type": "code",
   "execution_count": 1,
   "id": "7ce171d2",
   "metadata": {},
   "outputs": [
    {
     "name": "stdout",
     "output_type": "stream",
     "text": [
      "Model: \"sequential\"\n",
      "_________________________________________________________________\n",
      "Layer (type)                 Output Shape              Param #   \n",
      "=================================================================\n",
      "flatten (Flatten)            (None, 480000)            0         \n",
      "_________________________________________________________________\n",
      "dense (Dense)                (None, 100)               48000100  \n",
      "=================================================================\n",
      "Total params: 48,000,100\n",
      "Trainable params: 48,000,100\n",
      "Non-trainable params: 0\n",
      "_________________________________________________________________\n"
     ]
    }
   ],
   "source": [
    "import tensorflow as tf\n",
    "from tensorflow import keras\n",
    "from tensorflow.keras import layers\n",
    "\n",
    "\n",
    "model = keras.Sequential([\n",
    "    layers.Flatten(input_shape=(800,600)),\n",
    "    layers.Dense(units=100)\n",
    "])\n",
    "\n",
    "model.summary()\n"
   ]
  },
  {
   "cell_type": "markdown",
   "id": "5a999696",
   "metadata": {},
   "source": [
    "## Convolução\n",
    "\n",
    "A **convolução**  permite uma **filtragem no domínio espacial**. Esse processo ocorre com a aplicação de **filtros** (pequenas matrizes), posicionadas sob cada pixel da imagem. Estes filtros, normalmente, são chamados de **kernels (ou núcleos)**. O resultado final do valor do pixel é calculado através de um **produto de convolução**.\n",
    "\n",
    "Normalmente os **kernels** são matrizes 3x3. E os pesos são ajustados a cada iteração pelo **backpropagation**\n",
    "\n",
    "\n",
    "<img src=\"same_padding_no_strides.gif\">\n",
    "\n",
    "\n",
    "<img src=\"convolution.png\">\n",
    "\n",
    "\n",
    "<img src=\"conv3d.gif\">\n",
    "\n",
    "\n",
    "<img src=\"convexp.png\">"
   ]
  },
  {
   "cell_type": "code",
   "execution_count": 2,
   "id": "576fddab",
   "metadata": {},
   "outputs": [
    {
     "name": "stdout",
     "output_type": "stream",
     "text": [
      "Model: \"sequential_1\"\n",
      "_________________________________________________________________\n",
      "Layer (type)                 Output Shape              Param #   \n",
      "=================================================================\n",
      "conv2d (Conv2D)              (None, 798, 598, 100)     2800      \n",
      "=================================================================\n",
      "Total params: 2,800\n",
      "Trainable params: 2,800\n",
      "Non-trainable params: 0\n",
      "_________________________________________________________________\n"
     ]
    }
   ],
   "source": [
    "import tensorflow as tf\n",
    "from tensorflow import keras\n",
    "from tensorflow.keras import layers\n",
    "\n",
    "\n",
    "model = keras.Sequential([\n",
    "    layers.Conv2D(100, (3, 3), activation='relu', input_shape=(800,600, 3)),\n",
    "])\n",
    "\n",
    "model.summary()\n"
   ]
  },
  {
   "cell_type": "markdown",
   "id": "839f65ba",
   "metadata": {},
   "source": [
    "## Pooling\n",
    "\n",
    "A camada de `pooling` é semelhante a camada de convolução, mas a matriz de saída é uma redução da camada de entrada, por consequência a potência computacional diminui, além disso, é nesta etapa que são extraídas as característica `features` mais importantes da imagem. \n",
    "\n",
    "O pooling mais comum é utilizando um kernel 2x2, e um passo `stride` de 2, por consequência a imagem de saída terá a metade da imagem de entrada. A operação de pooling irá selecionar dentro da janela do kernel o valor que será aplicado na próxima camada, pode ser o maior valor `Maxpooling()` ou a média `AveragePooling()`\n",
    "\n",
    "<img src=\"pooling.png\">\n",
    "\n",
    "\n",
    "<img src=\"poolingexp.png\">"
   ]
  },
  {
   "cell_type": "markdown",
   "id": "66504966",
   "metadata": {},
   "source": [
    "<img src=\"convnet.png\">"
   ]
  },
  {
   "cell_type": "code",
   "execution_count": 4,
   "id": "50f08d5c",
   "metadata": {},
   "outputs": [],
   "source": [
    "import tensorflow as tf\n",
    "from tensorflow import keras\n",
    "import numpy as np\n",
    "import matplotlib.pyplot as plt\n",
    "from tensorflow.keras import layers"
   ]
  },
  {
   "cell_type": "code",
   "execution_count": 4,
   "id": "326acbc6",
   "metadata": {},
   "outputs": [],
   "source": [
    "# Importa o dataset Fashion Mnist\n",
    "fashion_mnist = keras.datasets.fashion_mnist\n",
    "(train_images, train_labels), (test_images, test_labels) = fashion_mnist.load_data()\n",
    "\n",
    "#normaliza os dados para o pixel ficar com valores entre 0 e 1\n",
    "train_images = train_images / 255.0\n",
    "test_images = test_images / 255.0\n",
    "class_names = ['T-shirt/top', 'Trouser', 'Pullover', 'Dress', 'Coat',\n",
    "               'Sandal', 'Shirt', 'Sneaker', 'Bag', 'Ankle boot']"
   ]
  },
  {
   "cell_type": "code",
   "execution_count": 5,
   "id": "2e7a090d",
   "metadata": {},
   "outputs": [
    {
     "name": "stdout",
     "output_type": "stream",
     "text": [
      "(60000, 28, 28, 1)\n"
     ]
    },
    {
     "data": {
      "text/plain": [
       "(10000, 28, 28, 1)"
      ]
     },
     "execution_count": 5,
     "metadata": {},
     "output_type": "execute_result"
    }
   ],
   "source": [
    "train_images = train_images.reshape(-1,28,28,1)\n",
    "print(train_images.shape)\n",
    "test_images = test_images.reshape(-1,28,28,1)\n",
    "test_images.shape"
   ]
  },
  {
   "cell_type": "code",
   "execution_count": 6,
   "id": "392e3cda",
   "metadata": {},
   "outputs": [
    {
     "name": "stdout",
     "output_type": "stream",
     "text": [
      "Model: \"sequential_2\"\n",
      "_________________________________________________________________\n",
      "Layer (type)                 Output Shape              Param #   \n",
      "=================================================================\n",
      "conv2d_1 (Conv2D)            (None, 26, 26, 5)         50        \n",
      "_________________________________________________________________\n",
      "max_pooling2d (MaxPooling2D) (None, 13, 13, 5)         0         \n",
      "_________________________________________________________________\n",
      "flatten_1 (Flatten)          (None, 845)               0         \n",
      "_________________________________________________________________\n",
      "dense_1 (Dense)              (None, 120)               101520    \n",
      "_________________________________________________________________\n",
      "dense_2 (Dense)              (None, 10)                1210      \n",
      "=================================================================\n",
      "Total params: 102,780\n",
      "Trainable params: 102,780\n",
      "Non-trainable params: 0\n",
      "_________________________________________________________________\n"
     ]
    }
   ],
   "source": [
    "###### montar a arquitetura da rede neural \n",
    "\n",
    "from tensorflow.keras import layers\n",
    "\n",
    "model = keras.Sequential([\n",
    "    \n",
    "    layers.Conv2D(5, (3,3), activation='relu', padding=\"same\", input_shape=(28, 28,1)),\n",
    "    layers.MaxPooling2D((2,2)),\n",
    " \n",
    "    layers.Flatten(),\n",
    "    layers.Dense(120, activation='relu'),\n",
    "    layers.Dense(10, activation='sigmoid')  ###### neuroniios especialistasss \n",
    "])\n",
    "\n",
    "\n",
    "model.summary()\n"
   ]
  },
  {
   "cell_type": "code",
   "execution_count": 7,
   "id": "f98f1795",
   "metadata": {},
   "outputs": [
    {
     "name": "stdout",
     "output_type": "stream",
     "text": [
      "Epoch 1/3\n",
      "1875/1875 [==============================] - 21s 11ms/step - loss: 0.4874 - accuracy: 0.8274\n",
      "Epoch 2/3\n",
      "1875/1875 [==============================] - 23s 12ms/step - loss: 0.3484 - accuracy: 0.8741\n",
      "Epoch 3/3\n",
      "1875/1875 [==============================] - 20s 11ms/step - loss: 0.3016 - accuracy: 0.8902\n"
     ]
    }
   ],
   "source": [
    "model.compile(optimizer='adam',\n",
    "              loss='sparse_categorical_crossentropy',\n",
    "              metrics=['accuracy'])\n",
    "\n",
    "epochs_hist = model.fit(train_images, train_labels, epochs=3)\n"
   ]
  },
  {
   "cell_type": "code",
   "execution_count": 9,
   "id": "8eecc38b",
   "metadata": {},
   "outputs": [
    {
     "data": {
      "image/png": "[encoded data removed]",
      "text/plain": [
       "<Figure size 432x288 with 1 Axes>"
      ]
     },
     "metadata": {
      "needs_background": "light"
     },
     "output_type": "display_data"
    }
   ],
   "source": [
    "import pandas as pd\n",
    "\n",
    "history_df = pd.DataFrame(epochs_hist.history)\n",
    "\n",
    "history_df['loss'].plot();\n",
    "#history_df['accuracy'].plot();\n"
   ]
  },
  {
   "cell_type": "code",
   "execution_count": 10,
   "id": "bbd9f3ee",
   "metadata": {},
   "outputs": [
    {
     "name": "stdout",
     "output_type": "stream",
     "text": [
      "1875/1875 - 9s - loss: 0.2762 - accuracy: 0.8995\n",
      "313/313 - 2s - loss: 0.3216 - accuracy: 0.8799\n"
     ]
    }
   ],
   "source": [
    "#Validadção\n",
    "train_loss, train_acc = model.evaluate(train_images,  train_labels, verbose=2)\n",
    "test_loss, test_acc = model.evaluate(test_images,  test_labels, verbose=2)\n"
   ]
  },
  {
   "cell_type": "code",
   "execution_count": 11,
   "id": "5a555abc",
   "metadata": {},
   "outputs": [],
   "source": [
    "# Previsões com o modelo treinado\n",
    "\n",
    "predictions = model.predict(test_images)"
   ]
  },
  {
   "cell_type": "code",
   "execution_count": 21,
   "id": "b5a63d4e",
   "metadata": {},
   "outputs": [
    {
     "name": "stdout",
     "output_type": "stream",
     "text": [
      "\n",
      "Classe predita foi 0 com 100%. Classe correta é 0, T-shirt/top.\n"
     ]
    }
   ],
   "source": [
    "#Vericação dos itens preditos\n",
    "\n",
    "item = 4000\n",
    "\n",
    "print(\"\\nClasse predita foi {} com {:2.0f}%. Classe correta é {}, {}.\".format(np.argmax(predictions[item]), \n",
    "                                                                 100*np.max(predictions[item]),\n",
    "                                                                 test_labels[item], \n",
    "                                                                 class_names[test_labels[item]]))\n",
    "\n",
    "a=100*np.max(predictions[item])"
   ]
  },
  {
   "cell_type": "code",
   "execution_count": 23,
   "id": "9f03e7ee",
   "metadata": {},
   "outputs": [],
   "source": [
    "def plot_image(i, predictions_array, true_label, img):\n",
    "  predictions_array, true_label, img = predictions_array[i], true_label[i], img[i]\n",
    "  plt.grid(False)\n",
    "  plt.xticks([])\n",
    "  plt.yticks([])\n",
    "\n",
    "  plt.imshow(img, cmap=plt.cm.binary)\n",
    "\n",
    "  predicted_label = np.argmax(predictions_array)\n",
    "  if predicted_label == true_label:\n",
    "    color = 'blue'\n",
    "  else:\n",
    "    color = 'red'\n",
    "\n",
    "  plt.xlabel(\"{} {:2.0f}% ({})\".format(class_names[predicted_label],\n",
    "                                100*np.max(predictions_array),\n",
    "                                class_names[true_label]),\n",
    "                                color=color)"
   ]
  },
  {
   "cell_type": "code",
   "execution_count": 24,
   "id": "3029fbb5",
   "metadata": {},
   "outputs": [
    {
     "data": {
      "image/png": "[encoded data removed]",
      "text/plain": [
       "<Figure size 432x216 with 1 Axes>"
      ]
     },
     "metadata": {},
     "output_type": "display_data"
    }
   ],
   "source": [
    "plt.figure(figsize=(6,3))\n",
    "plt.subplot(1,2,1)\n",
    "plot_image(item, predictions, test_labels, test_images)\n",
    "plt.show()"
   ]
  },
  {
   "cell_type": "markdown",
   "id": "c1f8d85e",
   "metadata": {},
   "source": [
    "## Desafio1\n",
    "\n",
    "Implemente uma rede LeNet-5.\n",
    "\n",
    "A leNet-5 foi publicada por leCun em 1998. E é composta basicamente por:\n",
    "\n",
    "\n",
    "<img src=\"lenet.png\">\n",
    "\n",
    "\n",
    "- Convolutional Layers (CONV);\n",
    "- Pooling Layers (POOL);\n",
    "- Fully-Connected Layers (FC).\n",
    "\n",
    "\n",
    "Um exemplo de aplicação: https://github.com/gary30404/convolutional-neural-network-from-scratch-python\n"
   ]
  },
  {
   "cell_type": "code",
   "execution_count": 13,
   "id": "cc848f60",
   "metadata": {},
   "outputs": [
    {
     "name": "stdout",
     "output_type": "stream",
     "text": [
      "Model: \"sequential_4\"\n",
      "_________________________________________________________________\n",
      "Layer (type)                 Output Shape              Param #   \n",
      "=================================================================\n",
      "conv2d_4 (Conv2D)            (None, 32, 32, 6)         156       \n",
      "_________________________________________________________________\n",
      "max_pooling2d_3 (MaxPooling2 (None, 16, 16, 6)         0         \n",
      "_________________________________________________________________\n",
      "conv2d_5 (Conv2D)            (None, 12, 12, 16)        2416      \n",
      "_________________________________________________________________\n",
      "max_pooling2d_4 (MaxPooling2 (None, 6, 6, 16)          0         \n",
      "_________________________________________________________________\n",
      "flatten_3 (Flatten)          (None, 576)               0         \n",
      "_________________________________________________________________\n",
      "dense_6 (Dense)              (None, 120)               69240     \n",
      "_________________________________________________________________\n",
      "dense_7 (Dense)              (None, 84)                10164     \n",
      "_________________________________________________________________\n",
      "dense_8 (Dense)              (None, 10)                850       \n",
      "=================================================================\n",
      "Total params: 82,826\n",
      "Trainable params: 82,826\n",
      "Non-trainable params: 0\n",
      "_________________________________________________________________\n"
     ]
    }
   ],
   "source": [
    "###### montar a arquitetura da rede neural \n",
    "\n",
    "from tensorflow.keras import layers\n",
    "    \n",
    "model = keras.Sequential([\n",
    "    \n",
    "    layers.Conv2D(60, (5,5), activation='relu', padding=\"same\",  input_shape=(32,32,1)),\n",
    "    layers.MaxPooling2D((2,2)),\n",
    "    layers.Conv2D(160, (5,5), activation='relu'),\n",
    "    layers.MaxPooling2D((2,2)),\n",
    "    layers.Conv2D(16, (5,5), activation='relu'),\n",
    "    layers.MaxPooling2D((2,2)),    \n",
    "    layers.Conv2D(16, (5,5), activation='relu'),\n",
    "    layers.MaxPooling2D((2,2)),\n",
    "    \n",
    "    \n",
    "    layers.Flatten(),  ###vetor\n",
    "    layers.Dense(1420, activation='relu'),\n",
    "    layers.Dense(84, activation='relu'),\n",
    "    layers.Dense(10, activation='softmax')  ###### neuroniios especialistasss \n",
    "])\n",
    "\n",
    "\n",
    "model.summary()"
   ]
  },
  {
   "cell_type": "markdown",
   "id": "5e7c34f9",
   "metadata": {},
   "source": [
    "## Desafio 2 \n",
    "\n",
    "Comente quais alterações você faria na rede LeNet-5?\n",
    "\n",
    "Resposta: \n",
    "\n",
    "\n",
    "\n"
   ]
  },
  {
   "cell_type": "markdown",
   "id": "d2c63d49",
   "metadata": {},
   "source": [
    "## Desafio 3 \n",
    "\n",
    "Implemente a rede AlexNet:\n",
    "\n",
    "\n",
    "<img src=\"AlexNet-1.png\">\n",
    "\n",
    "\n",
    "paper: https://proceedings.neurips.cc/paper/2012/file/c399862d3b9d6b76c8436e924a68c45b-Paper.pdf"
   ]
  },
  {
   "cell_type": "code",
   "execution_count": 19,
   "id": "a2ffb1f8",
   "metadata": {},
   "outputs": [
    {
     "name": "stdout",
     "output_type": "stream",
     "text": [
      "Model: \"sequential_7\"\n",
      "_________________________________________________________________\n",
      "Layer (type)                 Output Shape              Param #   \n",
      "=================================================================\n",
      "conv2d_21 (Conv2D)           (None, 55, 55, 96)        34944     \n",
      "_________________________________________________________________\n",
      "max_pooling2d_14 (MaxPooling (None, 27, 27, 96)        0         \n",
      "_________________________________________________________________\n",
      "conv2d_22 (Conv2D)           (None, 27, 27, 256)       614656    \n",
      "_________________________________________________________________\n",
      "max_pooling2d_15 (MaxPooling (None, 13, 13, 256)       0         \n",
      "_________________________________________________________________\n",
      "conv2d_23 (Conv2D)           (None, 13, 13, 384)       885120    \n",
      "_________________________________________________________________\n",
      "conv2d_24 (Conv2D)           (None, 13, 13, 384)       1327488   \n",
      "_________________________________________________________________\n",
      "conv2d_25 (Conv2D)           (None, 13, 13, 256)       884992    \n",
      "_________________________________________________________________\n",
      "max_pooling2d_16 (MaxPooling (None, 6, 6, 256)         0         \n",
      "_________________________________________________________________\n",
      "flatten_7 (Flatten)          (None, 9216)              0         \n",
      "_________________________________________________________________\n",
      "dense_17 (Dense)             (None, 4096)              37752832  \n",
      "_________________________________________________________________\n",
      "dropout_6 (Dropout)          (None, 4096)              0         \n",
      "_________________________________________________________________\n",
      "dense_18 (Dense)             (None, 4096)              16781312  \n",
      "_________________________________________________________________\n",
      "dropout_7 (Dropout)          (None, 4096)              0         \n",
      "_________________________________________________________________\n",
      "dense_19 (Dense)             (None, 10)                40970     \n",
      "=================================================================\n",
      "Total params: 58,322,314\n",
      "Trainable params: 58,322,314\n",
      "Non-trainable params: 0\n",
      "_________________________________________________________________\n"
     ]
    }
   ],
   "source": [
    "### Implemente sua resposta \n",
    "\n",
    "\n",
    "###desafio3\n",
    "\n",
    "from tensorflow.keras import layers\n",
    "\n",
    "model = keras.Sequential([\n",
    "    layers.Conv2D(filters=96, kernel_size=11, strides=4, activation='relu', input_shape=(227,227,3)),\n",
    "    layers.MaxPool2D(pool_size=3, strides=2),\n",
    "    layers.Conv2D(filters=256, kernel_size=5, padding='same', activation='relu'),\n",
    "    layers.MaxPool2D(pool_size=3, strides=2),\n",
    "    layers.Conv2D(filters=384, kernel_size=3, padding='same', activation='relu'),\n",
    "    layers.Conv2D(filters=384, kernel_size=3, padding='same', activation='relu'),\n",
    "    layers.Conv2D(filters=256, kernel_size=3, padding='same', activation='relu'),\n",
    "    layers.MaxPool2D(pool_size=3, strides=2),\n",
    "\n",
    "    layers.Flatten(),\n",
    "    layers.Dense(4096, activation='relu'),\n",
    "    layers.Dropout(0.5),\n",
    "    layers.Dense(4096, activation='relu'),\n",
    "    layers.Dropout(0.5),\n",
    "    layers.Dense(10)  \n",
    "])\n",
    "\n",
    "model.summary()\n"
   ]
  },
  {
   "cell_type": "code",
   "execution_count": null,
   "id": "173f09d4",
   "metadata": {},
   "outputs": [],
   "source": []
  }
 ],
 "metadata": {
  "kernelspec": {
   "display_name": "Python 3",
   "language": "python",
   "name": "python3"
  },
  "language_info": {
   "codemirror_mode": {
    "name": "ipython",
    "version": 3
   },
   "file_extension": ".py",
   "mimetype": "text/x-python",
   "name": "python",
   "nbconvert_exporter": "python",
   "pygments_lexer": "ipython3",
   "version": "3.9.5"
  },
  "vscode": {
   "interpreter": {
    "hash": "8d68938bd6f1c8d824a292cb48fdc812f23ce0d2e12c844cec6ac89d2f668725"
   }
  }
 },
 "nbformat": 4,
 "nbformat_minor": 5
}
