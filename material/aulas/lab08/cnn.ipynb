{
  "cells": [
    {
      "cell_type": "markdown",
      "metadata": {
        "id": "view-in-github",
        "colab_type": "text"
      },
      "source": [
        "<a href=\"https://colab.research.google.com/github/arnaldojr/DisruptiveArchitectures/blob/master/material/aulas/lab08/cnn.ipynb\" target=\"_parent\"><img src=\"https://colab.research.google.com/assets/colab-badge.svg\" alt=\"Open In Colab\"/></a>"
      ]
    },
    {
      "cell_type": "markdown",
      "id": "f98ac337",
      "metadata": {
        "id": "f98ac337"
      },
      "source": [
        "## 2. Redes Neurais\n",
        "\n",
        "### Objetivos\n",
        "\n",
        "  - Conhecer e praticar Redes Neurais Convolucionais\n",
        "  - Conhecer uma intuição sobre Convolução, Pooling \n",
        "  - Praticar a classificação de objeto usando Keras/TensorFlow\n",
        "  "
      ]
    },
    {
      "cell_type": "markdown",
      "id": "ad44177b",
      "metadata": {
        "id": "ad44177b"
      },
      "source": [
        "## Redes Neurais Convolucionais\n",
        "\n",
        "A Redes Neurais Convolucionais ou CNN (Convolutional Neural Network) ou até mesmo ConvNet, são redes neurais de aprendizado profundo, `Deep Learning` muito utilizadas na área de Visão Computacional `classificação`,`detecção de objetos` ou `segmentação semântica`.\n",
        "\n",
        "\n",
        "Para compreender uma CNN, precisamos compreender o funcionamento de alguns blocos novos fundamentais.\n",
        "\n",
        " - Extração de caracteristicas\n",
        " - Convolução\n",
        " - Pooling\n",
        "\n"
      ]
    },
    {
      "cell_type": "markdown",
      "id": "af020ebb",
      "metadata": {
        "id": "af020ebb"
      },
      "source": [
        "### Diferença de MLP para CNN\n",
        "\n",
        "- Em uma rede MLP, cada pixel é tratado de forma isolada, sem considerar os demais pixels, dificultando a caracterização de features mais complexas. Não é levado em consideração se o pixel está na borda ou centro da imagem. Em um CNN o processo de convolução leva em consideração esta condição. \n",
        "\n",
        "- Outro ponto importante está relacionado a quantidade de parâmetros para treinamento para uma imagem. Exemplo: uma imagem de 400x600 na escala de cinza e 100 neurônios na primeira camada. Parâmetros = (400x600*100 +100) = 24.000.100 de parâmetros para treinamento, apenas na primeira camada.\n"
      ]
    },
    {
      "cell_type": "markdown",
      "id": "385e3134",
      "metadata": {
        "id": "385e3134"
      },
      "source": [
        "<img src=\"https://github.com/arnaldojr/DisruptiveArchitectures/blob/master/material/aulas/lab08/flatten.png?raw=1\" width=\"400p\">"
      ]
    },
    {
      "cell_type": "code",
      "execution_count": 2,
      "id": "7ce171d2",
      "metadata": {
        "colab": {
          "base_uri": "https://localhost:8080/"
        },
        "id": "7ce171d2",
        "outputId": "c7b4df24-bffe-4e62-97b8-facb3c37dd78"
      },
      "outputs": [
        {
          "output_type": "stream",
          "name": "stdout",
          "text": [
            "Model: \"sequential_1\"\n",
            "_________________________________________________________________\n",
            " Layer (type)                Output Shape              Param #   \n",
            "=================================================================\n",
            " flatten_1 (Flatten)         (None, 480000)            0         \n",
            "                                                                 \n",
            " dense_1 (Dense)             (None, 100)               48000100  \n",
            "                                                                 \n",
            "=================================================================\n",
            "Total params: 48,000,100\n",
            "Trainable params: 48,000,100\n",
            "Non-trainable params: 0\n",
            "_________________________________________________________________\n"
          ]
        }
      ],
      "source": [
        "import tensorflow as tf\n",
        "from tensorflow import keras\n",
        "from tensorflow.keras import layers\n",
        "\n",
        "\n",
        "model = keras.Sequential([\n",
        "    layers.Flatten(input_shape=(800,600)),\n",
        "    layers.Dense(units=100)\n",
        "])\n",
        "\n",
        "model.summary()\n"
      ]
    },
    {
      "cell_type": "markdown",
      "id": "5a999696",
      "metadata": {
        "id": "5a999696"
      },
      "source": [
        "## Convolução\n",
        "\n",
        "A **convolução**  permite uma **filtragem no domínio espacial**. Esse processo ocorre com a aplicação de **filtros** (pequenas matrizes), posicionadas sob cada pixel da imagem. Estes filtros, normalmente, são chamados de **kernels (ou núcleos)**. O resultado final do valor do pixel é calculado através de um **produto de convolução**.\n",
        "\n",
        "Normalmente os **kernels** são matrizes 3x3. E os pesos são ajustados a cada iteração pelo **backpropagation**\n",
        "\n",
        "Nesta imagem temos a imagem original em azul, o kernel em cinza varrendo a imagem e o resultado da convolução em verde. \n",
        "\n",
        "  <img src=\"https://github.com/arnaldojr/DisruptiveArchitectures/blob/master/material/aulas/lab08/same_padding_no_strides.gif?raw=1\">\n",
        "\n",
        "\n",
        "Vamos analizar o que acontece em apenas um pixel da imagem:\n",
        "\n",
        "  <img src=\"https://github.com/arnaldojr/DisruptiveArchitectures/blob/master/material/aulas/lab08/convolution.png?raw=1\">\n",
        "\n",
        "\n",
        "\n",
        "O resultado para cada pixel é esse:\n",
        "\n",
        "  <img src=\"https://github.com/arnaldojr/DisruptiveArchitectures/blob/master/material/aulas/lab08/conv3d.gif?raw=1\">\n",
        "\n",
        "\n",
        "O resultado em uma imagem é o seguinte: \n",
        "\n",
        "  <img src=\"https://github.com/arnaldojr/DisruptiveArchitectures/blob/master/material/aulas/lab08/convexp.png?raw=1\">"
      ]
    },
    {
      "cell_type": "markdown",
      "source": [
        "## Implementação em código\n",
        "\n",
        "Para implementar é simples. \n",
        "\n",
        "\n",
        " ``layers.Conv2D(100, (3, 3))``\n",
        "\n",
        " -> 100 é a quantidade de filtros (kernels) que serão criados\n",
        " \n",
        " -> (3,3) é o tamanho do filtro que será usado.\n",
        " \n",
        " -> outros argumentos como activation, input_shape tambem podem ser utlilizados.\n",
        "\n",
        "\n",
        "\n"
      ],
      "metadata": {
        "id": "fof4gZf8woff"
      },
      "id": "fof4gZf8woff"
    },
    {
      "cell_type": "code",
      "execution_count": 21,
      "id": "576fddab",
      "metadata": {
        "colab": {
          "base_uri": "https://localhost:8080/"
        },
        "id": "576fddab",
        "outputId": "79fcdb57-9e39-49b0-ed52-1038f7c36e6d"
      },
      "outputs": [
        {
          "output_type": "stream",
          "name": "stdout",
          "text": [
            "Model: \"sequential_9\"\n",
            "_________________________________________________________________\n",
            " Layer (type)                Output Shape              Param #   \n",
            "=================================================================\n",
            " conv2d_10 (Conv2D)          (None, 798, 598, 100)     2800      \n",
            "                                                                 \n",
            "=================================================================\n",
            "Total params: 2,800\n",
            "Trainable params: 2,800\n",
            "Non-trainable params: 0\n",
            "_________________________________________________________________\n"
          ]
        }
      ],
      "source": [
        "import tensorflow as tf\n",
        "from tensorflow import keras\n",
        "from tensorflow.keras import layers\n",
        "\n",
        "\n",
        "model = keras.Sequential([\n",
        "    layers.Conv2D(filters = 100, kernel_size = (3, 3), activation='relu', input_shape=(800,600, 3)),\n",
        "])\n",
        "\n",
        "model.summary()\n"
      ]
    },
    {
      "cell_type": "markdown",
      "source": [
        "## Desafio 1 \n",
        "\n",
        "Compare a quantidade de ``Total params``, em uma rede CNN esse valor é menor ou maior comparado com uma rede MLP?"
      ],
      "metadata": {
        "id": "_d5h6jKDyKRc"
      },
      "id": "_d5h6jKDyKRc"
    },
    {
      "cell_type": "code",
      "source": [
        "### Sua resposta aqui...\n",
        "\n",
        "\n"
      ],
      "metadata": {
        "id": "KuGIGQc2yiY1"
      },
      "id": "KuGIGQc2yiY1",
      "execution_count": 18,
      "outputs": []
    },
    {
      "cell_type": "markdown",
      "id": "839f65ba",
      "metadata": {
        "id": "839f65ba"
      },
      "source": [
        "## Pooling\n",
        "\n",
        "De forma geral a camada de `pooling` realiza uma operação de redução da imagem de entrada tentando manter as caracteristicas mais relevantes. Por consequência, o custo computacional diminui, além disso, é nesta etapa que são extraídas as característica `features` mais importantes da imagem.\n",
        "\n",
        "O pooling mais comum é utilizando um kernel 2x2, e um passo `stride` de 2, por consequência a imagem de saída terá a metade da imagem de entrada. A operação de pooling irá selecionar dentro da janela do kernel o valor que será aplicado na próxima camada, pode ser o maior valor `Maxpooling()` ou a média `AveragePooling()`\n",
        "\n",
        "<img src=\"https://github.com/arnaldojr/DisruptiveArchitectures/blob/master/material/aulas/lab08/pooling.png?raw=1\">\n",
        "\n",
        "\n",
        "O resultado visual é o seguinte: \n",
        "\n",
        "<img src=\"https://github.com/arnaldojr/DisruptiveArchitectures/blob/master/material/aulas/lab08/poolingexp1.png?raw=1\">"
      ]
    },
    {
      "cell_type": "markdown",
      "source": [
        "## Implementação em código\n",
        "\n",
        "Para implementar é simples. \n",
        "\n",
        "\n",
        " ``layers.MaxPool2D(pool_size=2, strides=2)``\n",
        "\n",
        " -> pool_size é o tamanho do filtro (2,2) que será usado.\n",
        "\n",
        " -> strides é o passo 2 para percorrer a imagem \n",
        " \n",
        " -> Existem outros argumentos que podem ser utlilizados (da uma olhada na documentação)."
      ],
      "metadata": {
        "id": "7rUzWDXJC7Ue"
      },
      "id": "7rUzWDXJC7Ue"
    },
    {
      "cell_type": "code",
      "source": [
        "import tensorflow as tf\n",
        "from tensorflow import keras\n",
        "from tensorflow.keras import layers\n",
        "\n",
        "\n",
        "model = keras.Sequential([\n",
        "    layers.Conv2D(filters = 100, kernel_size = (3, 3), activation='relu', input_shape=(800,600, 3)), # camada de convolução\n",
        "    layers.MaxPool2D(pool_size=2, strides=2) # camada de pooling\n",
        "\n",
        "])\n",
        "\n",
        "model.summary()"
      ],
      "metadata": {
        "id": "-6zTVacoCy7Z",
        "outputId": "2c83137e-b376-4282-f523-cb3ca90604cf",
        "colab": {
          "base_uri": "https://localhost:8080/"
        }
      },
      "id": "-6zTVacoCy7Z",
      "execution_count": 20,
      "outputs": [
        {
          "output_type": "stream",
          "name": "stdout",
          "text": [
            "Model: \"sequential_8\"\n",
            "_________________________________________________________________\n",
            " Layer (type)                Output Shape              Param #   \n",
            "=================================================================\n",
            " conv2d_9 (Conv2D)           (None, 798, 598, 100)     2800      \n",
            "                                                                 \n",
            " max_pooling2d_5 (MaxPooling  (None, 399, 299, 100)    0         \n",
            " 2D)                                                             \n",
            "                                                                 \n",
            "=================================================================\n",
            "Total params: 2,800\n",
            "Trainable params: 2,800\n",
            "Non-trainable params: 0\n",
            "_________________________________________________________________\n"
          ]
        }
      ]
    },
    {
      "cell_type": "markdown",
      "source": [
        "## Desafio 2\n",
        "\n",
        "1. Qual o dimensional da imagem antes e depois do pooling ?\n",
        "\n",
        "2. Com a camada de pooling teve alteração ``total params``?\n",
        "\n"
      ],
      "metadata": {
        "id": "DvXtPeiMEorn"
      },
      "id": "DvXtPeiMEorn"
    },
    {
      "cell_type": "code",
      "source": [
        "'''\n",
        "### suas respostas.....\n",
        "\n",
        "1.\n",
        "\n",
        "\n",
        "2.\n",
        "\n",
        "\n",
        "'''"
      ],
      "metadata": {
        "id": "7M-T2vQJFUPO",
        "outputId": "6d23daf9-ac47-4468-eafb-ab103f3173f7",
        "colab": {
          "base_uri": "https://localhost:8080/",
          "height": 35
        }
      },
      "id": "7M-T2vQJFUPO",
      "execution_count": 23,
      "outputs": [
        {
          "output_type": "execute_result",
          "data": {
            "text/plain": [
              "'\\n### suas respostas.....\\n\\n1.\\n\\n\\n2.\\n\\n\\n'"
            ],
            "application/vnd.google.colaboratory.intrinsic+json": {
              "type": "string"
            }
          },
          "metadata": {},
          "execution_count": 23
        }
      ]
    },
    {
      "cell_type": "markdown",
      "source": [
        "## Extrator de caracteristicas \n",
        "\n",
        "A extração de características é o processo pelo qual a CNN identifica padrões e características relevantes em uma imagem. As características são extraídas usando camadas convolucionais seguidas de camadas de pooling.\n",
        "\n",
        "\n",
        "Após a extração de características é aplicado uma rede MLP para realizar a etapa de classicação da imagem.\n",
        "\n",
        "\n",
        "<img src=\"https://github.com/arnaldojr/DisruptiveArchitectures/blob/master/material/aulas/lab08/convnet.png?raw=1\">\n",
        "\n",
        "\n"
      ],
      "metadata": {
        "id": "f9DUZgI4ywH8"
      },
      "id": "f9DUZgI4ywH8"
    },
    {
      "cell_type": "markdown",
      "source": [
        "### Exemplo prático - Fashion MNIST\n",
        "\n",
        "Vamos utilizar novamente o dataset do Fashion MNIST para classificação de imagens, mas desta vez vamos utilizar uma CNN para realizar a extração de caracteristicas da imagem seguida de um classificador MLP.\n"
      ],
      "metadata": {
        "id": "Uu9sy0DyGcHi"
      },
      "id": "Uu9sy0DyGcHi"
    },
    {
      "cell_type": "code",
      "execution_count": 24,
      "id": "50f08d5c",
      "metadata": {
        "id": "50f08d5c"
      },
      "outputs": [],
      "source": [
        "import tensorflow as tf\n",
        "from tensorflow import keras\n",
        "import numpy as np\n",
        "import matplotlib.pyplot as plt\n",
        "from tensorflow.keras import layers"
      ]
    },
    {
      "cell_type": "code",
      "execution_count": 25,
      "id": "326acbc6",
      "metadata": {
        "id": "326acbc6"
      },
      "outputs": [],
      "source": [
        "# Importa o dataset Fashion Mnist\n",
        "fashion_mnist = keras.datasets.fashion_mnist\n",
        "(train_images, train_labels), (test_images, test_labels) = fashion_mnist.load_data()\n",
        "\n",
        "#normaliza os dados para o pixel ficar com valores entre 0 e 1\n",
        "train_images = train_images / 255.0\n",
        "test_images = test_images / 255.0\n",
        "class_names = ['T-shirt/top', 'Trouser', 'Pullover', 'Dress', 'Coat',\n",
        "               'Sandal', 'Shirt', 'Sneaker', 'Bag', 'Ankle boot']"
      ]
    },
    {
      "cell_type": "code",
      "execution_count": 26,
      "id": "2e7a090d",
      "metadata": {
        "colab": {
          "base_uri": "https://localhost:8080/"
        },
        "id": "2e7a090d",
        "outputId": "39ece479-5153-42e8-bd39-0acd0a930cd0"
      },
      "outputs": [
        {
          "output_type": "stream",
          "name": "stdout",
          "text": [
            "(60000, 28, 28, 1)\n"
          ]
        },
        {
          "output_type": "execute_result",
          "data": {
            "text/plain": [
              "(10000, 28, 28, 1)"
            ]
          },
          "metadata": {},
          "execution_count": 26
        }
      ],
      "source": [
        "train_images = train_images.reshape(-1,28,28,1)\n",
        "print(train_images.shape)\n",
        "test_images = test_images.reshape(-1,28,28,1)\n",
        "test_images.shape"
      ]
    },
    {
      "cell_type": "code",
      "execution_count": 37,
      "id": "392e3cda",
      "metadata": {
        "colab": {
          "base_uri": "https://localhost:8080/"
        },
        "id": "392e3cda",
        "outputId": "24f2e563-2655-4fd4-dc3d-40cd4b23ebdb"
      },
      "outputs": [
        {
          "output_type": "stream",
          "name": "stdout",
          "text": [
            "Model: \"sequential_11\"\n",
            "_________________________________________________________________\n",
            " Layer (type)                Output Shape              Param #   \n",
            "=================================================================\n",
            " conv2d_12 (Conv2D)          (None, 28, 28, 5)         50        \n",
            "                                                                 \n",
            " max_pooling2d_7 (MaxPooling  (None, 14, 14, 5)        0         \n",
            " 2D)                                                             \n",
            "                                                                 \n",
            " flatten_5 (Flatten)         (None, 980)               0         \n",
            "                                                                 \n",
            " dense_9 (Dense)             (None, 120)               117720    \n",
            "                                                                 \n",
            " dense_10 (Dense)            (None, 10)                1210      \n",
            "                                                                 \n",
            "=================================================================\n",
            "Total params: 118,980\n",
            "Trainable params: 118,980\n",
            "Non-trainable params: 0\n",
            "_________________________________________________________________\n"
          ]
        }
      ],
      "source": [
        "###### montar a arquitetura da rede neural \n",
        "\n",
        "from tensorflow.keras import layers\n",
        "\n",
        "model = keras.Sequential([\n",
        "    \n",
        "#####-------CNN-------#####\n",
        "\n",
        "    layers.Conv2D(5, (3,3), activation='relu', padding=\"same\", input_shape=(28, 28,1)),\n",
        "    layers.MaxPooling2D((2,2)),\n",
        " \n",
        "\n",
        " #######------ MLP-----####\n",
        "    layers.Flatten(),\n",
        "    layers.Dense(120, activation='relu'),\n",
        "    layers.Dense(10, activation='softmax')  ###### neuroniios especialistasss \n",
        "])\n",
        "\n",
        "\n",
        "model.summary()\n"
      ]
    },
    {
      "cell_type": "code",
      "execution_count": 30,
      "id": "f98f1795",
      "metadata": {
        "colab": {
          "base_uri": "https://localhost:8080/"
        },
        "id": "f98f1795",
        "outputId": "93432ae1-d655-4017-8d38-3ab2e80c9476"
      },
      "outputs": [
        {
          "output_type": "stream",
          "name": "stdout",
          "text": [
            "Epoch 1/3\n",
            "1500/1500 [==============================] - 23s 15ms/step - loss: 0.2374 - accuracy: 0.9128 - val_loss: 0.2589 - val_accuracy: 0.9027\n",
            "Epoch 2/3\n",
            "1500/1500 [==============================] - 24s 16ms/step - loss: 0.2136 - accuracy: 0.9217 - val_loss: 0.2328 - val_accuracy: 0.9143\n",
            "Epoch 3/3\n",
            "1500/1500 [==============================] - 21s 14ms/step - loss: 0.1950 - accuracy: 0.9287 - val_loss: 0.2393 - val_accuracy: 0.9117\n"
          ]
        }
      ],
      "source": [
        "model.compile(optimizer='adam',\n",
        "              loss='sparse_categorical_crossentropy',\n",
        "              metrics=['accuracy'])\n",
        "\n",
        "epochs_hist = model.fit(train_images, train_labels, epochs=3, validation_split=0.2)\n"
      ]
    },
    {
      "cell_type": "code",
      "execution_count": 31,
      "id": "8eecc38b",
      "metadata": {
        "colab": {
          "base_uri": "https://localhost:8080/",
          "height": 848
        },
        "id": "8eecc38b",
        "outputId": "06e52713-1c68-421d-d5d8-220a15ed5bfc"
      },
      "outputs": [
        {
          "output_type": "display_data",
          "data": {
            "text/plain": [
              "<Figure size 640x480 with 1 Axes>"
            ],
            "image/png": "[encoded data removed]"
          },
          "metadata": {}
        },
        {
          "output_type": "display_data",
          "data": {
            "text/plain": [
              "<Figure size 640x480 with 1 Axes>"
            ],
            "image/png": "[encoded data removed]"
          },
          "metadata": {}
        }
      ],
      "source": [
        "## exibe os graficos da função loss e acuracia\n",
        "\n",
        "history_df = pd.DataFrame(epochs_hist.history)\n",
        "\n",
        "history_df[['loss','val_loss']].plot();\n",
        "history_df[['accuracy','val_accuracy']].plot();\n"
      ]
    },
    {
      "cell_type": "code",
      "execution_count": 32,
      "id": "bbd9f3ee",
      "metadata": {
        "colab": {
          "base_uri": "https://localhost:8080/"
        },
        "id": "bbd9f3ee",
        "outputId": "21b50a79-da0d-4b29-9786-9215128d98cb"
      },
      "outputs": [
        {
          "output_type": "stream",
          "name": "stdout",
          "text": [
            "1875/1875 - 10s - loss: 0.1883 - accuracy: 0.9318 - 10s/epoch - 5ms/step\n",
            "313/313 - 4s - loss: 0.2789 - accuracy: 0.8977 - 4s/epoch - 12ms/step\n"
          ]
        }
      ],
      "source": [
        "#Validadção\n",
        "train_loss, train_acc = model.evaluate(train_images,  train_labels, verbose=2)\n",
        "test_loss, test_acc = model.evaluate(test_images,  test_labels, verbose=2)\n"
      ]
    },
    {
      "cell_type": "code",
      "execution_count": 33,
      "id": "5a555abc",
      "metadata": {
        "colab": {
          "base_uri": "https://localhost:8080/"
        },
        "id": "5a555abc",
        "outputId": "1865f39a-b12e-4105-b769-f6dd53d006a3"
      },
      "outputs": [
        {
          "output_type": "stream",
          "name": "stdout",
          "text": [
            "313/313 [==============================] - 2s 6ms/step\n"
          ]
        }
      ],
      "source": [
        "# Previsões com o modelo treinado\n",
        "\n",
        "predictions = model.predict(test_images)"
      ]
    },
    {
      "cell_type": "code",
      "execution_count": 34,
      "id": "b5a63d4e",
      "metadata": {
        "colab": {
          "base_uri": "https://localhost:8080/"
        },
        "id": "b5a63d4e",
        "outputId": "19f14187-6bcb-46e3-e3e1-ab91a58ac3ba"
      },
      "outputs": [
        {
          "output_type": "stream",
          "name": "stdout",
          "text": [
            "\n",
            "Classe predita foi 0 com 100%. Classe correta é 0, T-shirt/top.\n"
          ]
        }
      ],
      "source": [
        "#Vericação dos itens preditos\n",
        "\n",
        "item = 4000\n",
        "\n",
        "print(\"\\nClasse predita foi {} com {:2.0f}%. Classe correta é {}, {}.\".format(np.argmax(predictions[item]), \n",
        "                                                                 100*np.max(predictions[item]),\n",
        "                                                                 test_labels[item], \n",
        "                                                                 class_names[test_labels[item]]))\n",
        "\n",
        "a=100*np.max(predictions[item])"
      ]
    },
    {
      "cell_type": "code",
      "execution_count": 35,
      "id": "9f03e7ee",
      "metadata": {
        "id": "9f03e7ee"
      },
      "outputs": [],
      "source": [
        "def plot_image(i, predictions_array, true_label, img):\n",
        "  predictions_array, true_label, img = predictions_array[i], true_label[i], img[i]\n",
        "  plt.grid(False)\n",
        "  plt.xticks([])\n",
        "  plt.yticks([])\n",
        "\n",
        "  plt.imshow(img, cmap=plt.cm.binary)\n",
        "\n",
        "  predicted_label = np.argmax(predictions_array)\n",
        "  if predicted_label == true_label:\n",
        "    color = 'blue'\n",
        "  else:\n",
        "    color = 'red'\n",
        "\n",
        "  plt.xlabel(\"{} {:2.0f}% ({})\".format(class_names[predicted_label],\n",
        "                                100*np.max(predictions_array),\n",
        "                                class_names[true_label]),\n",
        "                                color=color)"
      ]
    },
    {
      "cell_type": "code",
      "execution_count": 36,
      "id": "3029fbb5",
      "metadata": {
        "colab": {
          "base_uri": "https://localhost:8080/",
          "height": 267
        },
        "id": "3029fbb5",
        "outputId": "781828d5-03b4-48da-f557-aa919c93bbff"
      },
      "outputs": [
        {
          "output_type": "display_data",
          "data": {
            "text/plain": [
              "<Figure size 600x300 with 1 Axes>"
            ],
            "image/png": "[encoded data removed]"
          },
          "metadata": {}
        }
      ],
      "source": [
        "plt.figure(figsize=(6,3))\n",
        "plt.subplot(1,2,1)\n",
        "plot_image(item, predictions, test_labels, test_images)\n",
        "plt.show()"
      ]
    },
    {
      "cell_type": "markdown",
      "id": "c1f8d85e",
      "metadata": {
        "id": "c1f8d85e"
      },
      "source": [
        "## Desafio 3\n",
        "\n",
        "O resultado não ficou muito bom, mas podemos melhorar! \n",
        "\n",
        "Implemente a arquitetura da rede LeNet-5. Para treinar o Fashion MNIST.\n",
        "\n",
        "\n",
        "\n",
        "A leNet-5 foi publicada por leCun em 1998. E é composta basicamente por:\n",
        "\n",
        "\n",
        "<img src=\"https://github.com/arnaldojr/DisruptiveArchitectures/blob/master/material/aulas/lab08/lenet.png?raw=1\">\n",
        "\n",
        "\n",
        "- Convolutional Layers (CONV);\n",
        "- Pooling Layers (POOL);\n",
        "- Fully-Connected Layers (FC).\n",
        "\n",
        "\n",
        "Um exemplo de aplicação: https://github.com/gary30404/convolutional-neural-network-from-scratch-python\n"
      ]
    },
    {
      "cell_type": "code",
      "execution_count": 40,
      "id": "cc848f60",
      "metadata": {
        "id": "cc848f60"
      },
      "outputs": [],
      "source": [
        "###### Seu código aqui......\n",
        "\n",
        "\n",
        "\n",
        "\n"
      ]
    },
    {
      "cell_type": "markdown",
      "source": [
        "### Desafio Extra\n",
        "\n",
        "Use uma rede CNN para treinar o cifar-10 usado na rodada3 da batalha das redes.\n",
        "\n"
      ],
      "metadata": {
        "id": "UetyTuttJMs1"
      },
      "id": "UetyTuttJMs1"
    },
    {
      "cell_type": "code",
      "execution_count": 39,
      "id": "173f09d4",
      "metadata": {
        "id": "173f09d4"
      },
      "outputs": [],
      "source": [
        "#### seu código aqui......"
      ]
    }
  ],
  "metadata": {
    "kernelspec": {
      "display_name": "Python 3",
      "language": "python",
      "name": "python3"
    },
    "language_info": {
      "codemirror_mode": {
        "name": "ipython",
        "version": 3
      },
      "file_extension": ".py",
      "mimetype": "text/x-python",
      "name": "python",
      "nbconvert_exporter": "python",
      "pygments_lexer": "ipython3",
      "version": "3.9.5"
    },
    "vscode": {
      "interpreter": {
        "hash": "8d68938bd6f1c8d824a292cb48fdc812f23ce0d2e12c844cec6ac89d2f668725"
      }
    },
    "colab": {
      "provenance": [],
      "include_colab_link": true
    }
  },
  "nbformat": 4,
  "nbformat_minor": 5
}