{
  "cells": [
    {
      "cell_type": "markdown",
      "metadata": {
        "id": "view-in-github",
        "colab_type": "text"
      },
      "source": [
        "<a href=\"https://colab.research.google.com/github/arnaldojr/DisruptiveArchitectures/blob/master/material/aulas/lab08/cnn.ipynb\" target=\"_parent\"><img src=\"https://colab.research.google.com/assets/colab-badge.svg\" alt=\"Open In Colab\"/></a>"
      ]
    },
    {
      "cell_type": "markdown",
      "id": "f98ac337",
      "metadata": {
        "id": "f98ac337"
      },
      "source": [
        "## 2. Redes Neurais\n",
        "\n",
        "### Objetivos\n",
        "\n",
        "  - Conhecer e praticar Redes Neurais Convolucionais\n",
        "  - Conhecer uma intuição sobre Convolução, Pooling \n",
        "  - Praticar a classificação de objeto usando Keras/TensorFlow\n",
        "  "
      ]
    },
    {
      "cell_type": "markdown",
      "id": "ad44177b",
      "metadata": {
        "id": "ad44177b"
      },
      "source": [
        "## Redes Neurais Convolucionais\n",
        "\n",
        "A Redes Neurais Convolucionais ou CNN (Convolutional Neural Network) ou até mesmo ConvNet, são redes neurais de aprendizado profundo, `Deep Learning` muito utilizadas na área de Visão Computacional `classificação`,`detecção de objetos` ou `segmentação semântica`.\n",
        "\n"
      ]
    },
    {
      "cell_type": "markdown",
      "id": "af020ebb",
      "metadata": {
        "id": "af020ebb"
      },
      "source": [
        "### Diferença de MLP para CNN\n",
        "\n",
        "- Em uma rede MLP, cada pixel é tratado de forma isolada, sem considerar os demais pixels, dificultando a caracterização de features mais complexas. Não é levado em consideração se o pixel está na borda ou centro da imagem. Em um CNN o processo de convolução leva em consideração esta condição. \n",
        "\n",
        "- Outro ponto importante está relacionado a quantidade de parâmetros para treinamento para uma imagem. Exemplo: uma imagem de 400x600 na escala de cinza e 100 neurônios na primeira camada. Parâmetros = (400x600*100 +100) = 24.000.100 de parâmetros para treinamento, apenas na primeira camada.\n"
      ]
    },
    {
      "cell_type": "markdown",
      "id": "385e3134",
      "metadata": {
        "id": "385e3134"
      },
      "source": [
        "<img src=\"https://github.com/arnaldojr/DisruptiveArchitectures/blob/master/material/aulas/lab08/flatten.png?raw=1\" width=\"400p\">"
      ]
    },
    {
      "cell_type": "code",
      "execution_count": 2,
      "id": "7ce171d2",
      "metadata": {
        "id": "7ce171d2",
        "outputId": "c7b4df24-bffe-4e62-97b8-facb3c37dd78",
        "colab": {
          "base_uri": "https://localhost:8080/"
        }
      },
      "outputs": [
        {
          "output_type": "stream",
          "name": "stdout",
          "text": [
            "Model: \"sequential_1\"\n",
            "_________________________________________________________________\n",
            " Layer (type)                Output Shape              Param #   \n",
            "=================================================================\n",
            " flatten_1 (Flatten)         (None, 480000)            0         \n",
            "                                                                 \n",
            " dense_1 (Dense)             (None, 100)               48000100  \n",
            "                                                                 \n",
            "=================================================================\n",
            "Total params: 48,000,100\n",
            "Trainable params: 48,000,100\n",
            "Non-trainable params: 0\n",
            "_________________________________________________________________\n"
          ]
        }
      ],
      "source": [
        "import tensorflow as tf\n",
        "from tensorflow import keras\n",
        "from tensorflow.keras import layers\n",
        "\n",
        "\n",
        "model = keras.Sequential([\n",
        "    layers.Flatten(input_shape=(800,600)),\n",
        "    layers.Dense(units=100)\n",
        "])\n",
        "\n",
        "model.summary()\n"
      ]
    },
    {
      "cell_type": "markdown",
      "id": "5a999696",
      "metadata": {
        "id": "5a999696"
      },
      "source": [
        "## Convolução\n",
        "\n",
        "A **convolução**  permite uma **filtragem no domínio espacial**. Esse processo ocorre com a aplicação de **filtros** (pequenas matrizes), posicionadas sob cada pixel da imagem. Estes filtros, normalmente, são chamados de **kernels (ou núcleos)**. O resultado final do valor do pixel é calculado através de um **produto de convolução**.\n",
        "\n",
        "Normalmente os **kernels** são matrizes 3x3. E os pesos são ajustados a cada iteração pelo **backpropagation**\n",
        "\n",
        "Nesta imagem temos a imagem original em azul, o kernel em cinza varrendo a imagem e o resultado da convolução em verde. \n",
        "\n",
        "  <img src=\"https://github.com/arnaldojr/DisruptiveArchitectures/blob/master/material/aulas/lab08/same_padding_no_strides.gif?raw=1\">\n",
        "  <img src=\"https://raw.githubusercontent.com/arnaldojr/DisruptiveArchitectures/master/material/aulas/lab08/same_padding_no_strides.gif\">\n",
        "\n",
        "\n",
        "\n",
        "Vamos analizar o que acontece em apenas um pixel da imagem:\n",
        "\n",
        "  <img src=\"https://github.com/arnaldojr/DisruptiveArchitectures/blob/master/material/aulas/lab08/convolution.png?raw=1\">\n",
        "\n",
        "\n",
        "\n",
        "O resultado para cada pixel é esse:\n",
        "\n",
        "  <img src=\"https://github.com/arnaldojr/DisruptiveArchitectures/blob/master/material/aulas/lab08/conv3d.gif?raw=1\">\n",
        "\n",
        "\n",
        "O resultado em uma imagem é o seguinte: \n",
        "\n",
        "  <img src=\"https://github.com/arnaldojr/DisruptiveArchitectures/blob/master/material/aulas/lab08/convexp.png?raw=1\">"
      ]
    },
    {
      "cell_type": "code",
      "execution_count": 3,
      "id": "576fddab",
      "metadata": {
        "id": "576fddab",
        "outputId": "756efe98-9980-495c-9892-aefd62c83332",
        "colab": {
          "base_uri": "https://localhost:8080/"
        }
      },
      "outputs": [
        {
          "output_type": "stream",
          "name": "stdout",
          "text": [
            "Model: \"sequential_2\"\n",
            "_________________________________________________________________\n",
            " Layer (type)                Output Shape              Param #   \n",
            "=================================================================\n",
            " conv2d (Conv2D)             (None, 798, 598, 100)     2800      \n",
            "                                                                 \n",
            "=================================================================\n",
            "Total params: 2,800\n",
            "Trainable params: 2,800\n",
            "Non-trainable params: 0\n",
            "_________________________________________________________________\n"
          ]
        }
      ],
      "source": [
        "import tensorflow as tf\n",
        "from tensorflow import keras\n",
        "from tensorflow.keras import layers\n",
        "\n",
        "\n",
        "model = keras.Sequential([\n",
        "    layers.Conv2D(100, (3, 3), activation='relu', input_shape=(800,600, 3)),\n",
        "])\n",
        "\n",
        "model.summary()\n"
      ]
    },
    {
      "cell_type": "markdown",
      "id": "839f65ba",
      "metadata": {
        "id": "839f65ba"
      },
      "source": [
        "## Pooling\n",
        "\n",
        "A camada de `pooling` é semelhante a camada de convolução, mas a matriz de saída é uma redução da camada de entrada, por consequência a potência computacional diminui, além disso, é nesta etapa que são extraídas as característica `features` mais importantes da imagem. \n",
        "\n",
        "O pooling mais comum é utilizando um kernel 2x2, e um passo `stride` de 2, por consequência a imagem de saída terá a metade da imagem de entrada. A operação de pooling irá selecionar dentro da janela do kernel o valor que será aplicado na próxima camada, pode ser o maior valor `Maxpooling()` ou a média `AveragePooling()`\n",
        "\n",
        "<img src=\"https://github.com/arnaldojr/DisruptiveArchitectures/blob/master/material/aulas/lab08/pooling.png?raw=1\">\n",
        "\n",
        "\n",
        "<img src=\"https://github.com/arnaldojr/DisruptiveArchitectures/blob/master/material/aulas/lab08/poolingexp.png?raw=1\">"
      ]
    },
    {
      "cell_type": "markdown",
      "id": "66504966",
      "metadata": {
        "id": "66504966"
      },
      "source": [
        "<img src=\"https://github.com/arnaldojr/DisruptiveArchitectures/blob/master/material/aulas/lab08/convnet.png?raw=1\">"
      ]
    },
    {
      "cell_type": "code",
      "execution_count": 4,
      "id": "50f08d5c",
      "metadata": {
        "id": "50f08d5c"
      },
      "outputs": [],
      "source": [
        "import tensorflow as tf\n",
        "from tensorflow import keras\n",
        "import numpy as np\n",
        "import matplotlib.pyplot as plt\n",
        "from tensorflow.keras import layers"
      ]
    },
    {
      "cell_type": "code",
      "execution_count": 5,
      "id": "326acbc6",
      "metadata": {
        "id": "326acbc6",
        "outputId": "91cfa80d-f302-4d59-d476-74ab63e73292",
        "colab": {
          "base_uri": "https://localhost:8080/"
        }
      },
      "outputs": [
        {
          "output_type": "stream",
          "name": "stdout",
          "text": [
            "Downloading data from https://storage.googleapis.com/tensorflow/tf-keras-datasets/train-labels-idx1-ubyte.gz\n",
            "29515/29515 [==============================] - 0s 1us/step\n",
            "Downloading data from https://storage.googleapis.com/tensorflow/tf-keras-datasets/train-images-idx3-ubyte.gz\n",
            "26421880/26421880 [==============================] - 2s 0us/step\n",
            "Downloading data from https://storage.googleapis.com/tensorflow/tf-keras-datasets/t10k-labels-idx1-ubyte.gz\n",
            "5148/5148 [==============================] - 0s 0us/step\n",
            "Downloading data from https://storage.googleapis.com/tensorflow/tf-keras-datasets/t10k-images-idx3-ubyte.gz\n",
            "4422102/4422102 [==============================] - 1s 0us/step\n"
          ]
        }
      ],
      "source": [
        "# Importa o dataset Fashion Mnist\n",
        "fashion_mnist = keras.datasets.fashion_mnist\n",
        "(train_images, train_labels), (test_images, test_labels) = fashion_mnist.load_data()\n",
        "\n",
        "#normaliza os dados para o pixel ficar com valores entre 0 e 1\n",
        "train_images = train_images / 255.0\n",
        "test_images = test_images / 255.0\n",
        "class_names = ['T-shirt/top', 'Trouser', 'Pullover', 'Dress', 'Coat',\n",
        "               'Sandal', 'Shirt', 'Sneaker', 'Bag', 'Ankle boot']"
      ]
    },
    {
      "cell_type": "code",
      "execution_count": 6,
      "id": "2e7a090d",
      "metadata": {
        "id": "2e7a090d",
        "outputId": "2f9ccb3a-424b-46b4-8f58-38f9e78a2b13",
        "colab": {
          "base_uri": "https://localhost:8080/"
        }
      },
      "outputs": [
        {
          "output_type": "stream",
          "name": "stdout",
          "text": [
            "(60000, 28, 28, 1)\n"
          ]
        },
        {
          "output_type": "execute_result",
          "data": {
            "text/plain": [
              "(10000, 28, 28, 1)"
            ]
          },
          "metadata": {},
          "execution_count": 6
        }
      ],
      "source": [
        "train_images = train_images.reshape(-1,28,28,1)\n",
        "print(train_images.shape)\n",
        "test_images = test_images.reshape(-1,28,28,1)\n",
        "test_images.shape"
      ]
    },
    {
      "cell_type": "code",
      "execution_count": 7,
      "id": "392e3cda",
      "metadata": {
        "id": "392e3cda",
        "outputId": "df45d026-476b-43e8-829a-707d79bdb85c",
        "colab": {
          "base_uri": "https://localhost:8080/"
        }
      },
      "outputs": [
        {
          "output_type": "stream",
          "name": "stdout",
          "text": [
            "Model: \"sequential_3\"\n",
            "_________________________________________________________________\n",
            " Layer (type)                Output Shape              Param #   \n",
            "=================================================================\n",
            " conv2d_1 (Conv2D)           (None, 28, 28, 5)         50        \n",
            "                                                                 \n",
            " max_pooling2d (MaxPooling2D  (None, 14, 14, 5)        0         \n",
            " )                                                               \n",
            "                                                                 \n",
            " flatten_2 (Flatten)         (None, 980)               0         \n",
            "                                                                 \n",
            " dense_2 (Dense)             (None, 120)               117720    \n",
            "                                                                 \n",
            " dense_3 (Dense)             (None, 10)                1210      \n",
            "                                                                 \n",
            "=================================================================\n",
            "Total params: 118,980\n",
            "Trainable params: 118,980\n",
            "Non-trainable params: 0\n",
            "_________________________________________________________________\n"
          ]
        }
      ],
      "source": [
        "###### montar a arquitetura da rede neural \n",
        "\n",
        "from tensorflow.keras import layers\n",
        "\n",
        "model = keras.Sequential([\n",
        "    \n",
        "    layers.Conv2D(5, (3,3), activation='relu', padding=\"same\", input_shape=(28, 28,1)),\n",
        "    layers.MaxPooling2D((2,2)),\n",
        " \n",
        "    layers.Flatten(),\n",
        "    layers.Dense(120, activation='relu'),\n",
        "    layers.Dense(10, activation='sigmoid')  ###### neuroniios especialistasss \n",
        "])\n",
        "\n",
        "\n",
        "model.summary()\n"
      ]
    },
    {
      "cell_type": "code",
      "execution_count": 8,
      "id": "f98f1795",
      "metadata": {
        "id": "f98f1795",
        "outputId": "ea6ed98b-2ece-41af-c9e3-6e8518f1ffc5",
        "colab": {
          "base_uri": "https://localhost:8080/"
        }
      },
      "outputs": [
        {
          "output_type": "stream",
          "name": "stdout",
          "text": [
            "Epoch 1/3\n",
            "1875/1875 [==============================] - 29s 15ms/step - loss: 0.4714 - accuracy: 0.8365\n",
            "Epoch 2/3\n",
            "1875/1875 [==============================] - 25s 13ms/step - loss: 0.3395 - accuracy: 0.8780\n",
            "Epoch 3/3\n",
            "1875/1875 [==============================] - 33s 18ms/step - loss: 0.2921 - accuracy: 0.8939\n"
          ]
        }
      ],
      "source": [
        "model.compile(optimizer='adam',\n",
        "              loss='sparse_categorical_crossentropy',\n",
        "              metrics=['accuracy'])\n",
        "\n",
        "epochs_hist = model.fit(train_images, train_labels, epochs=3)\n"
      ]
    },
    {
      "cell_type": "code",
      "execution_count": 9,
      "id": "8eecc38b",
      "metadata": {
        "id": "8eecc38b",
        "outputId": "21f7016a-95e8-41de-fd7b-bd1840099fa7",
        "colab": {
          "base_uri": "https://localhost:8080/",
          "height": 430
        }
      },
      "outputs": [
        {
          "output_type": "display_data",
          "data": {
            "text/plain": [
              "<Figure size 640x480 with 1 Axes>"
            ],
            "image/png": "[encoded data removed]"
          },
          "metadata": {}
        }
      ],
      "source": [
        "import pandas as pd\n",
        "\n",
        "history_df = pd.DataFrame(epochs_hist.history)\n",
        "\n",
        "history_df['loss'].plot();\n",
        "#history_df['accuracy'].plot();\n"
      ]
    },
    {
      "cell_type": "code",
      "execution_count": 10,
      "id": "bbd9f3ee",
      "metadata": {
        "id": "bbd9f3ee",
        "outputId": "bcfef8c1-16f1-4f64-fd45-d2d49cab4a96",
        "colab": {
          "base_uri": "https://localhost:8080/"
        }
      },
      "outputs": [
        {
          "output_type": "stream",
          "name": "stdout",
          "text": [
            "1875/1875 - 14s - loss: 0.2536 - accuracy: 0.9077 - 14s/epoch - 7ms/step\n",
            "313/313 - 3s - loss: 0.3054 - accuracy: 0.8891 - 3s/epoch - 10ms/step\n"
          ]
        }
      ],
      "source": [
        "#Validadção\n",
        "train_loss, train_acc = model.evaluate(train_images,  train_labels, verbose=2)\n",
        "test_loss, test_acc = model.evaluate(test_images,  test_labels, verbose=2)\n"
      ]
    },
    {
      "cell_type": "code",
      "execution_count": 11,
      "id": "5a555abc",
      "metadata": {
        "id": "5a555abc",
        "outputId": "fa43268c-cf16-4933-e295-6ba4dbe6f7c8",
        "colab": {
          "base_uri": "https://localhost:8080/"
        }
      },
      "outputs": [
        {
          "output_type": "stream",
          "name": "stdout",
          "text": [
            "313/313 [==============================] - 2s 7ms/step\n"
          ]
        }
      ],
      "source": [
        "# Previsões com o modelo treinado\n",
        "\n",
        "predictions = model.predict(test_images)"
      ]
    },
    {
      "cell_type": "code",
      "execution_count": 12,
      "id": "b5a63d4e",
      "metadata": {
        "id": "b5a63d4e",
        "outputId": "78e5f1c9-f1cd-498d-ab57-20396416fd7e",
        "colab": {
          "base_uri": "https://localhost:8080/"
        }
      },
      "outputs": [
        {
          "output_type": "stream",
          "name": "stdout",
          "text": [
            "\n",
            "Classe predita foi 0 com 99%. Classe correta é 0, T-shirt/top.\n"
          ]
        }
      ],
      "source": [
        "#Vericação dos itens preditos\n",
        "\n",
        "item = 4000\n",
        "\n",
        "print(\"\\nClasse predita foi {} com {:2.0f}%. Classe correta é {}, {}.\".format(np.argmax(predictions[item]), \n",
        "                                                                 100*np.max(predictions[item]),\n",
        "                                                                 test_labels[item], \n",
        "                                                                 class_names[test_labels[item]]))\n",
        "\n",
        "a=100*np.max(predictions[item])"
      ]
    },
    {
      "cell_type": "code",
      "execution_count": 13,
      "id": "9f03e7ee",
      "metadata": {
        "id": "9f03e7ee"
      },
      "outputs": [],
      "source": [
        "def plot_image(i, predictions_array, true_label, img):\n",
        "  predictions_array, true_label, img = predictions_array[i], true_label[i], img[i]\n",
        "  plt.grid(False)\n",
        "  plt.xticks([])\n",
        "  plt.yticks([])\n",
        "\n",
        "  plt.imshow(img, cmap=plt.cm.binary)\n",
        "\n",
        "  predicted_label = np.argmax(predictions_array)\n",
        "  if predicted_label == true_label:\n",
        "    color = 'blue'\n",
        "  else:\n",
        "    color = 'red'\n",
        "\n",
        "  plt.xlabel(\"{} {:2.0f}% ({})\".format(class_names[predicted_label],\n",
        "                                100*np.max(predictions_array),\n",
        "                                class_names[true_label]),\n",
        "                                color=color)"
      ]
    },
    {
      "cell_type": "code",
      "execution_count": 14,
      "id": "3029fbb5",
      "metadata": {
        "id": "3029fbb5",
        "outputId": "cce7bc7a-9948-41a2-a230-033c962d346e",
        "colab": {
          "base_uri": "https://localhost:8080/",
          "height": 267
        }
      },
      "outputs": [
        {
          "output_type": "display_data",
          "data": {
            "text/plain": [
              "<Figure size 600x300 with 1 Axes>"
            ],
            "image/png": "[encoded data removed]"
          },
          "metadata": {}
        }
      ],
      "source": [
        "plt.figure(figsize=(6,3))\n",
        "plt.subplot(1,2,1)\n",
        "plot_image(item, predictions, test_labels, test_images)\n",
        "plt.show()"
      ]
    },
    {
      "cell_type": "markdown",
      "id": "c1f8d85e",
      "metadata": {
        "id": "c1f8d85e"
      },
      "source": [
        "## Desafio1\n",
        "\n",
        "Implemente uma rede LeNet-5.\n",
        "\n",
        "A leNet-5 foi publicada por leCun em 1998. E é composta basicamente por:\n",
        "\n",
        "\n",
        "<img src=\"https://github.com/arnaldojr/DisruptiveArchitectures/blob/master/material/aulas/lab08/lenet.png?raw=1\">\n",
        "\n",
        "\n",
        "- Convolutional Layers (CONV);\n",
        "- Pooling Layers (POOL);\n",
        "- Fully-Connected Layers (FC).\n",
        "\n",
        "\n",
        "Um exemplo de aplicação: https://github.com/gary30404/convolutional-neural-network-from-scratch-python\n"
      ]
    },
    {
      "cell_type": "code",
      "execution_count": 15,
      "id": "cc848f60",
      "metadata": {
        "id": "cc848f60",
        "outputId": "fcd6f69d-89b6-4f3c-8e27-90101c24caa4",
        "colab": {
          "base_uri": "https://localhost:8080/",
          "height": 399
        }
      },
      "outputs": [
        {
          "output_type": "error",
          "ename": "ValueError",
          "evalue": "ignored",
          "traceback": [
            "\u001b[0;31m---------------------------------------------------------------------------\u001b[0m",
            "\u001b[0;31mValueError\u001b[0m                                Traceback (most recent call last)",
            "\u001b[0;32m<ipython-input-15-f3bfb3eab0f8>\u001b[0m in \u001b[0;36m<cell line: 5>\u001b[0;34m()\u001b[0m\n\u001b[1;32m      3\u001b[0m \u001b[0;32mfrom\u001b[0m \u001b[0mtensorflow\u001b[0m\u001b[0;34m.\u001b[0m\u001b[0mkeras\u001b[0m \u001b[0;32mimport\u001b[0m \u001b[0mlayers\u001b[0m\u001b[0;34m\u001b[0m\u001b[0;34m\u001b[0m\u001b[0m\n\u001b[1;32m      4\u001b[0m \u001b[0;34m\u001b[0m\u001b[0m\n\u001b[0;32m----> 5\u001b[0;31m model = keras.Sequential([\n\u001b[0m\u001b[1;32m      6\u001b[0m \u001b[0;34m\u001b[0m\u001b[0m\n\u001b[1;32m      7\u001b[0m     \u001b[0mlayers\u001b[0m\u001b[0;34m.\u001b[0m\u001b[0mConv2D\u001b[0m\u001b[0;34m(\u001b[0m\u001b[0;36m60\u001b[0m\u001b[0;34m,\u001b[0m \u001b[0;34m(\u001b[0m\u001b[0;36m5\u001b[0m\u001b[0;34m,\u001b[0m\u001b[0;36m5\u001b[0m\u001b[0;34m)\u001b[0m\u001b[0;34m,\u001b[0m \u001b[0mactivation\u001b[0m\u001b[0;34m=\u001b[0m\u001b[0;34m'relu'\u001b[0m\u001b[0;34m,\u001b[0m \u001b[0mpadding\u001b[0m\u001b[0;34m=\u001b[0m\u001b[0;34m\"same\"\u001b[0m\u001b[0;34m,\u001b[0m  \u001b[0minput_shape\u001b[0m\u001b[0;34m=\u001b[0m\u001b[0;34m(\u001b[0m\u001b[0;36m32\u001b[0m\u001b[0;34m,\u001b[0m\u001b[0;36m32\u001b[0m\u001b[0;34m,\u001b[0m\u001b[0;36m1\u001b[0m\u001b[0;34m)\u001b[0m\u001b[0;34m)\u001b[0m\u001b[0;34m,\u001b[0m\u001b[0;34m\u001b[0m\u001b[0;34m\u001b[0m\u001b[0m\n",
            "\u001b[0;32m/usr/local/lib/python3.9/dist-packages/tensorflow/python/trackable/base.py\u001b[0m in \u001b[0;36m_method_wrapper\u001b[0;34m(self, *args, **kwargs)\u001b[0m\n\u001b[1;32m    203\u001b[0m     \u001b[0mself\u001b[0m\u001b[0;34m.\u001b[0m\u001b[0m_self_setattr_tracking\u001b[0m \u001b[0;34m=\u001b[0m \u001b[0;32mFalse\u001b[0m  \u001b[0;31m# pylint: disable=protected-access\u001b[0m\u001b[0;34m\u001b[0m\u001b[0;34m\u001b[0m\u001b[0m\n\u001b[1;32m    204\u001b[0m     \u001b[0;32mtry\u001b[0m\u001b[0;34m:\u001b[0m\u001b[0;34m\u001b[0m\u001b[0;34m\u001b[0m\u001b[0m\n\u001b[0;32m--> 205\u001b[0;31m       \u001b[0mresult\u001b[0m \u001b[0;34m=\u001b[0m \u001b[0mmethod\u001b[0m\u001b[0;34m(\u001b[0m\u001b[0mself\u001b[0m\u001b[0;34m,\u001b[0m \u001b[0;34m*\u001b[0m\u001b[0margs\u001b[0m\u001b[0;34m,\u001b[0m \u001b[0;34m**\u001b[0m\u001b[0mkwargs\u001b[0m\u001b[0;34m)\u001b[0m\u001b[0;34m\u001b[0m\u001b[0;34m\u001b[0m\u001b[0m\n\u001b[0m\u001b[1;32m    206\u001b[0m     \u001b[0;32mfinally\u001b[0m\u001b[0;34m:\u001b[0m\u001b[0;34m\u001b[0m\u001b[0;34m\u001b[0m\u001b[0m\n\u001b[1;32m    207\u001b[0m       \u001b[0mself\u001b[0m\u001b[0;34m.\u001b[0m\u001b[0m_self_setattr_tracking\u001b[0m \u001b[0;34m=\u001b[0m \u001b[0mprevious_value\u001b[0m  \u001b[0;31m# pylint: disable=protected-access\u001b[0m\u001b[0;34m\u001b[0m\u001b[0;34m\u001b[0m\u001b[0m\n",
            "\u001b[0;32m/usr/local/lib/python3.9/dist-packages/keras/utils/traceback_utils.py\u001b[0m in \u001b[0;36merror_handler\u001b[0;34m(*args, **kwargs)\u001b[0m\n\u001b[1;32m     68\u001b[0m             \u001b[0;31m# To get the full stack trace, call:\u001b[0m\u001b[0;34m\u001b[0m\u001b[0;34m\u001b[0m\u001b[0m\n\u001b[1;32m     69\u001b[0m             \u001b[0;31m# `tf.debugging.disable_traceback_filtering()`\u001b[0m\u001b[0;34m\u001b[0m\u001b[0;34m\u001b[0m\u001b[0m\n\u001b[0;32m---> 70\u001b[0;31m             \u001b[0;32mraise\u001b[0m \u001b[0me\u001b[0m\u001b[0;34m.\u001b[0m\u001b[0mwith_traceback\u001b[0m\u001b[0;34m(\u001b[0m\u001b[0mfiltered_tb\u001b[0m\u001b[0;34m)\u001b[0m \u001b[0;32mfrom\u001b[0m \u001b[0;32mNone\u001b[0m\u001b[0;34m\u001b[0m\u001b[0;34m\u001b[0m\u001b[0m\n\u001b[0m\u001b[1;32m     71\u001b[0m         \u001b[0;32mfinally\u001b[0m\u001b[0;34m:\u001b[0m\u001b[0;34m\u001b[0m\u001b[0;34m\u001b[0m\u001b[0m\n\u001b[1;32m     72\u001b[0m             \u001b[0;32mdel\u001b[0m \u001b[0mfiltered_tb\u001b[0m\u001b[0;34m\u001b[0m\u001b[0;34m\u001b[0m\u001b[0m\n",
            "\u001b[0;32m/usr/local/lib/python3.9/dist-packages/keras/layers/convolutional/base_conv.py\u001b[0m in \u001b[0;36mcompute_output_shape\u001b[0;34m(self, input_shape)\u001b[0m\n\u001b[1;32m    352\u001b[0m \u001b[0;34m\u001b[0m\u001b[0m\n\u001b[1;32m    353\u001b[0m         \u001b[0;32mexcept\u001b[0m \u001b[0mValueError\u001b[0m\u001b[0;34m:\u001b[0m\u001b[0;34m\u001b[0m\u001b[0;34m\u001b[0m\u001b[0m\n\u001b[0;32m--> 354\u001b[0;31m             raise ValueError(\n\u001b[0m\u001b[1;32m    355\u001b[0m                 \u001b[0;34m\"One of the dimensions in the output is <= 0 \"\u001b[0m\u001b[0;34m\u001b[0m\u001b[0;34m\u001b[0m\u001b[0m\n\u001b[1;32m    356\u001b[0m                 \u001b[0;34mf\"due to downsampling in {self.name}. Consider \"\u001b[0m\u001b[0;34m\u001b[0m\u001b[0;34m\u001b[0m\u001b[0m\n",
            "\u001b[0;31mValueError\u001b[0m: One of the dimensions in the output is <= 0 due to downsampling in conv2d_5. Consider increasing the input size. Received input shape [None, 1, 1, 16] which would produce output shape with a zero or negative value in a dimension."
          ]
        }
      ],
      "source": [
        "###### montar a arquitetura da rede neural \n",
        "\n",
        "from tensorflow.keras import layers\n",
        "    \n",
        "model = keras.Sequential([\n",
        "    \n",
        "    layers.Conv2D(60, (5,5), activation='relu', padding=\"same\",  input_shape=(32,32,1)),\n",
        "    layers.MaxPooling2D((2,2)),\n",
        "    layers.Conv2D(160, (5,5), activation='relu'),\n",
        "    layers.MaxPooling2D((2,2)),\n",
        "    layers.Conv2D(16, (5,5), activation='relu'),\n",
        "    layers.MaxPooling2D((2,2)),    \n",
        "    layers.Conv2D(16, (5,5), activation='relu'),\n",
        "    layers.MaxPooling2D((2,2)),\n",
        "    \n",
        "    \n",
        "    layers.Flatten(),  ###vetor\n",
        "    layers.Dense(1420, activation='relu'),\n",
        "    layers.Dense(84, activation='relu'),\n",
        "    layers.Dense(10, activation='softmax')  ###### neuroniios especialistasss \n",
        "])\n",
        "\n",
        "\n",
        "model.summary()"
      ]
    },
    {
      "cell_type": "markdown",
      "id": "5e7c34f9",
      "metadata": {
        "id": "5e7c34f9"
      },
      "source": [
        "## Desafio 2 \n",
        "\n",
        "Comente quais alterações você faria na rede LeNet-5?\n",
        "\n",
        "Resposta: \n",
        "\n",
        "\n",
        "\n"
      ]
    },
    {
      "cell_type": "markdown",
      "id": "d2c63d49",
      "metadata": {
        "id": "d2c63d49"
      },
      "source": [
        "## Desafio 3 \n",
        "\n",
        "Implemente a rede AlexNet:\n",
        "\n",
        "\n",
        "<img src=\"https://github.com/arnaldojr/DisruptiveArchitectures/blob/master/material/aulas/lab08/AlexNet-1.png?raw=1\">\n",
        "\n",
        "\n",
        "paper: https://proceedings.neurips.cc/paper/2012/file/c399862d3b9d6b76c8436e924a68c45b-Paper.pdf"
      ]
    },
    {
      "cell_type": "code",
      "execution_count": null,
      "id": "a2ffb1f8",
      "metadata": {
        "id": "a2ffb1f8"
      },
      "outputs": [],
      "source": [
        "### Implemente sua resposta \n",
        "\n",
        "\n",
        "###desafio3\n",
        "\n",
        "from tensorflow.keras import layers\n",
        "\n",
        "model = keras.Sequential([\n",
        "    layers.Conv2D(filters=96, kernel_size=11, strides=4, activation='relu', input_shape=(227,227,3)),\n",
        "    layers.MaxPool2D(pool_size=3, strides=2),\n",
        "    layers.Conv2D(filters=256, kernel_size=5, padding='same', activation='relu'),\n",
        "    layers.MaxPool2D(pool_size=3, strides=2),\n",
        "    layers.Conv2D(filters=384, kernel_size=3, padding='same', activation='relu'),\n",
        "    layers.Conv2D(filters=384, kernel_size=3, padding='same', activation='relu'),\n",
        "    layers.Conv2D(filters=256, kernel_size=3, padding='same', activation='relu'),\n",
        "    layers.MaxPool2D(pool_size=3, strides=2),\n",
        "\n",
        "    layers.Flatten(),\n",
        "    layers.Dense(4096, activation='relu'),\n",
        "    layers.Dropout(0.5),\n",
        "    layers.Dense(4096, activation='relu'),\n",
        "    layers.Dropout(0.5),\n",
        "    layers.Dense(10)  \n",
        "])\n",
        "\n",
        "model.summary()\n"
      ]
    },
    {
      "cell_type": "code",
      "execution_count": null,
      "id": "173f09d4",
      "metadata": {
        "id": "173f09d4"
      },
      "outputs": [],
      "source": []
    }
  ],
  "metadata": {
    "kernelspec": {
      "display_name": "Python 3",
      "language": "python",
      "name": "python3"
    },
    "language_info": {
      "codemirror_mode": {
        "name": "ipython",
        "version": 3
      },
      "file_extension": ".py",
      "mimetype": "text/x-python",
      "name": "python",
      "nbconvert_exporter": "python",
      "pygments_lexer": "ipython3",
      "version": "3.9.5"
    },
    "vscode": {
      "interpreter": {
        "hash": "8d68938bd6f1c8d824a292cb48fdc812f23ce0d2e12c844cec6ac89d2f668725"
      }
    },
    "colab": {
      "provenance": [],
      "include_colab_link": true
    }
  },
  "nbformat": 4,
  "nbformat_minor": 5
}