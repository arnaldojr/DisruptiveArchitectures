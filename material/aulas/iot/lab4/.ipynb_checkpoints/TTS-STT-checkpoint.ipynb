{
 "cells": [
  {
   "cell_type": "markdown",
   "id": "fddc75c8",
   "metadata": {},
   "source": [
    "## Sintetização de voz\n",
    "\n",
    "A sintetização de voz é o processo para converter texto em voz. Podemos utilizar diversas ferramentas para realizar esse processo via API, em python podemos utilizar:\n",
    "\n",
    " - eSpeak\n",
    " - pyTTSx\n",
    " - gTTS"
   ]
  },
  {
   "cell_type": "markdown",
   "id": "ac36c84b",
   "metadata": {},
   "source": [
    "##  pyttsx3\n",
    "\n",
    "O pyttsx3 possui suporte para diversos idiomas incluindo português, roda offline, é muito simples e intuitiva de usar.\n",
    "\n",
    "> - link documentação: https://pyttsx3.readthedocs.io/en/latest/index.html\n",
    "\n",
    "No windowns, o pttsx3 utiliza a engine SAPI5, caso tenha problemas tente instalar esse lib.\n"
   ]
  },
  {
   "cell_type": "markdown",
   "id": "e559463c",
   "metadata": {},
   "source": [
    "### Instalação\n",
    "\n",
    "Instalação pelo comando: pip install pyttsx3"
   ]
  },
  {
   "cell_type": "code",
   "execution_count": null,
   "id": "95ac20bd",
   "metadata": {},
   "outputs": [],
   "source": [
    "!pip install pyttsx3\n",
    "\n"
   ]
  },
  {
   "cell_type": "markdown",
   "id": "0cbc40ed",
   "metadata": {},
   "source": [
    "### Hello World"
   ]
  },
  {
   "cell_type": "code",
   "execution_count": 1,
   "id": "d7acbbd1",
   "metadata": {},
   "outputs": [],
   "source": [
    "#importa a biblioteca\n",
    "import pyttsx3\n",
    "\n",
    "#inicializa o objeto\n",
    "tts = pyttsx3.init()\n",
    "\n",
    "#define a msg\n",
    "msg = \"Hello World\"\n",
    "\n",
    "tts.say(msg)  #adiciona msg na fila de processamento\n",
    "tts.runAndWait()  ##reproduz a msg da fila"
   ]
  },
  {
   "cell_type": "code",
   "execution_count": 6,
   "id": "c47b559b",
   "metadata": {},
   "outputs": [],
   "source": [
    "# ou simplesmente invocar o método pyttsx3.speak() \n",
    "\n",
    "pyttsx3.speak(\"Hello World\")"
   ]
  },
  {
   "cell_type": "markdown",
   "id": "ba5ad96b",
   "metadata": {},
   "source": [
    "### Desafio1 \n",
    "\n",
    "Troque a msg para uma frase em português. Ficou boa a reprodução?"
   ]
  },
  {
   "cell_type": "code",
   "execution_count": null,
   "id": "4a99a303",
   "metadata": {},
   "outputs": [],
   "source": [
    "### seu código aqui...\n",
    "\n"
   ]
  },
  {
   "cell_type": "markdown",
   "id": "53be0ddd",
   "metadata": {},
   "source": [
    "### Configurando idioma, velocidade, volume\n",
    "\n",
    "Por padrão o idioma é inglês, frases em português vão ficar com 'sotaque' bem estranho, vamos alterar o idioma para português-brasil."
   ]
  },
  {
   "cell_type": "code",
   "execution_count": 7,
   "id": "4a138ed9",
   "metadata": {},
   "outputs": [
    {
     "name": "stdout",
     "output_type": "stream",
     "text": [
      "HKEY_LOCAL_MACHINE\\SOFTWARE\\Microsoft\\Speech\\Voices\\Tokens\\TTS_MS_PT-BR_MARIA_11.0 \n",
      " Microsoft Maria Desktop - Portuguese(Brazil) \n",
      " []\n",
      "HKEY_LOCAL_MACHINE\\SOFTWARE\\Microsoft\\Speech\\Voices\\Tokens\\TTS_MS_EN-US_ZIRA_11.0 \n",
      " Microsoft Zira Desktop - English (United States) \n",
      " []\n"
     ]
    }
   ],
   "source": [
    "voices = tts.getProperty(\"voices\") \n",
    "for voice in voices:\n",
    "     print(voice.id,'\\n', voice.name,'\\n', voice.languages)"
   ]
  },
  {
   "cell_type": "markdown",
   "id": "ac3845b5",
   "metadata": {},
   "source": [
    "O método setProperty configura o pyttsx3 \n",
    "\n",
    "> - voices[0].id =>português\n",
    "> - voices[1].id =>inglês\n",
    "\n",
    "- exemplo: engine.setProperty('voice', voices[1].id)"
   ]
  },
  {
   "cell_type": "code",
   "execution_count": 7,
   "id": "4ecbe034",
   "metadata": {},
   "outputs": [],
   "source": [
    "import pyttsx3\n",
    "\n",
    "en = pyttsx3.init()\n",
    "\n",
    "en.setProperty('rate', 155) #configura taxa de velocidade (palavras por minuto)\n",
    "en.setProperty('volume', 0.5) # configura volume\n",
    "en.setProperty('voice', voices[0].id) # configura idioma\n",
    "\n",
    "msg = \"Olá mundo!\"\n",
    "\n",
    "en.say(msg)\n",
    "en.runAndWait()"
   ]
  },
  {
   "cell_type": "markdown",
   "id": "7ec90af9",
   "metadata": {},
   "source": [
    "## Conversor de texto em Voz"
   ]
  },
  {
   "cell_type": "code",
   "execution_count": 33,
   "id": "8b1314ed",
   "metadata": {},
   "outputs": [
    {
     "name": "stdout",
     "output_type": "stream",
     "text": [
      "> digite uma frase (fim! => para fechar).hjgjhgj\n",
      "> digite uma frase (fim! => para fechar).fim!\n"
     ]
    }
   ],
   "source": [
    "import pyttsx3\n",
    "  \n",
    "engine = pyttsx3.init()\n",
    "\n",
    "voices = engine.getProperty(\"voices\") \n",
    "engine.setProperty('voice', voices[0].id) #brasil\n",
    "engine.setProperty('volume', 1)\n",
    "engine.setProperty(\"rate\", 155)\n",
    "\n",
    "#Processa as modificações feitas até o momento\n",
    "engine.runAndWait() \n",
    "\n",
    "#Loop principal\n",
    "while True:\n",
    "    #Pega a entrada do usuário\n",
    "    frase = input(\"> digite uma frase (fim! => para fechar).\") \n",
    "    if frase != \"fim!\":\n",
    "        #Coloca frase na fila de processamento da engine\n",
    "        engine.say(frase)\n",
    "        #Executa os comandos da fila (no caso, say(frase) )\n",
    "        engine.runAndWait()\n",
    "    \n",
    "    else:\n",
    "        break"
   ]
  },
  {
   "cell_type": "markdown",
   "id": "7a5889a0",
   "metadata": {},
   "source": [
    "## Reconhecimento de voz\n",
    "\n",
    "O reconhecimento de voz é o processo para converter voz em texto. Podemos utilizar diversas ferramentas para realizar esse processo via API, em python podemos utilizar:\n",
    "\n",
    " - pocket sphink\n",
    " - speech recognition"
   ]
  },
  {
   "cell_type": "markdown",
   "id": "454ed5e1",
   "metadata": {},
   "source": [
    "##  speech recognition\n",
    "\n",
    "> - link documentação: https://github.com/Uberi/speech_recognition\n"
   ]
  },
  {
   "cell_type": "markdown",
   "id": "c210fb55",
   "metadata": {},
   "source": [
    "### Instalação\n",
    "\n",
    "Instalação pelo comando: pip install SpeechRecognition"
   ]
  },
  {
   "cell_type": "code",
   "execution_count": null,
   "id": "c1b30cc9",
   "metadata": {},
   "outputs": [],
   "source": [
    "#!pip install SpeechRecognition"
   ]
  },
  {
   "cell_type": "markdown",
   "id": "e38b0732",
   "metadata": {},
   "source": [
    "### dica de instalação\n",
    "\n",
    "Se você usa o python3.10 talvez tenha dificuldade com o pyaudio. Acesse o link e veja uma possivel solução.\n",
    "\n",
    "\n",
    "- https://github.com/Uberi/speech_recognition/issues/599\n",
    "- https://www.lfd.uci.edu/~gohlke/pythonlibs/#pyaudio"
   ]
  },
  {
   "cell_type": "markdown",
   "id": "7a72be76",
   "metadata": {},
   "source": [
    "## Processando voz\n"
   ]
  },
  {
   "cell_type": "code",
   "execution_count": 16,
   "id": "fda3d3c1",
   "metadata": {},
   "outputs": [
    {
     "name": "stdout",
     "output_type": "stream",
     "text": [
      "fale algo \n",
      "processando...\n",
      "Nossa que legal está funcionando tudo que eu estou falando ele está reproduzido\n"
     ]
    }
   ],
   "source": [
    "import speech_recognition as sr\n",
    "\n",
    "recon = sr.Recognizer()\n",
    "\n",
    "with sr.Microphone() as source:\n",
    "    print(\"fale algo \")\n",
    "    audio = recon.listen(source)\n",
    "    print(\"processando...\")\n",
    "    print(recon.recognize_google(audio,language='pt'))\n",
    "\n",
    "    "
   ]
  },
  {
   "cell_type": "markdown",
   "id": "0f4ac126",
   "metadata": {},
   "source": [
    "### Assistente virtual"
   ]
  },
  {
   "cell_type": "code",
   "execution_count": 1,
   "id": "f5204623",
   "metadata": {},
   "outputs": [
    {
     "name": "stdout",
     "output_type": "stream",
     "text": [
      "\n",
      "  Listening...\n",
      "\n",
      "  Recognizing...\n",
      "\n",
      "sair\n"
     ]
    }
   ],
   "source": [
    "import pyttsx3, speech_recognition as sr\n",
    "\n",
    "\n",
    "engine = pyttsx3.init()\n",
    "\n",
    "voices = engine.getProperty(\"voices\") \n",
    "engine.setProperty('voice', voices[0].id) #brasil\n",
    "engine.setProperty('volume', 1)\n",
    "engine.setProperty(\"rate\", 155)\n",
    "\n",
    "#Processa as modificações feitas até o momento\n",
    "engine.runAndWait() \n",
    "\n",
    "def speak(audio):\n",
    "    engine.say(audio)\n",
    "    engine.runAndWait()\n",
    "\n",
    "# Ouve o usuario.\n",
    "def command():\n",
    "    r = sr.Recognizer()\n",
    "    with sr.Microphone() as source:\n",
    "        print(\"\\n  Listening...\\n\")\n",
    "        speak('ouvindo')\n",
    "        r.adjust_for_ambient_noise = 1.25\n",
    "        r.pause_threshold = 1\n",
    "        audio = r.listen(source)\n",
    "    try:\n",
    "        print(\"  Recognizing...\\n\")\n",
    "        speak('Espera um pouco pra eu tentar entender.')\n",
    "        query = r.recognize_google(audio, language='pt')\n",
    "        #print(query)\n",
    "    except:\n",
    "        return \"©empty_^_^_queryª\"\n",
    "    return query\n",
    "\n",
    "\n",
    "\n",
    "speak(\"Como posso ajudar hoje?\")\n",
    "if __name__ == \"__main__\":\n",
    "    while True:\n",
    "\n",
    "        query = command().lower()\n",
    "        if '1' in query or 'um' in query:\n",
    "            print(\"opção: 1 \")\n",
    "            speak(\"você escolheu a opção numero 1\")\n",
    "        elif '2' in query or 'dois' in query:\n",
    "            print(\"opção: 2\")\n",
    "            speak('você escolheu a opção numero 2')\n",
    "        elif '3' in query  or 'três' in query:\n",
    "            print(\"opção: 3\")\n",
    "            speak(\"você escolheu a opção numero 3\")\n",
    "            \n",
    "        elif 'fim' in query or 'sair' in query : \n",
    "            print(\"sair\")\n",
    "            speak(\"valeu chapa, até a próxima!\")\n",
    "            break\n",
    "  \n",
    "\n",
    "        else:\n",
    "\n",
    "            print(\"opção invalida\")\n",
    "            speak('não entendi o que você disse.')\n",
    "            speak(\"Por favor, vamos tentar novamente. escolha uma opção válida.\")"
   ]
  },
  {
   "cell_type": "code",
   "execution_count": null,
   "id": "866c23e5",
   "metadata": {},
   "outputs": [],
   "source": []
  }
 ],
 "metadata": {
  "kernelspec": {
   "display_name": "Python 3 (ipykernel)",
   "language": "python",
   "name": "python3"
  },
  "language_info": {
   "codemirror_mode": {
    "name": "ipython",
    "version": 3
   },
   "file_extension": ".py",
   "mimetype": "text/x-python",
   "name": "python",
   "nbconvert_exporter": "python",
   "pygments_lexer": "ipython3",
   "version": "3.10.2"
  }
 },
 "nbformat": 4,
 "nbformat_minor": 5
}
