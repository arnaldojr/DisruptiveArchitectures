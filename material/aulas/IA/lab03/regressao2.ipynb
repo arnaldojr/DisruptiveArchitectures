{
  "cells": [
    {
      "cell_type": "markdown",
      "metadata": {},
      "source": [
        "\n",
        "## Objetivo da Aula\n",
        "\n",
        "- Apresentar e usar a regressão polinomial\n",
        "- Entender o funcionamento do XGBoost (eXtreme Gradient Boosting) e sua aplicação em problemas de regressão.\n",
        "- Aplicar o XGBoost para prever o valor.\n",
        "- Aprender boas práticas de pré-processamento, treinamento e avaliação de modelos de machine learning."
      ]
    },
    {
      "cell_type": "markdown",
      "metadata": {
        "id": "_4wuW-exGEhj"
      },
      "source": [
        "## Regressão Polinomial\n",
        "\n",
        "$$\n",
        "Y = A + BX + C X² \\\\\n",
        "$$\n",
        "A, B e C são constantes que determinam a posição e inclinação da curva, o 2 indica o grau do polinômio. Para cada valor de X temos um Y associado.\n",
        "\n",
        "    Em machine learning aprendemos que uma Regressão Polinomial é:\n",
        "\n",
        "$$\n",
        "Y_{predito} = \\beta_o + \\beta_1X + \\beta_2X² \\\\\n",
        "$$\n",
        "\n",
        "$ \\beta_o $ , $ \\beta_1 $ e $ \\beta_2 $ são parâmetros que determinam o peso da rede. Para cada entrada $ X $ temos um $ Y_{predito} $ aproximado predito.\n",
        "\n",
        "\n",
        "Essa ideia se estende para polinômio de graus maiores:\n",
        "\n",
        "$$\n",
        "Y_{predito} = \\beta_o + \\beta_1X + \\beta_2X² + ... + \\beta_nX^n\\\\\n",
        "$$\n",
        "\n"
      ]
    },
    {
      "cell_type": "code",
      "execution_count": 55,
      "metadata": {
        "colab": {
          "base_uri": "https://localhost:8080/",
          "height": 352
        },
        "id": "EAtt3oBsGEhk",
        "outputId": "d9820fb7-df34-4e81-a152-91fa651a772d"
      },
      "outputs": [
        {
          "name": "stdout",
          "output_type": "stream",
          "text": [
            "Soma dos Erros ao Quadrado (SSE): 602124 \n",
            "Erro Quadrático Médio (MSE): 20070.81\n",
            "Erro Médio Absoluto (MAE): 104.66\n",
            "Raiz do Erro Quadrático Médio (RMSE): 141.67 \n",
            "R2-score: 0.55\n"
          ]
        },
        {
          "data": {
            "image/png": "[encoded data removed]",
            "text/plain": [
              "<Figure size 640x480 with 1 Axes>"
            ]
          },
          "metadata": {},
          "output_type": "display_data"
        }
      ],
      "source": [
        "import operator\n",
        "\n",
        "import numpy as np\n",
        "import matplotlib.pyplot as plt\n",
        "\n",
        "from sklearn.linear_model import LinearRegression\n",
        "from sklearn.metrics import mean_squared_error, r2_score, mean_absolute_error\n",
        "\n",
        "# importa feature polinomial\n",
        "from sklearn.preprocessing import PolynomialFeatures\n",
        "\n",
        "#####----------- vou gerar alguns numeros aleatórios ------------------\n",
        "\n",
        "#gerando numeros aleatorios, apenas para este exemplo\n",
        "np.random.seed(42)\n",
        "x = 2 - 3 * np.random.normal(0, 1, 30)\n",
        "y = x - 3 * (x ** 2) + 0.8 * (x ** 3)+ 0.2 * (x ** 4) + np.random.normal(-20, 20, 30)\n",
        "\n",
        "# ajuste nos dados, pois estamos trabalhando com a numpy \n",
        "x = x[:, np.newaxis]\n",
        "y = y[:, np.newaxis]\n",
        "####---------------pronto já temos os dados para treinar -------------\n",
        "\n",
        "\n",
        "#----É aqui que o seu código muda ------------------------------------\n",
        "\n",
        "# Chama a função definindo o grau do polinomio e aplica o modelo\n",
        "\n",
        "grau_poly = 1\n",
        "polynomial_features= PolynomialFeatures(degree = grau_poly)\n",
        "x_poly = polynomial_features.fit_transform(x)\n",
        "\n",
        "#----Pronto agora é tudo como era antes, com regressão linear\n",
        "\n",
        "\n",
        "model = LinearRegression()\n",
        "model.fit(x_poly, y)\n",
        "y_poly_pred = model.predict(x_poly)\n",
        "\n",
        "# Métrica de avaliação do modelo\n",
        "print(\"Soma dos Erros ao Quadrado (SSE): %2.f \" % np.sum((y_poly_pred - y)**2))\n",
        "print(\"Erro Quadrático Médio (MSE): %.2f\" % mean_squared_error(y,y_poly_pred))\n",
        "print(\"Erro Médio Absoluto (MAE): %.2f\" % mean_absolute_error(y, y_poly_pred))\n",
        "print (\"Raiz do Erro Quadrático Médio (RMSE): %.2f \" % np.sqrt(mean_squared_error(y, y_poly_pred)))\n",
        "print(\"R2-score: %.2f\" % r2_score(y,y_poly_pred) )\n",
        "\n",
        "\n",
        "plt.scatter(x, y, s=10)\n",
        "# ordena os valores de x antes de plotar\n",
        "sort_axis = operator.itemgetter(0)\n",
        "sorted_zip = sorted(zip(x,y_poly_pred), key=sort_axis)\n",
        "x, y_poly_pred = zip(*sorted_zip)\n",
        "\n",
        "plt.plot(x, y_poly_pred, color='r')\n",
        "plt.show()"
      ]
    },
    {
      "cell_type": "markdown",
      "metadata": {},
      "source": [
        "## XGBoost\n",
        "\n",
        "O XGBoost (eXtreme Gradient Boosting) é um algoritmo de machine learning baseado em gradient boosting, amplamente utilizado em tarefas de regressão, classificação e ranqueamento. Ele é conhecido por sua alta performance, escalabilidade e capacidade de lidar com datasets complexos.\n",
        "\n",
        "### Conceitos Fundamentais\n",
        "\n",
        "1. Boosting:\n",
        "\n",
        "- Boosting é uma técnica de ensemble que combina vários modelos fracos (geralmente árvores de decisão) para criar um modelo forte.\n",
        "- No boosting, os modelos são treinados sequencialmente, onde cada modelo tenta corrigir os erros dos anteriores, dando mais peso às instâncias mal previstas.\n",
        "\n",
        "2. Gradient Boosting:\n",
        "\n",
        "- O gradient boosting usa o gradiente descendente para minimizar uma função de perda (ex.: erro quadrático médio para regressão).\n",
        "- Cada árvore é ajustada para prever o resíduo (erro) do modelo anterior, reduzindo gradualmente o erro total.\n",
        "\n",
        "3. Características do XGBoost:\n",
        "\n",
        "- Regularização: Inclui penalidades L1 (Lasso) e L2 (Ridge) para evitar overfitting, tornando o modelo mais robusto.\n",
        "- Paralelismo: Otimiza o treinamento usando múltiplos núcleos de CPU, tornando-o rápido mesmo em datasets grandes.\n",
        "- Tratamento de Missing Values: Lida automaticamente com valores ausentes, decidindo a melhor direção para cada nó da árvore.\n",
        "- Importância de Features: Fornece métricas para avaliar a relevância de cada variável no modelo.\n",
        "- Flexibilidade: Suporta diferentes funções de perda e pode ser ajustado com hiperparâmetros como taxa de aprendizado, número de árvores e profundidade.\n",
        "\n",
        "### Funcionamento\n",
        "\n",
        "1. Inicialização: Começa com uma previsão inicial (ex.: média dos valores alvo para regressão).\n",
        "2. Construção de Árvores:\n",
        "\n",
        "- Cada árvore é construída para prever os resíduos (erros) do modelo anterior.\n",
        "- A função de perda (ex.: MSE) é otimizada usando gradientes e hessianos (derivadas de primeira e segunda ordem).\n",
        "\n",
        "3. Atualização do Modelo: As previsões são atualizadas somando as contribuições de cada árvore, ponderadas por uma taxa de aprendizado.\n",
        "4. Regularização: Penalidades são aplicadas para limitar a complexidade das árvores, evitando overfitting."
      ]
    },
    {
      "cell_type": "code",
      "execution_count": null,
      "metadata": {},
      "outputs": [
        {
          "name": "stdout",
          "output_type": "stream",
          "text": [
            "Collecting xgboost\n",
            "  Downloading xgboost-3.0.4-py3-none-macosx_12_0_arm64.whl.metadata (2.1 kB)\n",
            "Requirement already satisfied: numpy in /Users/arnaldoalvesvianajunior/DisruptiveArchitectures/.venv/lib/python3.12/site-packages (from xgboost) (2.3.2)\n",
            "Requirement already satisfied: scipy in /Users/arnaldoalvesvianajunior/DisruptiveArchitectures/.venv/lib/python3.12/site-packages (from xgboost) (1.16.1)\n",
            "Downloading xgboost-3.0.4-py3-none-macosx_12_0_arm64.whl (2.0 MB)\n",
            "\u001b[2K   \u001b[90m━━━━━━━━━━━━━━━━━━━━━━━━━━━━━━━━━━━━━━━━\u001b[0m \u001b[32m2.0/2.0 MB\u001b[0m \u001b[31m7.6 MB/s\u001b[0m  \u001b[33m0:00:00\u001b[0m eta \u001b[36m0:00:01\u001b[0m\n",
            "\u001b[?25hInstalling collected packages: xgboost\n",
            "Successfully installed xgboost-3.0.4\n"
          ]
        }
      ],
      "source": [
        "# instalação do XGBoost\n",
        "!pip install xgboost"
      ]
    },
    {
      "cell_type": "code",
      "execution_count": 5,
      "metadata": {},
      "outputs": [
        {
          "name": "stdout",
          "output_type": "stream",
          "text": [
            "Soma dos Erros ao Quadrado (SSE): 938 \n",
            "Erro Quadrático Médio (MSE): 0.23\n",
            "Erro Médio Absoluto (MAE): 0.32\n",
            "Raiz do Erro Quadrático Médio (RMSE): 0.48 \n",
            "R2-score: 0.83\n",
            "Atributo: MedInc, Importância: 0.546\n",
            "Atributo: HouseAge, Importância: 0.065\n",
            "Atributo: AveRooms, Importância: 0.039\n",
            "Atributo: AveBedrms, Importância: 0.021\n",
            "Atributo: Population, Importância: 0.021\n",
            "Atributo: AveOccup, Importância: 0.149\n",
            "Atributo: Latitude, Importância: 0.074\n",
            "Atributo: Longitude, Importância: 0.084\n"
          ]
        }
      ],
      "source": [
        "# Importar bibliotecas\n",
        "from sklearn.datasets import fetch_california_housing\n",
        "from sklearn.model_selection import train_test_split\n",
        "from sklearn.metrics import r2_score, mean_squared_error,mean_absolute_error\n",
        "\n",
        "from xgboost import XGBRegressor\n",
        "\n",
        "# 1. Carregar o dataset novamente, já fizemos isso antes\n",
        "data = fetch_california_housing()\n",
        "X, y = data.data, data.target\n",
        "\n",
        "\n",
        "# 2. Dividir os dados em treino (80%) e teste (20%)\n",
        "X_train, X_test, y_train, y_test = train_test_split(X, y, test_size=0.2, random_state=42)\n",
        "\n",
        "# 3. Criar e treinar o modelo XGBoost\n",
        "model = XGBRegressor(\n",
        "    n_estimators=100,      # Número de árvores\n",
        "    learning_rate=0.1,     # Taxa de aprendizado\n",
        "    max_depth=6,           # Profundidade máxima de cada árvore\n",
        "    random_state=42        # Para reprodutibilidade\n",
        ")\n",
        "model.fit(X_train, y_train)\n",
        "\n",
        "\n",
        "# 4. Avaliar no conjunto de teste\n",
        "\n",
        "y_teste_predito = model.predict(X_test)\n",
        "\n",
        "print(\"Soma dos Erros ao Quadrado (SSE): %2.f \" % np.sum((y_teste_predito - y_test)**2))\n",
        "print(\"Erro Quadrático Médio (MSE): %.2f\" % mean_squared_error(y_test, y_teste_predito))\n",
        "print(\"Erro Médio Absoluto (MAE): %.2f\" % mean_absolute_error(y_test, y_teste_predito))\n",
        "print (\"Raiz do Erro Quadrático Médio (RMSE): %.2f \" % np.sqrt(mean_squared_error(y_test, y_teste_predito)))\n",
        "print(\"R2-score: %.2f\" % r2_score(y_test, y_teste_predito))\n",
        "\n",
        "\n",
        "# 5. Exibir a importância das features\n",
        "importances = model.feature_importances_\n",
        "feature_names = data.feature_names\n",
        "for name, importance in zip(feature_names, importances):\n",
        "    print(f\"Atributo: {name}, Importância: {importance:.3f}\")"
      ]
    },
    {
      "cell_type": "markdown",
      "metadata": {
        "id": "2PLNxsRIGEhn"
      },
      "source": []
    }
  ],
  "metadata": {
    "colab": {
      "include_colab_link": true,
      "provenance": []
    },
    "kernelspec": {
      "display_name": ".venv",
      "language": "python",
      "name": "python3"
    },
    "language_info": {
      "codemirror_mode": {
        "name": "ipython",
        "version": 3
      },
      "file_extension": ".py",
      "mimetype": "text/x-python",
      "name": "python",
      "nbconvert_exporter": "python",
      "pygments_lexer": "ipython3",
      "version": "3.12.10"
    }
  },
  "nbformat": 4,
  "nbformat_minor": 0
}
