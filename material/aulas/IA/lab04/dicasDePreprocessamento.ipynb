{
  "cells": [
    {
      "cell_type": "markdown",
      "metadata": {
        "colab_type": "text",
        "id": "view-in-github"
      },
      "source": [
        "<a href=\"https://colab.research.google.com/github/arnaldojr/DisruptiveArchitectures/blob/master/material/aulas/IA/lab04/dicasDePreprocessamento.ipynb\" target=\"_parent\"><img src=\"https://colab.research.google.com/assets/colab-badge.svg\" alt=\"Open In Colab\"/></a>"
      ]
    },
    {
      "cell_type": "markdown",
      "metadata": {
        "id": "aMmNaZHoVaz0"
      },
      "source": [
        "## 2. Aprendizagem de máquina\n",
        "\n",
        "### Objetivos\n",
        "\n",
        "  - Dicas de pré-processamento de dados \n",
        "  - Entender e praticar a normalização dos dados\n",
        "  - Entender e praticar codificação Label Encoder e One Hot Encoder.\n",
        "  - Redução de dimensionalidade: PCA"
      ]
    },
    {
      "cell_type": "markdown",
      "metadata": {
        "id": "7BX3LGjNVa0D"
      },
      "source": [
        "## Pré-processamento \n",
        "\n",
        "Nesta etapa estamos interessados em tratar os dados que servirão de entrada do nosso modelo de Machine Learning seja ele predição, agrupamento ou classificação. Existem diversas técnicas que podem (e devem) ser aplicadas, já conhecemos algumas e hoje veremos outras técnicas.\n"
      ]
    },
    {
      "cell_type": "markdown",
      "metadata": {
        "id": "rmuWiCzpVa0E"
      },
      "source": [
        "## Normalização de dados\n",
        "\n",
        "O conceito de normalização é simples, a idéia é deixar os dados todos na mesma ordem de grandeza, desta forma evita-se gerar discrepâncias entre os atributos (colunas).  \n",
        "\n",
        "Os métodos mais populares são:\n",
        "\n",
        "- Normalização Min-Máx: transforma os dados em um escala linear entre 0 e 1\n",
        "- Normalização de pontuação Z: Escala de dados com base na média e desvio padrão (tambem chamado de padronização)\n",
        "- Dimensionamento decimal: Dimensiona os dados movendo o ponto decimal do atributo (muito utilizado em sistemas embarcados). \n"
      ]
    },
    {
      "cell_type": "markdown",
      "metadata": {
        "id": "HvnA3BPAVa0F"
      },
      "source": [
        "\n",
        "Exemplo: Vamos criar um lista com 3 atributos e vamos normalizar. \n",
        "\n",
        "- Atributos:\n",
        "  - altura (cm)\n",
        "  - massa (Kg)\n",
        "  - idade (anos)"
      ]
    },
    {
      "cell_type": "code",
      "execution_count": 47,
      "metadata": {
        "colab": {
          "base_uri": "https://localhost:8080/",
          "height": 175
        },
        "id": "YTL5_4whVa0G",
        "outputId": "ca20309f-1f65-47bb-bee0-6ff899bf4550"
      },
      "outputs": [
        {
          "data": {
            "text/html": [
              "<div>\n",
              "<style scoped>\n",
              "    .dataframe tbody tr th:only-of-type {\n",
              "        vertical-align: middle;\n",
              "    }\n",
              "\n",
              "    .dataframe tbody tr th {\n",
              "        vertical-align: top;\n",
              "    }\n",
              "\n",
              "    .dataframe thead th {\n",
              "        text-align: right;\n",
              "    }\n",
              "</style>\n",
              "<table border=\"1\" class=\"dataframe\">\n",
              "  <thead>\n",
              "    <tr style=\"text-align: right;\">\n",
              "      <th></th>\n",
              "      <th>altura (cm)</th>\n",
              "      <th>massa (kg)</th>\n",
              "      <th>idade (anos)</th>\n",
              "    </tr>\n",
              "  </thead>\n",
              "  <tbody>\n",
              "    <tr>\n",
              "      <th>0</th>\n",
              "      <td>170</td>\n",
              "      <td>90</td>\n",
              "      <td>20</td>\n",
              "    </tr>\n",
              "    <tr>\n",
              "      <th>1</th>\n",
              "      <td>168</td>\n",
              "      <td>55</td>\n",
              "      <td>33</td>\n",
              "    </tr>\n",
              "    <tr>\n",
              "      <th>2</th>\n",
              "      <td>173</td>\n",
              "      <td>84</td>\n",
              "      <td>57</td>\n",
              "    </tr>\n",
              "    <tr>\n",
              "      <th>3</th>\n",
              "      <td>189</td>\n",
              "      <td>98</td>\n",
              "      <td>41</td>\n",
              "    </tr>\n",
              "  </tbody>\n",
              "</table>\n",
              "</div>"
            ],
            "text/plain": [
              "   altura (cm)  massa (kg)  idade (anos)\n",
              "0          170          90            20\n",
              "1          168          55            33\n",
              "2          173          84            57\n",
              "3          189          98            41"
            ]
          },
          "execution_count": 47,
          "metadata": {},
          "output_type": "execute_result"
        }
      ],
      "source": [
        "import numpy as np\n",
        "import pandas as pd\n",
        "\n",
        "cols = ['altura (cm)', 'massa (kg)', 'idade (anos)']\n",
        "df = pd.DataFrame(np.array([\n",
        "                            [170, 90, 20], # altura (cm), massa (Kg), idade (anos)\n",
        "                            [168, 55, 33],\n",
        "                            [173, 84, 57],\n",
        "                            [189, 98, 41]\n",
        "                        ]),columns=cols)\n",
        "\n",
        "df.head()                  "
      ]
    },
    {
      "cell_type": "markdown",
      "metadata": {
        "id": "WPTVDph1Va0O"
      },
      "source": [
        "No nosso exemplo vamos usar o método min-máx:\n",
        "\n",
        "$$\n",
        "valor_{normalizado}=\\dfrac{valor - min_{valores}}{(max_{valores} - min_{valores})}(max_{feature_range} - min_{feature_range}) + min_{feature_range}\n",
        "$$\n"
      ]
    },
    {
      "cell_type": "code",
      "execution_count": 48,
      "metadata": {
        "colab": {
          "base_uri": "https://localhost:8080/"
        },
        "id": "T4ch-fJOVa0Q",
        "outputId": "e21713e2-9e0e-46e3-a4b0-9016b4afc88a"
      },
      "outputs": [
        {
          "name": "stdout",
          "output_type": "stream",
          "text": [
            "[[0.0952381  0.81395349 0.        ]\n",
            " [0.         0.         0.35135135]\n",
            " [0.23809524 0.6744186  1.        ]\n",
            " [1.         1.         0.56756757]]\n"
          ]
        }
      ],
      "source": [
        "from sklearn.preprocessing import MinMaxScaler\n",
        "\n",
        "#Cria o objeto da classe MinMaxScaler\n",
        "scaler_minmax = MinMaxScaler(feature_range=(0,1))\n",
        "\n",
        "scaled_data = scaler_minmax.fit_transform(df[cols])\n",
        "\n",
        "print(scaled_data)"
      ]
    },
    {
      "cell_type": "markdown",
      "metadata": {
        "id": "t4sAC_03WtrE"
      },
      "source": [
        "Agora que os dados já estão normalizados, podemos aplicar está transformação em novos dados inseridos pelos usuario. Para isso, basta usar a função ``transform()`` do scaler já treinado."
      ]
    },
    {
      "cell_type": "code",
      "execution_count": 49,
      "metadata": {
        "colab": {
          "base_uri": "https://localhost:8080/"
        },
        "id": "j4T2kzm5WRCY",
        "outputId": "1cb2a4e9-a3d3-4053-d375-1b45d14fbec5"
      },
      "outputs": [
        {
          "name": "stdout",
          "output_type": "stream",
          "text": [
            "[[ 0.57142857  3.02325581  3.91891892]\n",
            " [-3.71428571  0.58139535  1.        ]\n",
            " [-6.57142857 -0.34883721  0.13513514]]\n"
          ]
        }
      ],
      "source": [
        "# Dados definidos pelo usuário\n",
        "novos_dados = pd.DataFrame({'altura (cm)': [180, 90, 30],\n",
        "                            'massa (kg)': [185, 80, 40],\n",
        "                            'idade (anos)': [165, 57, 25]})\n",
        "# Aplicando o scaler nos novos dados\n",
        "scaled_novos_dados = scaler_minmax.transform(novos_dados)\n",
        "\n",
        "print(scaled_novos_dados)"
      ]
    },
    {
      "cell_type": "markdown",
      "metadata": {
        "id": "F4iuvWGxZh0G"
      },
      "source": [
        "Outra técnica que podemos utilizar é o ``StandardScaler`` que normaliza valores com média 0 e desvio padrão igual a 1.\n"
      ]
    },
    {
      "cell_type": "code",
      "execution_count": 50,
      "metadata": {
        "colab": {
          "base_uri": "https://localhost:8080/"
        },
        "id": "IC37l8ZbVa0S",
        "outputId": "de1ed382-2b60-40df-e6b2-6f06de9b09a0"
      },
      "outputs": [
        {
          "data": {
            "text/plain": [
              "array([[-0.60412209,  0.50853555, -1.32415683],\n",
              "       [-0.84577093, -1.648888  , -0.35435183],\n",
              "       [-0.24164884,  0.13869151,  1.4360574 ],\n",
              "       [ 1.69154186,  1.00166093,  0.24245125]])"
            ]
          },
          "execution_count": 50,
          "metadata": {},
          "output_type": "execute_result"
        }
      ],
      "source": [
        "cols = ['altura (cm)', 'massa (kg)', 'idade (anos)']\n",
        "df = pd.DataFrame(np.array([\n",
        "                            [170, 90, 20], # altura (cm), massa (Kg), idade (anos)\n",
        "                            [168, 55, 33],\n",
        "                            [173, 84, 57],\n",
        "                            [189, 98, 41]\n",
        "                        ]),columns=cols)\n",
        "\n",
        "df.head() \n",
        "\n",
        "from sklearn.preprocessing import StandardScaler\n",
        "\n",
        "#Cria o objeto da classe standardScaler\n",
        "scaler_standard = StandardScaler()\n",
        "\n",
        "scaled_data = scaler_standard.fit_transform(df[cols])\n",
        "\n",
        "scaled_data"
      ]
    },
    {
      "cell_type": "markdown",
      "metadata": {
        "id": "-KtqzKrdXvV1"
      },
      "source": [
        "Da mesma forma que o anterior, podemos aplicar está transformação em novos dados inseridos pelos usuario. Para isso, basta usar a função `transform()` do scaler já treinado."
      ]
    },
    {
      "cell_type": "code",
      "execution_count": 51,
      "metadata": {
        "colab": {
          "base_uri": "https://localhost:8080/"
        },
        "id": "iYD-fhuVXtTF",
        "outputId": "489384b0-5443-4320-bd68-8cbc11bcabb5"
      },
      "outputs": [
        {
          "name": "stdout",
          "output_type": "stream",
          "text": [
            "[[  0.60412209   6.36439947   9.49289895]\n",
            " [-10.27007559  -0.10787118   1.4360574 ]\n",
            " [-17.51954071  -2.57349809  -0.9511549 ]]\n"
          ]
        }
      ],
      "source": [
        "# Dados definidos pelo usuário\n",
        "novos_dados2 = pd.DataFrame({'altura (cm)': [180, 90, 30],\n",
        "                            'massa (kg)': [185, 80, 40],\n",
        "                            'idade (anos)': [165, 57, 25]})\n",
        "# Aplicando o scaler nos novos dados\n",
        "scaled_novos_dados2 = scaler_standard.transform(novos_dados2)\n",
        "\n",
        "print(scaled_novos_dados2)\n",
        "\n"
      ]
    },
    {
      "cell_type": "markdown",
      "metadata": {},
      "source": [
        "### Aplicando transformações e revertendo a transformação dos dados\n",
        "\n",
        "Podemos aplicar a transformação nos dados e o método `inverse_transform` é usado para reverter os dados de volta à sua escala original."
      ]
    },
    {
      "cell_type": "code",
      "execution_count": 52,
      "metadata": {
        "colab": {
          "base_uri": "https://localhost:8080/",
          "height": 175
        },
        "id": "d-gdR7xFa6Oq",
        "outputId": "3ba97277-8514-45ff-8604-5d753bdf275b"
      },
      "outputs": [
        {
          "name": "stdout",
          "output_type": "stream",
          "text": [
            "Dados transformados:\n",
            "     altura     massa  idade\n",
            "0 -0.604122  0.813953     20\n",
            "1 -0.845771  0.000000     33\n",
            "2 -0.241649  0.674419     57\n",
            "3  1.691542  1.000000     41\n",
            "\n",
            "Dados revertidos para a escala original:\n",
            "   altura  massa  idade\n",
            "0   170.0   90.0     20\n",
            "1   168.0   55.0     33\n",
            "2   173.0   84.0     57\n",
            "3   189.0   98.0     41\n"
          ]
        }
      ],
      "source": [
        "# transformações diferentes em no mesmo dataset\n",
        "from sklearn.preprocessing import MinMaxScaler\n",
        "from sklearn.preprocessing import StandardScaler\n",
        "\n",
        "\n",
        "cols = ['altura', 'massa', 'idade']\n",
        "df = pd.DataFrame(np.array([\n",
        "                            [170, 90, 20], # altura (cm), massa (Kg), idade (anos)\n",
        "                            [168, 55, 33],\n",
        "                            [173, 84, 57],\n",
        "                            [189, 98, 41]\n",
        "                        ]),columns=cols)\n",
        "\n",
        "#Cria o objeto da classe standardScaler e MinMaxScaler\n",
        "scaler_standard = StandardScaler()\n",
        "scaler_minmax = MinMaxScaler(feature_range=(0,1))\n",
        "\n",
        "# Aplica as transformações\n",
        "scaled_standard = scaler_standard.fit_transform(df[['altura']])\n",
        "scaled_minmax = scaler_minmax.fit_transform(df[['massa']])\n",
        "\n",
        "# atualiza o valor e mostra o resultado\n",
        "df[['altura']] = scaled_standard\n",
        "df[['massa']] = scaled_minmax\n",
        "\n",
        "\n",
        "print(\"Dados transformados:\")\n",
        "print(df.head())\n",
        "\n",
        "# Reverte as transformações\n",
        "df[['altura']] = scaler_standard.inverse_transform(df[['altura']])\n",
        "df[['massa']] = scaler_minmax.inverse_transform(df[['massa']])\n",
        "\n",
        "print(\"\\nDados revertidos para a escala original:\")\n",
        "print(df.head())"
      ]
    },
    {
      "cell_type": "markdown",
      "metadata": {
        "id": "TQG2IcGohXw_"
      },
      "source": [
        "## Desafio 1\n",
        "\n",
        "Vamos praticar com o dataset 'wine' outro clássico do mundo de ml. Aplique essas transformações necessárias aprendidas nos atributos numéricos. \n",
        "\n"
      ]
    },
    {
      "cell_type": "code",
      "execution_count": 1,
      "metadata": {
        "id": "1GT3RjpjiMoC"
      },
      "outputs": [
        {
          "data": {
            "text/html": [
              "<div>\n",
              "<style scoped>\n",
              "    .dataframe tbody tr th:only-of-type {\n",
              "        vertical-align: middle;\n",
              "    }\n",
              "\n",
              "    .dataframe tbody tr th {\n",
              "        vertical-align: top;\n",
              "    }\n",
              "\n",
              "    .dataframe thead th {\n",
              "        text-align: right;\n",
              "    }\n",
              "</style>\n",
              "<table border=\"1\" class=\"dataframe\">\n",
              "  <thead>\n",
              "    <tr style=\"text-align: right;\">\n",
              "      <th></th>\n",
              "      <th>fixed acidity</th>\n",
              "      <th>volatile acidity</th>\n",
              "      <th>citric acid</th>\n",
              "      <th>residual sugar</th>\n",
              "      <th>chlorides</th>\n",
              "      <th>free sulfur dioxide</th>\n",
              "      <th>total sulfur dioxide</th>\n",
              "      <th>density</th>\n",
              "      <th>pH</th>\n",
              "      <th>sulphates</th>\n",
              "      <th>alcohol</th>\n",
              "      <th>quality</th>\n",
              "    </tr>\n",
              "  </thead>\n",
              "  <tbody>\n",
              "    <tr>\n",
              "      <th>0</th>\n",
              "      <td>7.4</td>\n",
              "      <td>0.70</td>\n",
              "      <td>0.00</td>\n",
              "      <td>1.9</td>\n",
              "      <td>0.076</td>\n",
              "      <td>11.0</td>\n",
              "      <td>34.0</td>\n",
              "      <td>0.9978</td>\n",
              "      <td>3.51</td>\n",
              "      <td>0.56</td>\n",
              "      <td>9.4</td>\n",
              "      <td>5</td>\n",
              "    </tr>\n",
              "    <tr>\n",
              "      <th>1</th>\n",
              "      <td>7.8</td>\n",
              "      <td>0.88</td>\n",
              "      <td>0.00</td>\n",
              "      <td>2.6</td>\n",
              "      <td>0.098</td>\n",
              "      <td>25.0</td>\n",
              "      <td>67.0</td>\n",
              "      <td>0.9968</td>\n",
              "      <td>3.20</td>\n",
              "      <td>0.68</td>\n",
              "      <td>9.8</td>\n",
              "      <td>5</td>\n",
              "    </tr>\n",
              "    <tr>\n",
              "      <th>2</th>\n",
              "      <td>7.8</td>\n",
              "      <td>0.76</td>\n",
              "      <td>0.04</td>\n",
              "      <td>2.3</td>\n",
              "      <td>0.092</td>\n",
              "      <td>15.0</td>\n",
              "      <td>54.0</td>\n",
              "      <td>0.9970</td>\n",
              "      <td>3.26</td>\n",
              "      <td>0.65</td>\n",
              "      <td>9.8</td>\n",
              "      <td>5</td>\n",
              "    </tr>\n",
              "    <tr>\n",
              "      <th>3</th>\n",
              "      <td>11.2</td>\n",
              "      <td>0.28</td>\n",
              "      <td>0.56</td>\n",
              "      <td>1.9</td>\n",
              "      <td>0.075</td>\n",
              "      <td>17.0</td>\n",
              "      <td>60.0</td>\n",
              "      <td>0.9980</td>\n",
              "      <td>3.16</td>\n",
              "      <td>0.58</td>\n",
              "      <td>9.8</td>\n",
              "      <td>6</td>\n",
              "    </tr>\n",
              "    <tr>\n",
              "      <th>4</th>\n",
              "      <td>7.4</td>\n",
              "      <td>0.70</td>\n",
              "      <td>0.00</td>\n",
              "      <td>1.9</td>\n",
              "      <td>0.076</td>\n",
              "      <td>11.0</td>\n",
              "      <td>34.0</td>\n",
              "      <td>0.9978</td>\n",
              "      <td>3.51</td>\n",
              "      <td>0.56</td>\n",
              "      <td>9.4</td>\n",
              "      <td>5</td>\n",
              "    </tr>\n",
              "  </tbody>\n",
              "</table>\n",
              "</div>"
            ],
            "text/plain": [
              "   fixed acidity  volatile acidity  citric acid  residual sugar  chlorides  \\\n",
              "0            7.4              0.70         0.00             1.9      0.076   \n",
              "1            7.8              0.88         0.00             2.6      0.098   \n",
              "2            7.8              0.76         0.04             2.3      0.092   \n",
              "3           11.2              0.28         0.56             1.9      0.075   \n",
              "4            7.4              0.70         0.00             1.9      0.076   \n",
              "\n",
              "   free sulfur dioxide  total sulfur dioxide  density    pH  sulphates  \\\n",
              "0                 11.0                  34.0   0.9978  3.51       0.56   \n",
              "1                 25.0                  67.0   0.9968  3.20       0.68   \n",
              "2                 15.0                  54.0   0.9970  3.26       0.65   \n",
              "3                 17.0                  60.0   0.9980  3.16       0.58   \n",
              "4                 11.0                  34.0   0.9978  3.51       0.56   \n",
              "\n",
              "   alcohol  quality  \n",
              "0      9.4        5  \n",
              "1      9.8        5  \n",
              "2      9.8        5  \n",
              "3      9.8        6  \n",
              "4      9.4        5  "
            ]
          },
          "execution_count": 1,
          "metadata": {},
          "output_type": "execute_result"
        }
      ],
      "source": [
        "import pandas as pd\n",
        "\n",
        "url = \"https://archive.ics.uci.edu/ml/machine-learning-databases/wine-quality/winequality-red.csv\"\n",
        "wine_data = pd.read_csv(url, delimiter=\";\")\n",
        "\n",
        "wine_data.head()\n",
        "\n",
        "### seu código aqui.....\n",
        "\n"
      ]
    },
    {
      "cell_type": "markdown",
      "metadata": {
        "id": "tFtb0cyQVa0V"
      },
      "source": [
        "## Codificação de Atributos Categóricos: `Label Encoder` e `One Hot Encoder`\n",
        "\n",
        "Em diversas situações, nos deparamos com atributos categóricos em nossos conjuntos de dados, ou seja, aqueles que contêm texto em vez de números.\n",
        "\n",
        "Considere os seguintes exemplos:\n",
        "\n",
        "- O atributo `cidade`, que pode conter valores como `[\"cotia\",\"São Paulo\",\"Pouso Alegre\"]` que são exemplos de nomes de cidades;\n",
        "- O atributo `qualificação profissional`, que pode ter valores como `[\"junior\",\"Pleno\",\"Senior\"]` indicando níveis hierárquicos de cargos. \n",
        "\n",
        "Para trabalhar com aprendizado de máquina, manter esses atributos em formato de texto pode não ser a abordagem mais adequada. Por isso, uma alternativa é converter esses textos em valores numéricos. Vamos explorar algumas técnicas para realizar essa conversão."
      ]
    },
    {
      "cell_type": "markdown",
      "metadata": {
        "id": "Plh9M206Va0W"
      },
      "source": [
        "### Label Encoder \n",
        "\n",
        "O Label Encoder é uma técnica simples para converter atributos categóricos de texto para números, associando um valor numérico único a cada texto distinto do atributo.\n",
        "\n",
        "- Exemplo:\n",
        "\n",
        "    [\"cotia\",\"São Paulo\",\"Pouso Alegre\"] == [0,2,1]\n",
        "\n",
        "    [\"junior\",\"Pleno\",\"Senior\"] == [0,1,2]\n",
        "\n",
        "Observação: Note que os indices estão em `ordem alfabética`. \n"
      ]
    },
    {
      "cell_type": "code",
      "execution_count": 39,
      "metadata": {
        "colab": {
          "base_uri": "https://localhost:8080/",
          "height": 175
        },
        "id": "yGI_9qAEVa0X",
        "outputId": "f328b687-1c05-44eb-d774-09938b87a6fb"
      },
      "outputs": [
        {
          "data": {
            "text/html": [
              "<div>\n",
              "<style scoped>\n",
              "    .dataframe tbody tr th:only-of-type {\n",
              "        vertical-align: middle;\n",
              "    }\n",
              "\n",
              "    .dataframe tbody tr th {\n",
              "        vertical-align: top;\n",
              "    }\n",
              "\n",
              "    .dataframe thead th {\n",
              "        text-align: right;\n",
              "    }\n",
              "</style>\n",
              "<table border=\"1\" class=\"dataframe\">\n",
              "  <thead>\n",
              "    <tr style=\"text-align: right;\">\n",
              "      <th></th>\n",
              "      <th>altura(cm)</th>\n",
              "      <th>massa(kg)</th>\n",
              "      <th>qualificacao</th>\n",
              "    </tr>\n",
              "  </thead>\n",
              "  <tbody>\n",
              "    <tr>\n",
              "      <th>0</th>\n",
              "      <td>170</td>\n",
              "      <td>90</td>\n",
              "      <td>junior</td>\n",
              "    </tr>\n",
              "    <tr>\n",
              "      <th>1</th>\n",
              "      <td>168</td>\n",
              "      <td>55</td>\n",
              "      <td>pleno</td>\n",
              "    </tr>\n",
              "    <tr>\n",
              "      <th>2</th>\n",
              "      <td>173</td>\n",
              "      <td>84</td>\n",
              "      <td>junior</td>\n",
              "    </tr>\n",
              "    <tr>\n",
              "      <th>3</th>\n",
              "      <td>189</td>\n",
              "      <td>98</td>\n",
              "      <td>senior</td>\n",
              "    </tr>\n",
              "  </tbody>\n",
              "</table>\n",
              "</div>"
            ],
            "text/plain": [
              "  altura(cm) massa(kg) qualificacao\n",
              "0        170        90       junior\n",
              "1        168        55        pleno\n",
              "2        173        84       junior\n",
              "3        189        98       senior"
            ]
          },
          "execution_count": 39,
          "metadata": {},
          "output_type": "execute_result"
        }
      ],
      "source": [
        "import numpy as np\n",
        "import pandas as pd\n",
        "\n",
        "cols = ['altura(cm)', 'massa(kg)', 'qualificacao']\n",
        "df = pd.DataFrame(np.array([\n",
        "    [170, 90, \"junior\"],\n",
        "    [168, 55, \"pleno\"],\n",
        "    [173, 84, \"junior\"],\n",
        "    [189, 98, \"senior\"]\n",
        "]), columns=cols)\n",
        "\n",
        "df.head()"
      ]
    },
    {
      "cell_type": "code",
      "execution_count": 40,
      "metadata": {
        "colab": {
          "base_uri": "https://localhost:8080/",
          "height": 175
        },
        "id": "NNcGeFMOVa0Y",
        "outputId": "ba2f010f-fd2a-4717-8f67-d1a869314a04"
      },
      "outputs": [
        {
          "data": {
            "text/html": [
              "<div>\n",
              "<style scoped>\n",
              "    .dataframe tbody tr th:only-of-type {\n",
              "        vertical-align: middle;\n",
              "    }\n",
              "\n",
              "    .dataframe tbody tr th {\n",
              "        vertical-align: top;\n",
              "    }\n",
              "\n",
              "    .dataframe thead th {\n",
              "        text-align: right;\n",
              "    }\n",
              "</style>\n",
              "<table border=\"1\" class=\"dataframe\">\n",
              "  <thead>\n",
              "    <tr style=\"text-align: right;\">\n",
              "      <th></th>\n",
              "      <th>altura(cm)</th>\n",
              "      <th>massa(kg)</th>\n",
              "      <th>qualificacao</th>\n",
              "    </tr>\n",
              "  </thead>\n",
              "  <tbody>\n",
              "    <tr>\n",
              "      <th>0</th>\n",
              "      <td>170</td>\n",
              "      <td>90</td>\n",
              "      <td>0</td>\n",
              "    </tr>\n",
              "    <tr>\n",
              "      <th>1</th>\n",
              "      <td>168</td>\n",
              "      <td>55</td>\n",
              "      <td>1</td>\n",
              "    </tr>\n",
              "    <tr>\n",
              "      <th>2</th>\n",
              "      <td>173</td>\n",
              "      <td>84</td>\n",
              "      <td>0</td>\n",
              "    </tr>\n",
              "    <tr>\n",
              "      <th>3</th>\n",
              "      <td>189</td>\n",
              "      <td>98</td>\n",
              "      <td>2</td>\n",
              "    </tr>\n",
              "  </tbody>\n",
              "</table>\n",
              "</div>"
            ],
            "text/plain": [
              "  altura(cm) massa(kg)  qualificacao\n",
              "0        170        90             0\n",
              "1        168        55             1\n",
              "2        173        84             0\n",
              "3        189        98             2"
            ]
          },
          "execution_count": 40,
          "metadata": {},
          "output_type": "execute_result"
        }
      ],
      "source": [
        "from sklearn.preprocessing import LabelEncoder\n",
        "\n",
        "# Cria o objeto LabelEncoder\n",
        "labelencoder = LabelEncoder()\n",
        "\n",
        "# Converte a coluna 'qualificacao' para string e ajusta os dados categóricos\n",
        "df['qualificacao'] = df['qualificacao'].astype(str)\n",
        "labelencoder.fit(df['qualificacao'])\n",
        "\n",
        "# Aplica a transformação dos dados categóricos\n",
        "df['qualificacao'] = labelencoder.transform(df['qualificacao'])\n",
        "\n",
        "### uma alternativa é usar o comando abaixo\n",
        "# Ajusta e transforma os dados categóricos no mesmo comando\n",
        "# df['qualificacao'] = df['qualificacao'].astype(str)\n",
        "# df['qualificacao'] = labelencoder.fit_transform(df['qualificacao'])\n",
        "\n",
        "df.head()"
      ]
    },
    {
      "cell_type": "code",
      "execution_count": 41,
      "metadata": {},
      "outputs": [
        {
          "name": "stdout",
          "output_type": "stream",
          "text": [
            "Qualificação codificada: [0 1 0 2 2]\n",
            "Qualificação decodificada: ['junior' 'pleno' 'junior' 'senior' 'senior']\n"
          ]
        }
      ],
      "source": [
        "# Novos dados para codificação\n",
        "novos_dados2 = pd.DataFrame({'qualificacao': [\"junior\", \"pleno\", \"junior\", \"senior\", \"senior\"]})\n",
        "encoded_data = labelencoder.transform(novos_dados2['qualificacao'])\n",
        "\n",
        "print('Qualificação codificada:', encoded_data)\n",
        "\n",
        "# Para voltar aos atributos originais\n",
        "print('Qualificação decodificada:', labelencoder.inverse_transform(encoded_data))\n"
      ]
    },
    {
      "cell_type": "markdown",
      "metadata": {
        "id": "jJxoj795Va0Z"
      },
      "source": [
        "### Dicas \n",
        "\n",
        "O problema surge quando diferentes números na mesma coluna levam o modelo a interpretar erroneamente os dados como se estivessem em uma ordem específica, por exemplo, 0 < 1 < 2.\n",
        "\n",
        "Como desenvolvedor, é crucial estar ciente dessa questão e avaliar se a ordenação faz sentido para o contexto. Por exemplo, para o atributo qualificação, a ordenação pode não ser problemática. No entanto, para atributos como gênero ou estado, onde não existe uma ordem natural, a utilização do Label Encoder pode ser inadequada.\n",
        "\n",
        "Nesses casos, o One Hot Encoder pode ser uma alternativa útil, pois cria variáveis binárias para cada categoria, evitando assim a implicação de uma ordem entre elas."
      ]
    },
    {
      "cell_type": "markdown",
      "metadata": {
        "id": "sLLbKpbeVa0a"
      },
      "source": [
        "### One Hot Encoder\n",
        "\n",
        "Podemos associar cada valor de um atribuco como uma nova coluna e preencher com 0 ou 1 o valor desta coluna, é desta forma que o one hot encoder funciona. \n",
        "\n",
        "- Exemplo:"
      ]
    },
    {
      "cell_type": "code",
      "execution_count": 53,
      "metadata": {
        "colab": {
          "base_uri": "https://localhost:8080/",
          "height": 175
        },
        "id": "7ko6ws7OVa0b",
        "outputId": "41875881-52e8-4bf1-e75b-2fbb2fa76799"
      },
      "outputs": [
        {
          "data": {
            "text/html": [
              "<div>\n",
              "<style scoped>\n",
              "    .dataframe tbody tr th:only-of-type {\n",
              "        vertical-align: middle;\n",
              "    }\n",
              "\n",
              "    .dataframe tbody tr th {\n",
              "        vertical-align: top;\n",
              "    }\n",
              "\n",
              "    .dataframe thead th {\n",
              "        text-align: right;\n",
              "    }\n",
              "</style>\n",
              "<table border=\"1\" class=\"dataframe\">\n",
              "  <thead>\n",
              "    <tr style=\"text-align: right;\">\n",
              "      <th></th>\n",
              "      <th>altura (cm)</th>\n",
              "      <th>massa (kg)</th>\n",
              "      <th>qualificacao</th>\n",
              "    </tr>\n",
              "  </thead>\n",
              "  <tbody>\n",
              "    <tr>\n",
              "      <th>0</th>\n",
              "      <td>170</td>\n",
              "      <td>90</td>\n",
              "      <td>junior</td>\n",
              "    </tr>\n",
              "    <tr>\n",
              "      <th>1</th>\n",
              "      <td>168</td>\n",
              "      <td>55</td>\n",
              "      <td>pleno</td>\n",
              "    </tr>\n",
              "    <tr>\n",
              "      <th>2</th>\n",
              "      <td>173</td>\n",
              "      <td>84</td>\n",
              "      <td>junior</td>\n",
              "    </tr>\n",
              "    <tr>\n",
              "      <th>3</th>\n",
              "      <td>189</td>\n",
              "      <td>98</td>\n",
              "      <td>senior</td>\n",
              "    </tr>\n",
              "  </tbody>\n",
              "</table>\n",
              "</div>"
            ],
            "text/plain": [
              "  altura (cm) massa (kg) qualificacao\n",
              "0         170         90       junior\n",
              "1         168         55        pleno\n",
              "2         173         84       junior\n",
              "3         189         98       senior"
            ]
          },
          "execution_count": 53,
          "metadata": {},
          "output_type": "execute_result"
        }
      ],
      "source": [
        "import numpy as np\n",
        "import pandas as pd\n",
        "\n",
        "cols = ['altura (cm)', 'massa (kg)', 'qualificacao']\n",
        "df = pd.DataFrame(np.array([\n",
        "                            [170, 90, \"junior\"], # altura (cm), massa (Kg), gênero (f/m)\n",
        "                            [168, 55, \"pleno\"],\n",
        "                            [173, 84, \"junior\"],\n",
        "                            [189, 98, \"senior\"]\n",
        "                        ]),columns=cols)\n",
        "\n",
        "df.head()"
      ]
    },
    {
      "cell_type": "code",
      "execution_count": 54,
      "metadata": {
        "id": "-oHAo1gJVa0d",
        "outputId": "0aad8267-4ade-4b5e-9cb6-c0b55df8d6ce"
      },
      "outputs": [
        {
          "data": {
            "text/plain": [
              "array([[1., 0., 0.],\n",
              "       [0., 1., 0.],\n",
              "       [1., 0., 0.],\n",
              "       [0., 0., 1.]])"
            ]
          },
          "execution_count": 54,
          "metadata": {},
          "output_type": "execute_result"
        }
      ],
      "source": [
        "from sklearn.preprocessing import OneHotEncoder\n",
        "\n",
        "ohe = OneHotEncoder()\n",
        "\n",
        "ponte_ohe = ohe.fit_transform(df[['qualificacao']]).toarray()\n",
        "\n",
        "ponte_ohe"
      ]
    },
    {
      "cell_type": "code",
      "execution_count": 55,
      "metadata": {
        "id": "hwijyehUVa0e",
        "outputId": "7f9edff7-61e6-4c3c-cc7e-2d1f57415a3a"
      },
      "outputs": [
        {
          "data": {
            "text/html": [
              "<div>\n",
              "<style scoped>\n",
              "    .dataframe tbody tr th:only-of-type {\n",
              "        vertical-align: middle;\n",
              "    }\n",
              "\n",
              "    .dataframe tbody tr th {\n",
              "        vertical-align: top;\n",
              "    }\n",
              "\n",
              "    .dataframe thead th {\n",
              "        text-align: right;\n",
              "    }\n",
              "</style>\n",
              "<table border=\"1\" class=\"dataframe\">\n",
              "  <thead>\n",
              "    <tr style=\"text-align: right;\">\n",
              "      <th></th>\n",
              "      <th>altura (cm)</th>\n",
              "      <th>massa (kg)</th>\n",
              "      <th>qualificacao</th>\n",
              "      <th>qualificacao0</th>\n",
              "      <th>qualificacao1</th>\n",
              "      <th>qualificacao2</th>\n",
              "    </tr>\n",
              "  </thead>\n",
              "  <tbody>\n",
              "    <tr>\n",
              "      <th>0</th>\n",
              "      <td>170</td>\n",
              "      <td>90</td>\n",
              "      <td>junior</td>\n",
              "      <td>1.0</td>\n",
              "      <td>0.0</td>\n",
              "      <td>0.0</td>\n",
              "    </tr>\n",
              "    <tr>\n",
              "      <th>1</th>\n",
              "      <td>168</td>\n",
              "      <td>55</td>\n",
              "      <td>pleno</td>\n",
              "      <td>0.0</td>\n",
              "      <td>1.0</td>\n",
              "      <td>0.0</td>\n",
              "    </tr>\n",
              "    <tr>\n",
              "      <th>2</th>\n",
              "      <td>173</td>\n",
              "      <td>84</td>\n",
              "      <td>junior</td>\n",
              "      <td>1.0</td>\n",
              "      <td>0.0</td>\n",
              "      <td>0.0</td>\n",
              "    </tr>\n",
              "    <tr>\n",
              "      <th>3</th>\n",
              "      <td>189</td>\n",
              "      <td>98</td>\n",
              "      <td>senior</td>\n",
              "      <td>0.0</td>\n",
              "      <td>0.0</td>\n",
              "      <td>1.0</td>\n",
              "    </tr>\n",
              "  </tbody>\n",
              "</table>\n",
              "</div>"
            ],
            "text/plain": [
              "  altura (cm) massa (kg) qualificacao  qualificacao0  qualificacao1  \\\n",
              "0         170         90       junior            1.0            0.0   \n",
              "1         168         55        pleno            0.0            1.0   \n",
              "2         173         84       junior            1.0            0.0   \n",
              "3         189         98       senior            0.0            0.0   \n",
              "\n",
              "   qualificacao2  \n",
              "0            0.0  \n",
              "1            0.0  \n",
              "2            0.0  \n",
              "3            1.0  "
            ]
          },
          "execution_count": 55,
          "metadata": {},
          "output_type": "execute_result"
        }
      ],
      "source": [
        "#transforma o o np.arry em um dataframe\n",
        "ponte_ohe = pd.DataFrame(ponte_ohe,columns=[\"qualificacao\"+str(int(i)) for i in range(df.shape[1])])\n",
        "\n",
        "#adiciona as novas colunas ao dataframe original\n",
        "df = pd.concat([df,ponte_ohe], axis=1)\n",
        "\n",
        "df.head()"
      ]
    },
    {
      "cell_type": "code",
      "execution_count": 56,
      "metadata": {
        "id": "A85xQdivVa0f",
        "outputId": "8f3c2166-f9c1-4ba7-e53d-d633e2ee6593"
      },
      "outputs": [
        {
          "data": {
            "text/html": [
              "<div>\n",
              "<style scoped>\n",
              "    .dataframe tbody tr th:only-of-type {\n",
              "        vertical-align: middle;\n",
              "    }\n",
              "\n",
              "    .dataframe tbody tr th {\n",
              "        vertical-align: top;\n",
              "    }\n",
              "\n",
              "    .dataframe thead th {\n",
              "        text-align: right;\n",
              "    }\n",
              "</style>\n",
              "<table border=\"1\" class=\"dataframe\">\n",
              "  <thead>\n",
              "    <tr style=\"text-align: right;\">\n",
              "      <th></th>\n",
              "      <th>altura (cm)</th>\n",
              "      <th>massa (kg)</th>\n",
              "      <th>qualificacao0</th>\n",
              "      <th>qualificacao1</th>\n",
              "      <th>qualificacao2</th>\n",
              "    </tr>\n",
              "  </thead>\n",
              "  <tbody>\n",
              "    <tr>\n",
              "      <th>0</th>\n",
              "      <td>170</td>\n",
              "      <td>90</td>\n",
              "      <td>1.0</td>\n",
              "      <td>0.0</td>\n",
              "      <td>0.0</td>\n",
              "    </tr>\n",
              "    <tr>\n",
              "      <th>1</th>\n",
              "      <td>168</td>\n",
              "      <td>55</td>\n",
              "      <td>0.0</td>\n",
              "      <td>1.0</td>\n",
              "      <td>0.0</td>\n",
              "    </tr>\n",
              "    <tr>\n",
              "      <th>2</th>\n",
              "      <td>173</td>\n",
              "      <td>84</td>\n",
              "      <td>1.0</td>\n",
              "      <td>0.0</td>\n",
              "      <td>0.0</td>\n",
              "    </tr>\n",
              "    <tr>\n",
              "      <th>3</th>\n",
              "      <td>189</td>\n",
              "      <td>98</td>\n",
              "      <td>0.0</td>\n",
              "      <td>0.0</td>\n",
              "      <td>1.0</td>\n",
              "    </tr>\n",
              "  </tbody>\n",
              "</table>\n",
              "</div>"
            ],
            "text/plain": [
              "  altura (cm) massa (kg)  qualificacao0  qualificacao1  qualificacao2\n",
              "0         170         90            1.0            0.0            0.0\n",
              "1         168         55            0.0            1.0            0.0\n",
              "2         173         84            1.0            0.0            0.0\n",
              "3         189         98            0.0            0.0            1.0"
            ]
          },
          "execution_count": 56,
          "metadata": {},
          "output_type": "execute_result"
        }
      ],
      "source": [
        "# faz o drop da coluna original qualificacao\n",
        "\n",
        "df = df.drop([\"qualificacao\"], axis=1)\n",
        "\n",
        "df.head()"
      ]
    },
    {
      "cell_type": "markdown",
      "metadata": {
        "id": "jjLgardgVa0g"
      },
      "source": [
        "Note que agora temos a adição de 3 novas colunas, onde cada uma corresponde a uma classificação do atributo (\"junior\", \"pleno\", \"senior\")"
      ]
    },
    {
      "cell_type": "markdown",
      "metadata": {
        "id": "otq61v2pVa0g"
      },
      "source": [
        "## Desafio 2\n",
        "\n",
        "Vamos avaliar o efeito de transformação de variavel no treinamento de um dataset, para isso:\n",
        "\n",
        "Treine e avalie `duas vezes` o classificador kNN para o dataset Wine. \n",
        "\n",
        "Considere o sequinte:\n",
        "\n",
        "```python\n",
        "X = wine_data.drop(['quality'], axis=1)\n",
        "y = wine_data['quality'] #Variavel para ser predita\n",
        "\n",
        "```\n",
        "\n",
        "\n",
        "Compare o efeito da normalização na avaliação do classificador. Use k = 5."
      ]
    },
    {
      "cell_type": "code",
      "execution_count": 5,
      "metadata": {
        "id": "CGNHUkQsjw0K"
      },
      "outputs": [],
      "source": [
        "##### seu código aqui........\n",
        "\n"
      ]
    },
    {
      "cell_type": "markdown",
      "metadata": {
        "id": "5YVLPqtuVa0h"
      },
      "source": [
        "## Redução de dimensionalidade \n",
        "\n",
        "- Para o bom desempenho da tarefa de classificação é importante um conjunto suficientemente grande de atributos.\n",
        "  - Em muitos casos, especialmente quando se trabalha diretamente com os pixels das imagens, a informação necessária para a classificação de padrões está espalhada por praticamente todos os atributos\n",
        "- No entanto, um número muito grande de atributos atrapalha o desempenho dos classificadores, num efeito conhecido como a **maldição da dimensionalidade**, **curse of dimensionality**.\n",
        "- Frequentemente um número grande de atributos está associado à redundância da informação, ou seja, os valores dos tributos estão fortemente ligados entre si.\n",
        "  - Por exemplo, nas imagens de dígitos, pixels próximos tendem a ter tonalidades semelhantes\n",
        "- Uma saída para aproveitar a maior parte da informação espalhada pelos atributos é encontrar uma transformação dos dados que use atributos o tão independentes quanto possível.\n",
        "  - Dessa forma, alguns atributos terão mais relevância do que outros, pois ao desfazer a interdependência, conseguimos “separar” a informação relevante da informação redundante\n"
      ]
    },
    {
      "cell_type": "markdown",
      "metadata": {
        "id": "gbwE9GCnVa0i"
      },
      "source": [
        "### PCA : Principal Component Analysis\n",
        "(Análise de Componentes Principais)"
      ]
    },
    {
      "cell_type": "markdown",
      "metadata": {
        "id": "i1j8Z2nHVa0i"
      },
      "source": [
        "  * O PCA é uma transformação linear, ou seja, multiplica os vetores de\n",
        "atributos de entradas de **N** posições por uma matriz com **M**x**N**, com **M** ≤ **N**, resultando em um novo vetor de **N** dimensões\n",
        "\n",
        "  * O elemento que se destaca é a da variância\n",
        "\n",
        "  * Essa transformação é obtida por meio dos vetores de treinamento. A redução na dimensionalidade é controlada pelo parâmetro que define a\n",
        "porcentagem de variabilidade que será mantida nos novos dados\n",
        "\n",
        "  * No Python, fazemos:"
      ]
    },
    {
      "cell_type": "code",
      "execution_count": 57,
      "metadata": {
        "id": "BnFMin28Va0j",
        "outputId": "dd4290e4-087c-48b2-9032-bca8e93f5e50"
      },
      "outputs": [
        {
          "name": "stdout",
          "output_type": "stream",
          "text": [
            "[[ -5.81469106]\n",
            " [ 27.45356145]\n",
            " [ -1.35358402]\n",
            " [-20.28528637]]\n",
            "shape original:  (4, 5) shape PCA:  (4, 1)\n"
          ]
        }
      ],
      "source": [
        "from sklearn.decomposition import PCA\n",
        "\n",
        "medidas_pca = PCA(0.5).fit_transform(df) # Mantem 50% de variabilidade\n",
        "print(medidas_pca)\n",
        "\n",
        "print(\"shape original: \" , df.shape, \"shape PCA: \" ,  medidas_pca.shape)\n",
        "\n"
      ]
    },
    {
      "cell_type": "markdown",
      "metadata": {
        "id": "JkXzwU33Va0k"
      },
      "source": [
        "  * Cada linha nessa matriz corresponde a uma vetor com **N** dimensões, com um significado especial, denominado de auto-vetor\n",
        "  * No caso dos vetores serem imagens, essas “auto-imagens” guardam características que serão usadas para identificar as imagens de teste"
      ]
    },
    {
      "cell_type": "code",
      "execution_count": 61,
      "metadata": {
        "id": "11FwVHosVa0k",
        "outputId": "a284fc87-7462-42af-8cf0-9977672e8531"
      },
      "outputs": [
        {
          "name": "stdout",
          "output_type": "stream",
          "text": [
            "Collecting python-mnist\n",
            "  Downloading python_mnist-0.7-py2.py3-none-any.whl.metadata (3.5 kB)\n",
            "Downloading python_mnist-0.7-py2.py3-none-any.whl (9.6 kB)\n",
            "Installing collected packages: python-mnist\n",
            "Successfully installed python-mnist-0.7\n",
            "\n",
            "\u001b[1m[\u001b[0m\u001b[34;49mnotice\u001b[0m\u001b[1;39;49m]\u001b[0m\u001b[39;49m A new release of pip is available: \u001b[0m\u001b[31;49m23.3.1\u001b[0m\u001b[39;49m -> \u001b[0m\u001b[32;49m24.0\u001b[0m\n",
            "\u001b[1m[\u001b[0m\u001b[34;49mnotice\u001b[0m\u001b[1;39;49m]\u001b[0m\u001b[39;49m To update, run: \u001b[0m\u001b[32;49m/Library/Developer/CommandLineTools/usr/bin/python3 -m pip install --upgrade pip\u001b[0m\n",
            "Defaulting to user installation because normal site-packages is not writeable\n",
            "Requirement already satisfied: wget in /Users/arnaldoalvesvianajunior/Library/Python/3.9/lib/python/site-packages (3.2)\n",
            "\n",
            "\u001b[1m[\u001b[0m\u001b[34;49mnotice\u001b[0m\u001b[1;39;49m]\u001b[0m\u001b[39;49m A new release of pip is available: \u001b[0m\u001b[31;49m23.3.1\u001b[0m\u001b[39;49m -> \u001b[0m\u001b[32;49m24.0\u001b[0m\n",
            "\u001b[1m[\u001b[0m\u001b[34;49mnotice\u001b[0m\u001b[1;39;49m]\u001b[0m\u001b[39;49m To update, run: \u001b[0m\u001b[32;49m/Library/Developer/CommandLineTools/usr/bin/python3 -m pip install --upgrade pip\u001b[0m\n"
          ]
        },
        {
          "data": {
            "text/plain": [
              "'t10k-labels-idx1-ubyte (1).gz'"
            ]
          },
          "execution_count": 61,
          "metadata": {},
          "output_type": "execute_result"
        }
      ],
      "source": [
        "#Instale os pacotes e faça o download dos arquivos, se ja estiver na pasta não precisa rodar essa celula.\n",
        "\n",
        "# se `pip3` não funcionar, tente apenas `pip`\n",
        "!pip3 install --user python-mnist\n",
        "!pip3 install wget\n",
        "\n",
        "\n",
        "import wget\n",
        "wget.download('http://yann.lecun.com/exdb/mnist/train-images-idx3-ubyte.gz')\n",
        "wget.download('http://yann.lecun.com/exdb/mnist/train-labels-idx1-ubyte.gz')\n",
        "wget.download('http://yann.lecun.com/exdb/mnist/t10k-images-idx3-ubyte.gz')\n",
        "wget.download('http://yann.lecun.com/exdb/mnist/t10k-labels-idx1-ubyte.gz')"
      ]
    },
    {
      "cell_type": "markdown",
      "metadata": {
        "id": "WJaS689jVa0o"
      },
      "source": [
        "## 1 - Gera a matriz de dados de entradas e o vetor de classes alvo para treinamento\n",
        "\n",
        "Cada linha da matriz de entradas (atributos) contém os pixels da  imagem.\n",
        "\n",
        "Cada posição do array de rótulos (labels) contém a classe alvo da imgem.\n",
        "\n",
        "No caso deste dataset, as imagens de trenamento e de teste já estão separadas, e vamos adotar a separação sugerida pelo autor da base de dados."
      ]
    },
    {
      "cell_type": "code",
      "execution_count": 62,
      "metadata": {
        "id": "LJG7NHwNVa0p",
        "outputId": "37ca70c9-a57b-4e1c-82b3-c727d9b814d6"
      },
      "outputs": [
        {
          "name": "stdout",
          "output_type": "stream",
          "text": [
            "Tempo para carregamento das imagens: 4.33591890335083s\n",
            "Dimensões da matriz dos dados de treinamento:  (60000, 784)\n",
            "Dimensões da matriz dos dados de teste:  (10000, 784)\n"
          ]
        }
      ],
      "source": [
        "import time\n",
        "import numpy as np\n",
        "# API MNIST\n",
        "from mnist import MNIST\n",
        "\n",
        "t0 = time.time()\n",
        "\n",
        "# Importa os dados do dieretório local\n",
        "mndata = MNIST('.')\n",
        "# Habilita abrir arquivos compactados\n",
        "mndata.gz = True \n",
        "\n",
        "# Carrega os dados de treinamento\n",
        "entradas_treino, classes_treino = mndata.load_training()\n",
        "# Carrega os dados de treinamento\n",
        "entradas_teste, classes_teste = mndata.load_testing()\n",
        "\n",
        "#Transformando em array do numpy\n",
        "entradas_treino = np.array(entradas_treino)\n",
        "classes_treino = np.array(classes_treino)\n",
        "entradas_teste = np.array(entradas_teste)\n",
        "classes_teste = np.array(classes_teste)\n",
        "\n",
        "dados_reduzidos = False\n",
        "\n",
        "print(\"Tempo para carregamento das imagens: {}s\".format(time.time()-t0))\n",
        "\n",
        "print(\"Dimensões da matriz dos dados de treinamento: \", entradas_treino.shape)\n",
        "print(\"Dimensões da matriz dos dados de teste: \", entradas_teste.shape)\n"
      ]
    },
    {
      "cell_type": "markdown",
      "metadata": {
        "id": "8moEx1bDVa0q"
      },
      "source": [
        "### 1.1 Visualizção de uma imagem\n",
        "\n",
        "Neste dataset cada imagem está armazenada como uma linha da matriz de entrada.\n",
        "Para visualizar a imagem que está na linha `i` da matriz, temos que convertê-la novamente em uma matriz quadrada, e usar a biblioteca `matplotlib`"
      ]
    },
    {
      "cell_type": "code",
      "execution_count": 63,
      "metadata": {
        "id": "mH_vhfjUVa0r",
        "outputId": "4866872f-cb04-4f39-e421-15e7a862cec8"
      },
      "outputs": [
        {
          "data": {
            "image/png": "[encoded data removed]",
            "text/plain": [
              "<Figure size 640x480 with 1 Axes>"
            ]
          },
          "metadata": {},
          "output_type": "display_data"
        }
      ],
      "source": [
        "# Função que visualiza a linha lin da matriz\n",
        "import matplotlib.pyplot as plt\n",
        "import math\n",
        "def visualiza_linha_mnist(matriz, lin):\n",
        "  size = int(math.sqrt(matriz.shape[1]))\n",
        "  img = np.reshape(matriz[lin], (size, size))\n",
        "  plt.imshow(img, cmap=\"gray\")\n",
        "  \n",
        "# Visualização da linha 0\n",
        "visualiza_linha_mnist(entradas_treino, 0)\n",
        "plt.show()"
      ]
    },
    {
      "cell_type": "markdown",
      "metadata": {
        "id": "74Dab24XVa0s"
      },
      "source": [
        "## 2 - Faz a normalização e a redução da dimensionalidade com PCA\n",
        "\n",
        "Instancia o modelo PCA de forma que 85% da variabilidade de dados seja mantida.\n",
        "O método `fit_transform(X)` treina o PCA e já traz os dados `X` transformados.\n",
        "Para reaproveitar o mesmo modelo PCA sem treiná-o novamente, usamos `transform()`.\n",
        "\n",
        "Uma vez que os dados de treinamento e teste já estão separados,treinamos o normalizador e o PCA com os dados de treinamento, e apenas aplicamos a transformação nos dados de teste."
      ]
    },
    {
      "cell_type": "code",
      "execution_count": 64,
      "metadata": {
        "id": "RzY9BgY_Va0t",
        "outputId": "95bda2f0-b565-4db1-e26a-53cfa7751680"
      },
      "outputs": [
        {
          "name": "stdout",
          "output_type": "stream",
          "text": [
            "Tempo para o processamento (normalização + PCA) das imagens: 8.599159002304077s\n",
            "Novas dimensoes das matrizes de dados e classes (labels) de treinamento\n",
            "(60000, 185) (10000, 185)\n"
          ]
        }
      ],
      "source": [
        "from sklearn.preprocessing import StandardScaler\n",
        "# PCA\n",
        "from sklearn.decomposition import PCA\n",
        "\n",
        "t0 = time.time()\n",
        "\n",
        "normalizador = StandardScaler()\n",
        "redutor_dim = PCA(0.85)   # 85% de variabilidade\n",
        "\n",
        "entradas_treino_norm = normalizador.fit_transform(entradas_treino)\n",
        "entradas_treino_norm = redutor_dim.fit_transform(entradas_treino_norm)\n",
        "\n",
        "entradas_teste_norm = normalizador.transform(entradas_teste)\n",
        "entradas_teste_norm = redutor_dim.transform(entradas_teste_norm)\n",
        "\n",
        "print(\"Tempo para o processamento (normalização + PCA) das imagens: {}s\".format(time.time()-t0))\n",
        "print(\"Novas dimensoes das matrizes de dados e classes (labels) de treinamento\")\n",
        "print(entradas_treino_norm.shape, entradas_teste_norm.shape)"
      ]
    },
    {
      "cell_type": "code",
      "execution_count": 65,
      "metadata": {
        "id": "X2rwUkHEVa0u",
        "outputId": "2723b338-ca9f-4706-c01c-7a45d690891d"
      },
      "outputs": [
        {
          "name": "stdout",
          "output_type": "stream",
          "text": [
            "Dimensões da matriz dos dados de treinamento:  (60000, 784)\n",
            "Dimensões da matriz dos dados de teste:  (10000, 784)\n",
            "784\n"
          ]
        }
      ],
      "source": [
        "print(\"Dimensões da matriz dos dados de treinamento: \", entradas_treino.shape)\n",
        "print(\"Dimensões da matriz dos dados de teste: \", entradas_teste.shape)\n",
        "print(28*28)\n"
      ]
    },
    {
      "cell_type": "code",
      "execution_count": 66,
      "metadata": {
        "id": "ixBZiafoVa0v",
        "outputId": "ce727c68-aa64-48a6-b123-dbc44bd48376"
      },
      "outputs": [
        {
          "name": "stdout",
          "output_type": "stream",
          "text": [
            "60000 60000\n",
            "taxa de variancia explicada:  185 [0.05646717 0.04078272 0.0373938  0.02885115 0.02521109 0.0219427\n",
            " 0.01923344 0.01745799 0.01535092 0.0140172  0.01341743 0.01203742\n",
            " 0.0111457  0.01089924 0.01028649 0.00994487 0.00936383 0.00921046\n",
            " 0.00893437 0.00869913 0.00827363 0.00803417 0.00764846 0.00741772\n",
            " 0.00715293 0.00691847 0.00684136 0.00656675 0.00631677 0.0061292\n",
            " 0.00596255 0.00587716 0.00571592 0.00562307 0.00554682 0.00538418\n",
            " 0.00531182 0.00519606 0.00508211 0.00480006 0.00476456 0.00469139\n",
            " 0.00454349 0.00451346 0.00446963 0.00443383 0.00438215 0.00430382\n",
            " 0.00426878 0.00423647 0.00404696 0.00399447 0.00397456 0.00393821\n",
            " 0.00385814 0.00379043 0.00375403 0.00370776 0.00364944 0.00359301\n",
            " 0.00352382 0.00347794 0.00344411 0.00339868 0.00335955 0.00334886\n",
            " 0.00331864 0.00323026 0.00316277 0.00313244 0.00310731 0.00307243\n",
            " 0.00304914 0.00302717 0.00299485 0.00297761 0.00295052 0.00290438\n",
            " 0.00286856 0.00285678 0.00283398 0.00282627 0.00279551 0.00279305\n",
            " 0.00278519 0.00277455 0.00275901 0.00274227 0.00271411 0.00269263\n",
            " 0.00266484 0.00263581 0.00262962 0.00261034 0.00258827 0.00256176\n",
            " 0.00253846 0.00250447 0.00247829 0.00245034 0.00242347 0.00242064\n",
            " 0.00238875 0.00237455 0.00235608 0.00233053 0.0022798  0.00226174\n",
            " 0.00222832 0.00222442 0.00218169 0.00217257 0.00214277 0.00211938\n",
            " 0.00210972 0.0020733  0.00204761 0.00204368 0.00202409 0.00200462\n",
            " 0.00198822 0.00195216 0.00193737 0.00192103 0.00191716 0.00189802\n",
            " 0.00187089 0.00186536 0.0018132  0.00180005 0.00179194 0.00178973\n",
            " 0.0017695  0.00176158 0.00174797 0.00172985 0.00172017 0.00168727\n",
            " 0.00168517 0.00166842 0.00164718 0.00164575 0.00164294 0.00161486\n",
            " 0.0016049  0.00158912 0.0015749  0.00155918 0.00155638 0.00154666\n",
            " 0.00154043 0.00151605 0.00150272 0.00148761 0.00147505 0.0014682\n",
            " 0.00145803 0.00145568 0.00144737 0.00142895 0.00141058 0.00139939\n",
            " 0.00139709 0.00139533 0.00139355 0.00139225 0.00138773 0.0013834\n",
            " 0.00137816 0.00136845 0.00136165 0.00135822 0.00133701 0.00132905\n",
            " 0.00131059 0.00130293 0.00129324 0.00128241 0.00127407 0.00126822\n",
            " 0.00125322 0.00124045 0.00122984 0.00121618 0.00121506]\n",
            "valores de cada um dos componentes:  185 [1558.59475775 1324.56506425 1268.33806904 1114.08096949 1041.4321537\n",
            "  971.58372712  909.62781125  866.6272717   812.64796157  776.54347762\n",
            "  759.74854205  719.61780297  692.45059052  684.75186297  665.2254475\n",
            "  654.08571283  634.6905444   629.47108378  619.96491977  611.74864821\n",
            "  596.60000904  587.90318277  573.61706238  564.89867585  554.72424844\n",
            "  545.55706108  542.50833328  531.50859803  521.29389656  513.4959735\n",
            "  506.46720335  502.82760665  495.88178934  491.83803286  488.4917578\n",
            "  481.27703518  478.03201127  472.79417281  467.58152416  454.42094643\n",
            "  452.73755506  449.24798572  442.10962544  440.64606814  438.50160223\n",
            "  436.74183847  434.18923818  430.29086602  428.53573113  426.91093544\n",
            "  417.25324612  414.53862665  413.50407786  411.60868344  407.40275713\n",
            "  403.81203369  401.86842781  399.38423688  396.23108492  393.15532131\n",
            "  389.35177902  386.80851333  384.92303762  382.37581508  380.16791664\n",
            "  379.56282447  377.84621102  372.78112287  368.86630886  367.09355234\n",
            "  365.61819099  363.56002954  362.17963536  360.87245819  358.94092281\n",
            "  357.90621176  356.27402823  353.47770091  351.29123623  350.56891845\n",
            "  349.16718716  348.69212323  346.78936634  346.6369362   346.14874915\n",
            "  345.48710725  344.51781742  343.47138797  341.70285667  340.34823393\n",
            "  338.58759852  336.73828279  336.34220011  335.10707121  333.68749917\n",
            "  331.97454025  330.46102411  328.24139239  326.52136861  324.67435089\n",
            "  322.88936082  322.70086024  320.56858096  319.61385191  318.36887157\n",
            "  316.63780238  313.1725175   311.92971598  309.61609571  309.34544735\n",
            "  306.360028    305.71862309  303.61468514  301.95298194  301.26427292\n",
            "  298.6527374   296.79663011  296.51171699  295.08666108  293.66447678\n",
            "  292.46061956  289.79603176  288.69671405  287.47662373  287.18664393\n",
            "  285.74965273  283.70035923  283.28015727  279.29169961  278.27731866\n",
            "  277.64955632  277.47843311  275.90592833  275.28720761  274.22175433\n",
            "  272.7966822   272.03227791  269.41865042  269.25082545  267.90897203\n",
            "  266.19893845  266.08295896  265.85540571  263.57386832  262.7601788\n",
            "  261.46521492  260.29213116  258.9899899   258.75750421  257.94798876\n",
            "  257.42815671  255.38269599  254.25740548  252.97587879  251.90640352\n",
            "  251.32057934  250.44831234  250.24628968  249.53113324  247.93848294\n",
            "  246.33934447  245.36012105  245.15894614  245.00431129  244.84794458\n",
            "  244.73387616  244.33626317  243.95435627  243.49224383  242.63262475\n",
            "  242.0297457   241.72463554  239.82975985  239.11486781  237.44845681\n",
            "  236.75327822  235.87142391  234.8811359   234.11618726  233.57844421\n",
            "  232.19261652  231.00662861  230.01633731  228.73575127  228.63068847]\n"
          ]
        }
      ],
      "source": [
        "##Avaliação PCA\n",
        "\n",
        "print (len(entradas_treino_norm), len(entradas_treino_norm))\n",
        "\n",
        "print (\"taxa de variancia explicada: \" , len(redutor_dim.explained_variance_ratio_), redutor_dim.explained_variance_ratio_)\n",
        "print (\"valores de cada um dos componentes: \", len(redutor_dim.singular_values_), redutor_dim.singular_values_)"
      ]
    },
    {
      "cell_type": "markdown",
      "metadata": {
        "id": "VzSkdOnDVa0w"
      },
      "source": [
        "### 2.1 - Visualização das 16 primairas imagens principais \n",
        "\n",
        "O PCA neste caso transforma um array (entrada ou linha da matriz) composta por um conjunto de pixels em um outro array que indica a composição da imagem em termos de \"imagens principais\""
      ]
    },
    {
      "cell_type": "code",
      "execution_count": 67,
      "metadata": {
        "id": "LNSVtYgkVa0x",
        "outputId": "2d684ed2-9b4f-4c95-ed06-60dd15896cf9"
      },
      "outputs": [
        {
          "data": {
            "image/png": "[encoded data removed]",
            "text/plain": [
              "<Figure size 1000x1000 with 16 Axes>"
            ]
          },
          "metadata": {},
          "output_type": "display_data"
        }
      ],
      "source": [
        "plt.figure(figsize=(10,10))\n",
        "plt.subplot(4,4,1)\n",
        "for i in range(4):\n",
        "  for j in range(4):\n",
        "    plt.subplot(4,4,i*4+j+1)\n",
        "    visualiza_linha_mnist(redutor_dim.components_, i*4 + j)\n",
        "plt.show()"
      ]
    },
    {
      "cell_type": "markdown",
      "metadata": {
        "id": "TPrbWtxfVa0y"
      },
      "source": [
        "## Desafio 3\n",
        "\n",
        "Agora é com você termine a implementaçao deste classificador de digitos usando o KNN. Usar as novas matrizes no treinamento, teste e avaliação do classificador "
      ]
    },
    {
      "cell_type": "code",
      "execution_count": 70,
      "metadata": {
        "id": "7g4tlfavVa0z"
      },
      "outputs": [],
      "source": [
        "## Seu código aqui.....\n",
        "\n",
        "\n",
        "\n",
        "\n",
        "\n"
      ]
    }
  ],
  "metadata": {
    "colab": {
      "include_colab_link": true,
      "provenance": []
    },
    "kernelspec": {
      "display_name": "Python 3.9.5 64-bit",
      "language": "python",
      "name": "python3"
    },
    "language_info": {
      "codemirror_mode": {
        "name": "ipython",
        "version": 3
      },
      "file_extension": ".py",
      "mimetype": "text/x-python",
      "name": "python",
      "nbconvert_exporter": "python",
      "pygments_lexer": "ipython3",
      "version": "3.9.6"
    },
    "vscode": {
      "interpreter": {
        "hash": "8d68938bd6f1c8d824a292cb48fdc812f23ce0d2e12c844cec6ac89d2f668725"
      }
    }
  },
  "nbformat": 4,
  "nbformat_minor": 0
}
