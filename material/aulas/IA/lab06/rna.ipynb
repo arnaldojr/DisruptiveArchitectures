{
  "cells": [
    {
      "cell_type": "markdown",
      "metadata": {
        "id": "view-in-github",
        "colab_type": "text"
      },
      "source": [
        "<a href=\"https://colab.research.google.com/github/arnaldojr/DisruptiveArchitectures/blob/master/material/aulas/lab06/rna.ipynb\" target=\"_parent\"><img src=\"https://colab.research.google.com/assets/colab-badge.svg\" alt=\"Open In Colab\"/></a>"
      ]
    },
    {
      "cell_type": "markdown",
      "id": "957eaab3",
      "metadata": {
        "id": "957eaab3"
      },
      "source": [
        "## 2. Aprendizagem de máquina\n",
        "\n",
        "### Objetivos\n",
        "\n",
        "  - Conhecer uma intuição sobre Redes Neurais Artificiais RNA\n",
        "  - Praticar os algoritmos Perceptron e multilayer Perceptron (MLP)\n",
        "  "
      ]
    },
    {
      "cell_type": "markdown",
      "id": "820138a3",
      "metadata": {
        "id": "820138a3"
      },
      "source": [
        "## Redes Neurais Artificiais\n",
        "\n",
        "As redes neurais são modelos computacionais inspirados pelo sistema nervoso de um animal capazes de realizar o aprendizado de máquina bem como o reconhecimento de padrões.\n",
        "\n",
        "Tais modelos são muitas vezes utilizados para a tarefa de classificação de padrões, podendo gerar classificadores com características variadas.  \n",
        "\n",
        "As redes neurais artificiais possuem em comum o fato de serem constituídas por neurônios que se conectam entre si através de através de sinapses. A rede neural mais conhecida são as baseadas em Perceptron multicamada (MLP) embora existam outras redes como rede de Kohonem, as redes de base radial e a rede de Hopfield.\n",
        " \n",
        "\n"
      ]
    },
    {
      "cell_type": "markdown",
      "id": "2a3e4090",
      "metadata": {
        "id": "2a3e4090"
      },
      "source": [
        "<img src=\"https://github.com/arnaldojr/DisruptiveArchitectures/blob/master/material/aulas/lab06/Complete_neuron_cell_diagram_en.svg?raw=1\">"
      ]
    },
    {
      "cell_type": "markdown",
      "id": "7c64a9e9",
      "metadata": {
        "id": "7c64a9e9"
      },
      "source": [
        "### Os principais componentes dos neurônios são:\n",
        "\n",
        "   - Os `dendritos`, que têm por função receber os estímulos transmitidos pelos outros neurônios;\n",
        "   - O `corpo` de neurônio, também chamado de soma, que é responsável por coletar e combinar informações vindas de outros neurônios;\n",
        "   - O `axônio`, que é constituído de uma fibra tubular que pode alcançar até alguns metros, e é responsável por transmitir os estímulos para outras células."
      ]
    },
    {
      "cell_type": "markdown",
      "id": "c131ead0",
      "metadata": {
        "id": "c131ead0"
      },
      "source": [
        "## Perceptron\n",
        "\n",
        "\n",
        "O classificador Perceptron foi o primeiro classificador baseado em redes neurais que empregou uma regra de aprendizado capaz de garantir a correta separação de classes linearmente separáveis.\n",
        "\n",
        "No início do treinamento, os pesos dos neurônios recebem valores aleatórios. Então, para cada amostra de treinamento com erro de classificação, os pesos dos neurônios são ajustados de modo a tentar corrigir a classe.\n",
        "\n",
        "Após o treinamento, cada neurônio na camada de saída testa a pertinência da amostra a uma classe. No caso de mais de um neurônio fornecer resposta positiva a amostra, a classe correspondente ao neurônio de maior resposta vence.\n",
        "\n",
        "\n",
        "<img src=\"https://github.com/arnaldojr/DisruptiveArchitectures/blob/master/material/aulas/lab06/img18.gif?raw=1\">"
      ]
    },
    {
      "cell_type": "markdown",
      "id": "86e7cc96",
      "metadata": {
        "id": "86e7cc96"
      },
      "source": [
        "A rede Perceptron possui um algoritmo de aprendizado supervisionado que consegue definir um classificador que encontra a superfície de separação entre quaisquer duas classes linearmente separáveis\n"
      ]
    },
    {
      "cell_type": "code",
      "execution_count": 1,
      "id": "f8591697",
      "metadata": {
        "id": "f8591697"
      },
      "outputs": [],
      "source": [
        "import pandas as pd\n",
        "\n",
        "\n",
        "url = \"https://archive.ics.uci.edu/ml/machine-learning-databases/iris/iris.data\"\n",
        "header = ['sepal_length', 'sepal_width', 'petal_length', 'petal_width', 'species']\n",
        "df = pd.read_csv(url, header=None, names=header)"
      ]
    },
    {
      "cell_type": "code",
      "execution_count": 2,
      "id": "13f82b3b",
      "metadata": {
        "id": "13f82b3b",
        "outputId": "b202d489-379d-47ad-d4a4-74a7384a7b8e",
        "colab": {
          "base_uri": "https://localhost:8080/"
        }
      },
      "outputs": [
        {
          "output_type": "stream",
          "name": "stdout",
          "text": [
            "Formato das tabelas de dados (150, 2) e classes (150,)\n"
          ]
        }
      ],
      "source": [
        "# Selecionando um sub-dataframe com os campos petal_length e petal_width, \n",
        "# e outro com a variável de classes\n",
        "entradas = df[['petal_length', 'petal_width']]\n",
        "classes = df['species']\n",
        "print(f\"Formato das tabelas de dados {entradas.shape} e classes {classes.shape}\")"
      ]
    },
    {
      "cell_type": "code",
      "execution_count": 3,
      "id": "49cc3851",
      "metadata": {
        "id": "49cc3851",
        "outputId": "db56d287-970c-4951-82e2-2592a29f278e",
        "colab": {
          "base_uri": "https://localhost:8080/"
        }
      },
      "outputs": [
        {
          "output_type": "stream",
          "name": "stdout",
          "text": [
            "Formato das tabelas de dados de treino (120, 2) e teste (30, 2)\n"
          ]
        }
      ],
      "source": [
        "# Separamos 20 % para o teste\n",
        "from sklearn.model_selection import train_test_split\n",
        "entradas_treino, entradas_teste, classes_treino, classes_teste = train_test_split(entradas, classes, test_size=0.2)\n",
        "print(f\"Formato das tabelas de dados de treino {entradas_treino.shape} e teste {entradas_teste.shape}\")"
      ]
    },
    {
      "cell_type": "markdown",
      "id": "84305869",
      "metadata": {
        "id": "84305869"
      },
      "source": [
        "### Instanciar o classificador e treiná-lo com as amostras de treinamento\n",
        "\n",
        "https://scikit-learn.org/stable/modules/generated/sklearn.linear_model.Perceptron.html"
      ]
    },
    {
      "cell_type": "code",
      "execution_count": 4,
      "id": "57c2b0a6",
      "metadata": {
        "id": "57c2b0a6",
        "outputId": "881c68fb-4a91-4454-f489-31bc96480b91",
        "colab": {
          "base_uri": "https://localhost:8080/",
          "height": 75
        }
      },
      "outputs": [
        {
          "output_type": "execute_result",
          "data": {
            "text/plain": [
              "Perceptron(tol=1.7)"
            ],
            "text/html": [
              "<style>#sk-container-id-1 {color: black;background-color: white;}#sk-container-id-1 pre{padding: 0;}#sk-container-id-1 div.sk-toggleable {background-color: white;}#sk-container-id-1 label.sk-toggleable__label {cursor: pointer;display: block;width: 100%;margin-bottom: 0;padding: 0.3em;box-sizing: border-box;text-align: center;}#sk-container-id-1 label.sk-toggleable__label-arrow:before {content: \"▸\";float: left;margin-right: 0.25em;color: #696969;}#sk-container-id-1 label.sk-toggleable__label-arrow:hover:before {color: black;}#sk-container-id-1 div.sk-estimator:hover label.sk-toggleable__label-arrow:before {color: black;}#sk-container-id-1 div.sk-toggleable__content {max-height: 0;max-width: 0;overflow: hidden;text-align: left;background-color: #f0f8ff;}#sk-container-id-1 div.sk-toggleable__content pre {margin: 0.2em;color: black;border-radius: 0.25em;background-color: #f0f8ff;}#sk-container-id-1 input.sk-toggleable__control:checked~div.sk-toggleable__content {max-height: 200px;max-width: 100%;overflow: auto;}#sk-container-id-1 input.sk-toggleable__control:checked~label.sk-toggleable__label-arrow:before {content: \"▾\";}#sk-container-id-1 div.sk-estimator input.sk-toggleable__control:checked~label.sk-toggleable__label {background-color: #d4ebff;}#sk-container-id-1 div.sk-label input.sk-toggleable__control:checked~label.sk-toggleable__label {background-color: #d4ebff;}#sk-container-id-1 input.sk-hidden--visually {border: 0;clip: rect(1px 1px 1px 1px);clip: rect(1px, 1px, 1px, 1px);height: 1px;margin: -1px;overflow: hidden;padding: 0;position: absolute;width: 1px;}#sk-container-id-1 div.sk-estimator {font-family: monospace;background-color: #f0f8ff;border: 1px dotted black;border-radius: 0.25em;box-sizing: border-box;margin-bottom: 0.5em;}#sk-container-id-1 div.sk-estimator:hover {background-color: #d4ebff;}#sk-container-id-1 div.sk-parallel-item::after {content: \"\";width: 100%;border-bottom: 1px solid gray;flex-grow: 1;}#sk-container-id-1 div.sk-label:hover label.sk-toggleable__label {background-color: #d4ebff;}#sk-container-id-1 div.sk-serial::before {content: \"\";position: absolute;border-left: 1px solid gray;box-sizing: border-box;top: 0;bottom: 0;left: 50%;z-index: 0;}#sk-container-id-1 div.sk-serial {display: flex;flex-direction: column;align-items: center;background-color: white;padding-right: 0.2em;padding-left: 0.2em;position: relative;}#sk-container-id-1 div.sk-item {position: relative;z-index: 1;}#sk-container-id-1 div.sk-parallel {display: flex;align-items: stretch;justify-content: center;background-color: white;position: relative;}#sk-container-id-1 div.sk-item::before, #sk-container-id-1 div.sk-parallel-item::before {content: \"\";position: absolute;border-left: 1px solid gray;box-sizing: border-box;top: 0;bottom: 0;left: 50%;z-index: -1;}#sk-container-id-1 div.sk-parallel-item {display: flex;flex-direction: column;z-index: 1;position: relative;background-color: white;}#sk-container-id-1 div.sk-parallel-item:first-child::after {align-self: flex-end;width: 50%;}#sk-container-id-1 div.sk-parallel-item:last-child::after {align-self: flex-start;width: 50%;}#sk-container-id-1 div.sk-parallel-item:only-child::after {width: 0;}#sk-container-id-1 div.sk-dashed-wrapped {border: 1px dashed gray;margin: 0 0.4em 0.5em 0.4em;box-sizing: border-box;padding-bottom: 0.4em;background-color: white;}#sk-container-id-1 div.sk-label label {font-family: monospace;font-weight: bold;display: inline-block;line-height: 1.2em;}#sk-container-id-1 div.sk-label-container {text-align: center;}#sk-container-id-1 div.sk-container {/* jupyter's `normalize.less` sets `[hidden] { display: none; }` but bootstrap.min.css set `[hidden] { display: none !important; }` so we also need the `!important` here to be able to override the default hidden behavior on the sphinx rendered scikit-learn.org. See: https://github.com/scikit-learn/scikit-learn/issues/21755 */display: inline-block !important;position: relative;}#sk-container-id-1 div.sk-text-repr-fallback {display: none;}</style><div id=\"sk-container-id-1\" class=\"sk-top-container\"><div class=\"sk-text-repr-fallback\"><pre>Perceptron(tol=1.7)</pre><b>In a Jupyter environment, please rerun this cell to show the HTML representation or trust the notebook. <br />On GitHub, the HTML representation is unable to render, please try loading this page with nbviewer.org.</b></div><div class=\"sk-container\" hidden><div class=\"sk-item\"><div class=\"sk-estimator sk-toggleable\"><input class=\"sk-toggleable__control sk-hidden--visually\" id=\"sk-estimator-id-1\" type=\"checkbox\" checked><label for=\"sk-estimator-id-1\" class=\"sk-toggleable__label sk-toggleable__label-arrow\">Perceptron</label><div class=\"sk-toggleable__content\"><pre>Perceptron(tol=1.7)</pre></div></div></div></div></div>"
            ]
          },
          "metadata": {},
          "execution_count": 4
        }
      ],
      "source": [
        "from sklearn.linear_model import Perceptron\n",
        "\n",
        "\n",
        "modelo = Perceptron(tol=1.7)\n",
        "modelo.fit(entradas_treino, classes_treino)"
      ]
    },
    {
      "cell_type": "code",
      "execution_count": 5,
      "id": "ca9fadcc",
      "metadata": {
        "id": "ca9fadcc"
      },
      "outputs": [],
      "source": [
        "classes_encontradas = modelo.predict(entradas_teste)"
      ]
    },
    {
      "cell_type": "code",
      "execution_count": 6,
      "id": "224a0512",
      "metadata": {
        "id": "224a0512",
        "outputId": "8342fb11-aa23-4e5d-edea-62d61c723603",
        "colab": {
          "base_uri": "https://localhost:8080/"
        }
      },
      "outputs": [
        {
          "output_type": "stream",
          "name": "stdout",
          "text": [
            "Acerto médio de classificação treino:  0.675\n",
            "Acerto médio de classificação teste:  0.6333333333333333\n"
          ]
        }
      ],
      "source": [
        "from sklearn.metrics import accuracy_score\n",
        "\n",
        "classes_encontradas_train = modelo.predict(entradas_treino)\n",
        "print(\"Acerto médio de classificação treino: \",accuracy_score(classes_encontradas_train, classes_treino))\n",
        "\n",
        "classes_encontradas = modelo.predict(entradas_teste)\n",
        "print(\"Acerto médio de classificação teste: \",accuracy_score(classes_encontradas, classes_teste))"
      ]
    },
    {
      "cell_type": "markdown",
      "id": "64db6f30",
      "metadata": {
        "id": "64db6f30"
      },
      "source": [
        "### Análise F1-Score\n",
        "\n",
        "A pontuação F1 pode ser interpretada como uma média ponderada da precision e recall.\n",
        "\n",
        " - Melhor valor = 1\n",
        " - Pior valor = 0\n",
        "\n",
        "A contribuição relativa de precision e recall para a pontuação F1 são iguais. A fórmula para a pontuação F1 é:\n",
        "\n",
        "F1 = 2 * (precision * recall) / (precision + recall)"
      ]
    },
    {
      "cell_type": "code",
      "execution_count": 7,
      "id": "46414da2",
      "metadata": {
        "id": "46414da2",
        "outputId": "214149df-5a83-4c78-f42c-53d704f8e5cc",
        "colab": {
          "base_uri": "https://localhost:8080/"
        }
      },
      "outputs": [
        {
          "output_type": "stream",
          "name": "stdout",
          "text": [
            "                 precision    recall  f1-score   support\n",
            "\n",
            "    Iris-setosa       1.00      0.77      0.87        13\n",
            "Iris-versicolor       0.00      0.00      0.00         0\n",
            " Iris-virginica       1.00      0.53      0.69        17\n",
            "\n",
            "       accuracy                           0.63        30\n",
            "      macro avg       0.67      0.43      0.52        30\n",
            "   weighted avg       1.00      0.63      0.77        30\n",
            "\n"
          ]
        },
        {
          "output_type": "stream",
          "name": "stderr",
          "text": [
            "/usr/local/lib/python3.9/dist-packages/sklearn/metrics/_classification.py:1344: UndefinedMetricWarning: Recall and F-score are ill-defined and being set to 0.0 in labels with no true samples. Use `zero_division` parameter to control this behavior.\n",
            "  _warn_prf(average, modifier, msg_start, len(result))\n",
            "/usr/local/lib/python3.9/dist-packages/sklearn/metrics/_classification.py:1344: UndefinedMetricWarning: Recall and F-score are ill-defined and being set to 0.0 in labels with no true samples. Use `zero_division` parameter to control this behavior.\n",
            "  _warn_prf(average, modifier, msg_start, len(result))\n",
            "/usr/local/lib/python3.9/dist-packages/sklearn/metrics/_classification.py:1344: UndefinedMetricWarning: Recall and F-score are ill-defined and being set to 0.0 in labels with no true samples. Use `zero_division` parameter to control this behavior.\n",
            "  _warn_prf(average, modifier, msg_start, len(result))\n"
          ]
        }
      ],
      "source": [
        "\n",
        "from sklearn.metrics import classification_report\n",
        "\n",
        "print(classification_report(classes_encontradas, classes_teste))"
      ]
    },
    {
      "cell_type": "markdown",
      "id": "30affd13",
      "metadata": {
        "id": "30affd13"
      },
      "source": [
        "## Multilayer Perceptron (MLP)\n",
        "\n",
        "- O acréscimo de uma nova camada de neurônios, denominada camada oculta, permite criar superfícies de separação não lineares, permitindo a classificação de classes não-linearmente separáveis\n",
        "- A rede MLP é considerada uma rede do tipo feed-forward, já que as saídas dos neurônios das camadas posteriores dependem apenas dos neurônios das camadas anteriores \n",
        "- Em uma rede MLP, não há regra para o número de neurônios a ser usado na camada oculta, e nem há limites para o número de camadas ocultas a serem usadas\n",
        "- Aparentemente, um bom chute inicial é considerar o dobro de neurônios na camada oculta com relação ao tamanho da entrada\n",
        "- É conhecido que com uma única camada oculta com um número suficientemente grande de nós é possível representar qualquer função contínua, e por isso essa estrutura é conhecida como aproximador universal \n",
        "\n",
        "https://scikit-learn.org/stable/modules/generated/sklearn.neural_network.MLPClassifier.html\n",
        "\n"
      ]
    },
    {
      "cell_type": "code",
      "execution_count": 8,
      "id": "efa37d82",
      "metadata": {
        "id": "efa37d82"
      },
      "outputs": [],
      "source": [
        "from sklearn.neural_network import MLPClassifier\n",
        "\n",
        "camadas = [4,3]\n",
        "epocas = 1000\n",
        "batch_size = 10\n",
        "ativacao = 'relu' # Escolha dentre 'logistic', 'tanh' ou 'relu'\n",
        "\n",
        "modelo = MLPClassifier(hidden_layer_sizes=camadas,\n",
        "                    batch_size=batch_size,\n",
        "                    activation=ativacao,\n",
        "                    max_iter=epocas)"
      ]
    },
    {
      "cell_type": "code",
      "execution_count": 9,
      "id": "de7433bd",
      "metadata": {
        "id": "de7433bd",
        "outputId": "38d2c239-580c-4494-afb5-a8b655f5f1e9",
        "colab": {
          "base_uri": "https://localhost:8080/",
          "height": 75
        }
      },
      "outputs": [
        {
          "output_type": "execute_result",
          "data": {
            "text/plain": [
              "MLPClassifier(batch_size=10, hidden_layer_sizes=[4, 3], max_iter=1000)"
            ],
            "text/html": [
              "<style>#sk-container-id-2 {color: black;background-color: white;}#sk-container-id-2 pre{padding: 0;}#sk-container-id-2 div.sk-toggleable {background-color: white;}#sk-container-id-2 label.sk-toggleable__label {cursor: pointer;display: block;width: 100%;margin-bottom: 0;padding: 0.3em;box-sizing: border-box;text-align: center;}#sk-container-id-2 label.sk-toggleable__label-arrow:before {content: \"▸\";float: left;margin-right: 0.25em;color: #696969;}#sk-container-id-2 label.sk-toggleable__label-arrow:hover:before {color: black;}#sk-container-id-2 div.sk-estimator:hover label.sk-toggleable__label-arrow:before {color: black;}#sk-container-id-2 div.sk-toggleable__content {max-height: 0;max-width: 0;overflow: hidden;text-align: left;background-color: #f0f8ff;}#sk-container-id-2 div.sk-toggleable__content pre {margin: 0.2em;color: black;border-radius: 0.25em;background-color: #f0f8ff;}#sk-container-id-2 input.sk-toggleable__control:checked~div.sk-toggleable__content {max-height: 200px;max-width: 100%;overflow: auto;}#sk-container-id-2 input.sk-toggleable__control:checked~label.sk-toggleable__label-arrow:before {content: \"▾\";}#sk-container-id-2 div.sk-estimator input.sk-toggleable__control:checked~label.sk-toggleable__label {background-color: #d4ebff;}#sk-container-id-2 div.sk-label input.sk-toggleable__control:checked~label.sk-toggleable__label {background-color: #d4ebff;}#sk-container-id-2 input.sk-hidden--visually {border: 0;clip: rect(1px 1px 1px 1px);clip: rect(1px, 1px, 1px, 1px);height: 1px;margin: -1px;overflow: hidden;padding: 0;position: absolute;width: 1px;}#sk-container-id-2 div.sk-estimator {font-family: monospace;background-color: #f0f8ff;border: 1px dotted black;border-radius: 0.25em;box-sizing: border-box;margin-bottom: 0.5em;}#sk-container-id-2 div.sk-estimator:hover {background-color: #d4ebff;}#sk-container-id-2 div.sk-parallel-item::after {content: \"\";width: 100%;border-bottom: 1px solid gray;flex-grow: 1;}#sk-container-id-2 div.sk-label:hover label.sk-toggleable__label {background-color: #d4ebff;}#sk-container-id-2 div.sk-serial::before {content: \"\";position: absolute;border-left: 1px solid gray;box-sizing: border-box;top: 0;bottom: 0;left: 50%;z-index: 0;}#sk-container-id-2 div.sk-serial {display: flex;flex-direction: column;align-items: center;background-color: white;padding-right: 0.2em;padding-left: 0.2em;position: relative;}#sk-container-id-2 div.sk-item {position: relative;z-index: 1;}#sk-container-id-2 div.sk-parallel {display: flex;align-items: stretch;justify-content: center;background-color: white;position: relative;}#sk-container-id-2 div.sk-item::before, #sk-container-id-2 div.sk-parallel-item::before {content: \"\";position: absolute;border-left: 1px solid gray;box-sizing: border-box;top: 0;bottom: 0;left: 50%;z-index: -1;}#sk-container-id-2 div.sk-parallel-item {display: flex;flex-direction: column;z-index: 1;position: relative;background-color: white;}#sk-container-id-2 div.sk-parallel-item:first-child::after {align-self: flex-end;width: 50%;}#sk-container-id-2 div.sk-parallel-item:last-child::after {align-self: flex-start;width: 50%;}#sk-container-id-2 div.sk-parallel-item:only-child::after {width: 0;}#sk-container-id-2 div.sk-dashed-wrapped {border: 1px dashed gray;margin: 0 0.4em 0.5em 0.4em;box-sizing: border-box;padding-bottom: 0.4em;background-color: white;}#sk-container-id-2 div.sk-label label {font-family: monospace;font-weight: bold;display: inline-block;line-height: 1.2em;}#sk-container-id-2 div.sk-label-container {text-align: center;}#sk-container-id-2 div.sk-container {/* jupyter's `normalize.less` sets `[hidden] { display: none; }` but bootstrap.min.css set `[hidden] { display: none !important; }` so we also need the `!important` here to be able to override the default hidden behavior on the sphinx rendered scikit-learn.org. See: https://github.com/scikit-learn/scikit-learn/issues/21755 */display: inline-block !important;position: relative;}#sk-container-id-2 div.sk-text-repr-fallback {display: none;}</style><div id=\"sk-container-id-2\" class=\"sk-top-container\"><div class=\"sk-text-repr-fallback\"><pre>MLPClassifier(batch_size=10, hidden_layer_sizes=[4, 3], max_iter=1000)</pre><b>In a Jupyter environment, please rerun this cell to show the HTML representation or trust the notebook. <br />On GitHub, the HTML representation is unable to render, please try loading this page with nbviewer.org.</b></div><div class=\"sk-container\" hidden><div class=\"sk-item\"><div class=\"sk-estimator sk-toggleable\"><input class=\"sk-toggleable__control sk-hidden--visually\" id=\"sk-estimator-id-2\" type=\"checkbox\" checked><label for=\"sk-estimator-id-2\" class=\"sk-toggleable__label sk-toggleable__label-arrow\">MLPClassifier</label><div class=\"sk-toggleable__content\"><pre>MLPClassifier(batch_size=10, hidden_layer_sizes=[4, 3], max_iter=1000)</pre></div></div></div></div></div>"
            ]
          },
          "metadata": {},
          "execution_count": 9
        }
      ],
      "source": [
        "\n",
        "modelo.fit(entradas_treino, classes_treino)"
      ]
    },
    {
      "cell_type": "code",
      "execution_count": 10,
      "id": "20327dda",
      "metadata": {
        "id": "20327dda",
        "outputId": "812a1df4-5f8e-4e71-92d5-cfc0870c369b",
        "colab": {
          "base_uri": "https://localhost:8080/"
        }
      },
      "outputs": [
        {
          "output_type": "stream",
          "name": "stdout",
          "text": [
            "Acerto médio de classificação treino:  0.9666666666666667\n",
            "Acerto médio de classificação teste:  0.9666666666666667\n"
          ]
        }
      ],
      "source": [
        "from sklearn.metrics import accuracy_score\n",
        "\n",
        "\n",
        "classes_encontradas_train = modelo.predict(entradas_treino)\n",
        "print(\"Acerto médio de classificação treino: \",accuracy_score(classes_encontradas_train, classes_treino))\n",
        "\n",
        "classes_encontradas = modelo.predict(entradas_teste)\n",
        "print(\"Acerto médio de classificação teste: \",accuracy_score(classes_encontradas, classes_teste))\n"
      ]
    },
    {
      "cell_type": "code",
      "execution_count": 11,
      "id": "1ee2c3c9",
      "metadata": {
        "id": "1ee2c3c9",
        "outputId": "448efc5b-dc07-4fc0-cba8-6cc577e02973",
        "colab": {
          "base_uri": "https://localhost:8080/"
        }
      },
      "outputs": [
        {
          "output_type": "stream",
          "name": "stdout",
          "text": [
            "                 precision    recall  f1-score   support\n",
            "\n",
            "    Iris-setosa       1.00      1.00      1.00        10\n",
            "Iris-versicolor       1.00      0.92      0.96        12\n",
            " Iris-virginica       0.89      1.00      0.94         8\n",
            "\n",
            "       accuracy                           0.97        30\n",
            "      macro avg       0.96      0.97      0.97        30\n",
            "   weighted avg       0.97      0.97      0.97        30\n",
            "\n"
          ]
        }
      ],
      "source": [
        "from sklearn.metrics import classification_report\n",
        "\n",
        "print(classification_report(classes_encontradas, classes_teste))"
      ]
    },
    {
      "cell_type": "markdown",
      "id": "cab6a9d3",
      "metadata": {
        "id": "cab6a9d3"
      },
      "source": [
        "## Desafio1\n",
        "Escolha uma dos exemplos dados em sala de aula e implemente um MLP com pelo menos 10 neuronios na camada escondida:\n",
        "\n",
        "OBS: Só não vale o data da Iris, pois acabamos de usar... "
      ]
    },
    {
      "cell_type": "code",
      "execution_count": null,
      "id": "4c095926",
      "metadata": {
        "id": "4c095926"
      },
      "outputs": [],
      "source": [
        "## Seu código aqui.......\n",
        "\n",
        "\n"
      ]
    }
  ],
  "metadata": {
    "kernelspec": {
      "display_name": "Python 3",
      "language": "python",
      "name": "python3"
    },
    "language_info": {
      "codemirror_mode": {
        "name": "ipython",
        "version": 3
      },
      "file_extension": ".py",
      "mimetype": "text/x-python",
      "name": "python",
      "nbconvert_exporter": "python",
      "pygments_lexer": "ipython3",
      "version": "3.9.5 (tags/v3.9.5:0a7dcbd, May  3 2021, 17:27:52) [MSC v.1928 64 bit (AMD64)]"
    },
    "vscode": {
      "interpreter": {
        "hash": "8d68938bd6f1c8d824a292cb48fdc812f23ce0d2e12c844cec6ac89d2f668725"
      }
    },
    "colab": {
      "provenance": [],
      "include_colab_link": true
    }
  },
  "nbformat": 4,
  "nbformat_minor": 5
}